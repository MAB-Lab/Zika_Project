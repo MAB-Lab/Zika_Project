{
 "cells": [
  {
   "cell_type": "markdown",
   "metadata": {},
   "source": [
    "S.Leblanc, M.Brunet\n",
    "<br>06/09/2020"
   ]
  },
  {
   "cell_type": "markdown",
   "metadata": {},
   "source": [
    "This notebook contains the re-analysis of affinity purification-mass spectrometry experiments to investigate virus protein-host protein interactions with a proteogenomics approach.<br>\n",
    "The following steps are performed in order:\n",
    "1. Creation of protein library using RNAseq data\n",
    "2. MS analysis using tools from Compomics\n",
    "3. Extract PSMs from MS analysis reports\n",
    "4. Generate files necessary for MiST\n",
    "5. Run MiST\n",
    "6. Compare sets of protein interactions"
   ]
  },
  {
   "cell_type": "code",
   "execution_count": null,
   "metadata": {},
   "outputs": [],
   "source": [
    "from proteogeno.utils import *"
   ]
  },
  {
   "cell_type": "markdown",
   "metadata": {
    "heading_collapsed": true
   },
   "source": [
    "## Generate protein library based on transcriptomic data"
   ]
  },
  {
   "cell_type": "code",
   "execution_count": 148,
   "metadata": {
    "ExecuteTime": {
     "end_time": "2020-09-22T04:10:54.881898Z",
     "start_time": "2020-09-22T04:10:36.436373Z"
    },
    "hidden": true
   },
   "outputs": [],
   "source": [
    "# dictionary of all OpenProt 1.5 proteins by transcript\n",
    "enst_trxps = []\n",
    "all_prots_by_trxp = {}\n",
    "with open('human-openprot-r1_5-refprots+altprots+isoforms-+uniprot2019_03_01.tsv', 'r') as f:\n",
    "    for n,l in enumerate(f):\n",
    "        if l[0]=='#': continue\n",
    "        ls = l.strip().split('\\t')    \n",
    "        if n==1:\n",
    "            keys = ls\n",
    "        line=dict(zip(keys, ls))\n",
    "        trxp_acc = line['transcript accession'].split('.')[0]\n",
    "        if 'ENST' not in trxp_acc: continue        \n",
    "        if trxp_acc not in all_prots_by_trxp:\n",
    "            all_prots_by_trxp[trxp_acc] = [line['protein accession numbers']]\n",
    "        else:\n",
    "            all_prots_by_trxp[trxp_acc].append(line['protein accession numbers'])\n",
    "        if line['protein type'] != 'RefProt':continue\n",
    "        uniprot_acc = [x.split('-')[0] for x in line['protein accession (others)'].split(';') if 'ENSP' not in x and '_' not in x]\n",
    "        if not uniprot_acc: continue\n",
    "        enst_trxps.append((uniprot_acc[0], trxp_acc))\n",
    "\n",
    "\n",
    "uniprot_enst_trxps = {}\n",
    "for prot_acc, trxps in itt.groupby(sorted(enst_trxps), key=lambda x: x[0]):\n",
    "    uniprot_enst_trxps[prot_acc] = list(set(x[1] for x in trxps))"
   ]
  },
  {
   "cell_type": "code",
   "execution_count": 200,
   "metadata": {
    "ExecuteTime": {
     "end_time": "2020-09-22T04:24:44.037092Z",
     "start_time": "2020-09-22T04:21:57.941910Z"
    },
    "hidden": true
   },
   "outputs": [
    {
     "name": "stdout",
     "output_type": "stream",
     "text": [
      "4 [('ENST00000417324.1', 0.0), ('ENST00000461467.1', 0.0), ('ENST00000642116.1', 0.0)]\n"
     ]
    }
   ],
   "source": [
    "transcripto_files = {\n",
    "    'mock' : ['SRR3191542', 'SRR3191543'],\n",
    "    'zika' : ['SRR3191544', 'SRR3191545']\n",
    "}\n",
    "\n",
    "cuff_gtfs = {}\n",
    "cuff_trxp_fpkms = {}\n",
    "for exp_id in [x for y in transcripto_files.values() for x in y if type(y)==list]:\n",
    "    cuff_gtf_path = '/home/xroucou_group/echange_de_fichiers/Zika_Marie_Seb/Results_CuffLinks/{}/transcripts.gtf'.format(exp_id) \n",
    "    cuff_gtfs[exp_id] = parse_gtf(cuff_gtf_path)\n",
    "    cuff_trxp_fpkms[exp_id] = {x['desc']['transcript_id']:x['desc']['FPKM'] for x in cuff_gtfs[exp_id] if x['feature']=='transcript'}\n",
    "\n",
    "print(len(cuff_trxp_fpkms), list(cuff_trxp_fpkms['SRR3191545'].items())[:3])"
   ]
  },
  {
   "cell_type": "code",
   "execution_count": 201,
   "metadata": {
    "ExecuteTime": {
     "end_time": "2020-09-22T04:24:46.962590Z",
     "start_time": "2020-09-22T04:24:44.040293Z"
    },
    "hidden": true,
    "scrolled": true
   },
   "outputs": [
    {
     "data": {
      "image/png": "[encoded data removed]",
      "text/plain": [
       "<Figure size 432x288 with 1 Axes>"
      ]
     },
     "metadata": {},
     "output_type": "display_data"
    }
   ],
   "source": [
    "enst_fpkms = [v for k,v in cuff_trxp_fpkms['SRR3191545'].items() if 'CUFF' not in k]\n",
    "cuff_fpkms = [v for k,v in cuff_trxp_fpkms['SRR3191545'].items() if 'CUFF' in k]\n",
    "\n",
    "plt.figure(facecolor='w')\n",
    "plt.hist(enst_fpkms, bins=200, color='k', label='annotated transcripts')\n",
    "plt.hist(cuff_fpkms, bins=30, color='#0072b2fa', label='novel transcripts')\n",
    "plt.xlim(0,3000)\n",
    "plt.yscale('log')\n",
    "plt.xlabel('FPKM')\n",
    "plt.ylabel('count transcripts')\n",
    "plt.legend()\n",
    "plt.savefig('/home/xroucou_group/echange_de_fichiers/Zika_Marie_Seb/figure_pannels/fpkm_histo.svg')\n",
    "plt.show()"
   ]
  },
  {
   "cell_type": "code",
   "execution_count": 202,
   "metadata": {
    "ExecuteTime": {
     "end_time": "2020-09-22T04:28:46.898528Z",
     "start_time": "2020-09-22T04:24:46.965313Z"
    },
    "hidden": true
   },
   "outputs": [],
   "source": [
    "# Use gffread to extract sequences of cufflink transcripts\n",
    "for rnaseq_file in ['SRR3191542', 'SRR3191543', 'SRR3191544', 'SRR3191545']:  \n",
    "    genome_fasta      = '/home/xroucou_group/echange_de_fichiers/Zika_Marie_Seb/GRCh38.primary_assembly.genome.fa'\n",
    "    gffread_path      = '/home/sleblanc/cufflinks-2.2.1.Linux_x86_64/gffread'\n",
    "    trxp_fasta_output = '/home/sleblanc/ZIKV_{}_transcripts.fa'.format(rnaseq_file)\n",
    "    cuff_gtf_path     = '/home/xroucou_group/echange_de_fichiers/Zika_Marie_Seb/Results_CuffLinks/{}/transcripts.gtf'.format(rnaseq_file)\n",
    "    cmd = '{gffread_path} -w {trxp_fasta_output} -g {genome_fasta} {cuff_gtf_path}'.format(\n",
    "        genome_fasta=genome_fasta,\n",
    "        gffread_path=gffread_path,\n",
    "        cuff_gtf_path=cuff_gtf_path,\n",
    "        trxp_fasta_output=trxp_fasta_output,\n",
    "    )\n",
    "\n",
    "    result = subprocess.run(cmd.split(), stdout=open('{}_gffread_stdout.log'.format(rnaseq_file), 'w'), stderr=open('{}_gffread_stderr.log'.format(rnaseq_file), 'w'))"
   ]
  },
  {
   "cell_type": "code",
   "execution_count": 203,
   "metadata": {
    "ExecuteTime": {
     "end_time": "2020-09-22T04:41:41.385146Z",
     "start_time": "2020-09-22T04:28:46.903317Z"
    },
    "collapsed": true,
    "hidden": true
   },
   "outputs": [
    {
     "name": "stdout",
     "output_type": "stream",
     "text": [
      "SRR3191542 {'count orfs in CUFF trxps': 21012, 'count orfs in ENST trxps': 169550, 'count orfs in all trxps': 190562}\n",
      "SRR3191543 {'count orfs in CUFF trxps': 20019, 'count orfs in ENST trxps': 169553, 'count orfs in all trxps': 189572}\n",
      "SRR3191544 {'count orfs in CUFF trxps': 19316, 'count orfs in ENST trxps': 169559, 'count orfs in all trxps': 188875}\n",
      "SRR3191545 {'count orfs in CUFF trxps': 20179, 'count orfs in ENST trxps': 169558, 'count orfs in all trxps': 189737}\n"
     ]
    },
    {
     "data": {
      "text/plain": [
       "[('ENST00000456328',\n",
       "  {'gene': 'CUFF.24',\n",
       "   'trxp_seq': 'GTTAACTTGCCGTCAGCCTTTTCTTTGACCTCTTCTTTCTGTTCATGTGTATTTGCTGTCTCTTAGCCCAGACTTCCCGTGTCCTTTCCACCGGGCCTTTGAGAGGTCACAGGGTCTTGATGCTGTGGTCTTCATCTGCAGGTGTCTGACTTCCAGCAACTGCTGGCCTGTGCCAGGGTGCAAGCTGAGCACTGGAGTGGAGTTTTCCTGTGGAGAGGAGCCATGCCTAGAGTGGGATGGGCCATTGTTCATCTTCTGGCCCCTGTTGTCTGCATGTAACTTAATACCACAACCAGGCATAGGGGAAAGATTGGAGGAAAGATGAGTGAGAGCATCAACTTCTCTCACAACCTAGGCCAGTGTGTGGTGATGCCAGGCATGCCCTTCCCCAGCATCAGGTCTCCAGAGCTGCAGAAGACGACGGCCGACTTGGATCACACTCTTGTGAGTGTCCCCAGTGTTGCAGAGGCAGGGCCATCAGGCACCAAAGGGATTCTGCCAGCATAGTGCTCCTGGACCAGTGATACACCCGGCACCCTGTCCTGGACACGCTGTTGGCCTGGATCTGAGCCCTGGTGGAGGTCAAAGCCACCTTTGGTTCTGCCATTGCTGCTGTGTGGAAGTTCACTCCTGCCTTTTCCTTTCCCTAGAGCCTCCACCACCCCGAGATCACATTTCTCACTGCCTTTTGTCTGCCCAGTTTCACCAGAAGTAGGCCTCTTCCTGACAGGCAGCTGCACCACTGCCTGGCGCTGTGCCCTTCCTTTGCTCTGCCCGCTGGAGACGGTGTTTGTCATGGGCCTGGTCTGCAGGGATCCTGCTACAAAGGTGAAACCCAGGAGAGTGTGGAGTCCAGAGTGTTGCCAGGACCCAGGCACAGGCATTAGTGCCCGTTGGAGAAAACAGGGGAATCCCGAAGAAATGGTGGGTCCTGGCCATCCGTGAGATCTTCCCAGGGCAGCTCCCCTCTGTGGAATCCAATCTGTCTTCCATCCTGCGTGGCCGAGGGCCAGGCTTCTCACTGGGCCTCTGCAGGAGGCTGCCATTTGTCCTGCCCACCTTCTTAGAAGCGAGACGGAGCAGACCCATCTGCTACTGCCCTTTCTATAATAACTAAAGTTAGCTGCCCTGGACTATTCACCCCCTAGTCTCAATTTAAGAAGATCCCCATGGCCACAGGGCCCCTGCCTGGGGGCTTGTCACCTCCCCCACCTTCTTCCTGAGTCATTCCTGCAGCCTTGCTCCCTAACCTGCCCCACAGCCTTGCCTGGATTTCTATCTCCCTGGCTTGGTGCCAGTTCCTCCAAGTCGATGGCACCTCCCTCCCTCTCAACCACTTGAGCAAACTCCAAGACATCTTCTACCCCAACACCAGCAATTGTGCCAAGGGCCATTAGGCTCTCAGCATGACTATTTTTAGAGACCCCGTGTCTGTCACTGAAACCTTTTTTGTGGGAGACTATTCCTCCCATCTGCAACAGCTGCCCCTGCTGACTGCCCTTCTCTCCTCCCTCTCATCCCAGAGAAACAGGTCAGCTGGGAGCTTCTGCCCCCACTGCCTAGGGACCAACAGGGGCAGGAGGCAGTCACTGACCCCGAGACGTTTGCATCCTGCACAGCTAGAGATCCTTTATTAAAAGCACACTGTTGGTTTCTG',\n",
       "   'orfs': ['MSESINFSHNLGQCVVMPGMPFPSIRSPELQKTTADLDHTLVSVPSVAEAGPSGTKGILPA',\n",
       "    'MGLVCRDPATKVKPRRVWSPECCQDPGTGISARWRKQGNPEEMVGPGHP'],\n",
       "   'coord': {'chrom': 'chr1', 'start': 11869, 'end': 14409}}),\n",
       " ('ENST00000450305',\n",
       "  {'gene': 'CUFF.24',\n",
       "   'trxp_seq': 'GTGTCTGACTTCCAGCAACTGCTGGCCTGTGCCAGGGTGCAAGCTGAGTTGGAGGAAAGATGAGTGAGAGCATCAACTTCTCTCACAACCTAGGCCAGTGTGTGGTGATGCCAGGCATGCCCTTCCCCAGCATCAGGTCTCCAGAGCTGCAGAAGACGACGGCCGACTTGGATCACACTCTTCTCAGAGCCCAGGCCAGGGGCCCCCAAGAAAGGCTCTGGTGGAGAACCTGTGCATGAAGGCTGTCAACCAGTCCATAGGCAGGGCCATCAGGCACCAAAGGGATTCTGCCAGCATAGTGCTCCTGGACCAGTGATACACCCGGCACCCTGTCCTGGACACGCTGTTGGCCTGGATCTGAGCCCTGGTGGAGGTCAAAGCCACCTTTGGTTCTGCCATTGCTGCTGTGTGGAATTTCACCAGAAGTAGGCCTCTTCCTGACAGGCAGCTGCACCACTGCCTGGCGCTGTGCCCTTCCTTTGCTCTGCCCGCTGGAGACGGTGTTTGTCATGGGCCTGGTCTGCAGGGATCCTGCTACAAAGGTGAAACCCAGGAGAGTGTGGAGTCCAGAGTGTTGCCAGGACCCAGGCACAGGCATTAGTGCCCGTTGGAGAAAACAGGGGAATCCCGAA',\n",
       "   'orfs': [],\n",
       "   'coord': {'chrom': 'chr1', 'start': 12010, 'end': 13670}}),\n",
       " ('ENST00000488147',\n",
       "  {'gene': 'CUFF.26',\n",
       "   'trxp_seq': 'ATGGGAGCCGTGTGCACGTCGGGAGCTCGGAGTGAGCGCACCATGACTCCTGTGAGGATGCAGCACTCCCTGGCAGGTCAGACCTATGCCGTGCCCTTCATCCAGCCAGACCTGCGGCGAGAGGAGGCCGTCCAGCAGATGGCGGATGCCCTGCAGTACCTGCAGAAGGTCTCTGGAGACATCTTCAGCAGGTAGAGCAGAGCCGGAGCCAGGTGCAGGCCATTGGAGAGAAGGTCTCCTTGGCCCAGGCCAAGATTGAGAAGATCAAGGGCAGCAAGAAGGCCATCAAGGTGTTCTCCAGTGCCAAGTACCCTGCTCCAGGGCGCCTGCAGGAATATGGCTCCATCTTCACGGGCGCCCAGGACCCTGGCCTGCAGAGACGCCCCCGCCACAGGATCCAGAGCAAGCACCGCCCCCTGGACGAGCGGGCCCTGCAGGAGAAGCTGAAGGACTTTCCTGTGTGCGTGAGCACCAAGCCGGAGCCCGAGGACGATGCAGAAGAGGGACTTGGGGGTCTTCCCAGCAACATCAGCTCTGTCAGCTCCTTGCTGCTCTTCAACACCACCGAGAACCTGTAGAAGAAGTATGTCTTCCTGGACCCCCTGGCTGGTGCTGTAACAAAGACCCATGTGATGCTGGGGGCAGAGACAGAGGAGAAGCTGTTTGATGCCCCCTTGTCCATCAGCAAGAGAGAGCAGCTGGAACAGCAGGTCCCAGAGAACTACTTCTATGTGCCAGACCTGGGCCAGGTGCCTGAGATTGATGTTCCATCCTACCTGCCTGACCTGCCCGGCATTGCCAACGACCTCATGTACATTGCCGACCTGGGCCCCGGCATTGCCCCCTCTGCCCCTGGCACCATTCCAGAACTGCCCACCTTCCACACTGAGGTAGCCGAGCCTCTCAAGACCTACAAGATGGGGTACTAACACCACCCCCACCGCCCCCACCACCACCCCCAGCTCCTGAGGTGCTGGCCAGTGCACCCCCACTCCCACCCTCAACCGCGGCCCCTGTAGGCCAAGGCGCCAGGCAGGACGACAGCAGCAGCAGCGCGTCTCCTTCAGTCCAGGGAGCTCCCAGGGAAGTGGTTGACCCCTCCGGTGGCTGGCCACTCTGCTAGAGTCCATCCGCCAAGCTGGGGGCATCGGCAAGGCCAAGCTGCGCAGCATGAAGGAGCGAAAGCTGGAGAAGCAGCAGCAGAAGGAGCAGGAGCAAGTGAGAGCCACGAGCCAAGGTGGGCACTTGATGTCGCTCCATGGGGGGACGGCTCCACCCAGCCTGCGCCACTGTGTTCTTAAGAGGCTTCCAGAGAAAACGGCACACCAATCAATAAAGAACTGAGCAGAAA',\n",
       "   'orfs': ['MGAVCTSGARSERTMTPVRMQHSLAGQTYAVPFIQPDLRREEAVQQMADALQYLQKVSGDIFSR',\n",
       "    'MAPSSRAPRTLACRDAPATGSRASTAPWTSGPCRRS',\n",
       "    'MQKRDLGVFPATSALSAPCCSSTPPRTCRRSMSSWTPWLVL',\n",
       "    'MPPCPSARESSWNSRSQRTTSMCQTWARCLRLMFHPTCLTCPALPTTSCTLPTWAPALPPLPLAPFQNCPPSTLR',\n",
       "    'MKERKLEKQQQKEQEQVRATSQGGHLMSLHGGTAPPSLRHCVLKRLPEKTAHQSIKN'],\n",
       "   'coord': {'chrom': 'chr1', 'start': 14404, 'end': 29570}})]"
      ]
     },
     "execution_count": 203,
     "metadata": {},
     "output_type": "execute_result"
    }
   ],
   "source": [
    "zikv_custom_trxps = {}\n",
    "for exp_id in ['SRR3191542', 'SRR3191543', 'SRR3191544', 'SRR3191545']:\n",
    "    zik_trxp_fasta = SeqIO.parse('/home/sleblanc/ZIKV_{}_transcripts.fa'.format(exp_id), 'fasta')\n",
    "    coord_dict = {x['desc']['transcript_id'].split('.')[0] if 'ENST' in x['desc']['transcript_id'] else x['desc']['transcript_id']:x for x in cuff_gtfs[exp_id] if x['feature']=='transcript'}\n",
    "    zikv_custom_trxps[exp_id] = {}\n",
    "    for trxp in zik_trxp_fasta:\n",
    "        trxp_acc = trxp.description.split()[0].split('.')[0] if 'ENST' in trxp.description.split()[0] else trxp.description.split()[0]\n",
    "        gene = trxp.description.split('gene=')[1]\n",
    "        zikv_custom_trxps[exp_id][trxp_acc] = {\n",
    "            'gene'     : gene,\n",
    "            'trxp_seq' : str(trxp.seq),\n",
    "            'orfs'     : altorfs_3frame(trxp.seq),\n",
    "            'coord'    : {\n",
    "                'chrom' : coord_dict[trxp_acc]['chrom'], \n",
    "                'start' : int(coord_dict[trxp_acc]['start']), \n",
    "                'end'   : int(coord_dict[trxp_acc]['end']),\n",
    "            },\n",
    "        }\n",
    "\n",
    "for exp_id, trxps in zikv_custom_trxps.items():\n",
    "    trxp_summary = { \n",
    "        'count orfs in CUFF trxps':sum([len(v['orfs']) for k,v in trxps.items() if 'CUFF' in k]),\n",
    "        'count orfs in ENST trxps':sum([len(v['orfs']) for k,v in trxps.items() if 'ENST' in k]),\n",
    "        'count orfs in all trxps':sum([len(v['orfs']) for k,v in trxps.items()]),\n",
    "    }\n",
    "    print(exp_id, trxp_summary)\n",
    "\n",
    "list(zikv_custom_trxps['SRR3191545'].items())[:3]"
   ]
  },
  {
   "cell_type": "code",
   "execution_count": 204,
   "metadata": {
    "ExecuteTime": {
     "end_time": "2020-09-22T04:41:43.058694Z",
     "start_time": "2020-09-22T04:41:41.388313Z"
    },
    "hidden": true
   },
   "outputs": [
    {
     "name": "stdout",
     "output_type": "stream",
     "text": [
      "('chr5', 147390808, 147454266)\n",
      "('chr1', 1785285, 1832285)\n",
      "('chr1', 1785285, 1890401)\n",
      "('chr3', 149964904, 149970401)\n",
      "('chr7', 73440406, 73522293)\n",
      "('chr8', 30785616, 30812878)\n",
      "('chr8', 116845935, 116874528)\n",
      "('chr1', 52020131, 52024656)\n",
      "('chr3', 133805615, 133821492)\n",
      "('chr1', 51354263, 51422104)\n"
     ]
    }
   ],
   "source": [
    "cuff_trxp_by_reps = {}\n",
    "trxp_seq_to_acc   = {}\n",
    "for mock_zika in ['mock', 'zika']:\n",
    "    cuff_trxp_by_reps[mock_zika] = {'combined_reps':[], }\n",
    "    trxp_seq_to_acc[mock_zika] = {}\n",
    "    for exp_id in transcripto_files[mock_zika]:\n",
    "        cuff_trxp_by_reps[mock_zika][exp_id] = list(set(v['trxp_seq'] for k,v in zikv_custom_trxps[exp_id].items() if 'CUFF' in k))\n",
    "        cuff_trxp_by_reps[mock_zika]['combined_reps'].extend(cuff_trxp_by_reps[mock_zika][exp_id])\n",
    "        trxp_seq_to_acc[mock_zika][exp_id] = {v['trxp_seq']:k for k,v in zikv_custom_trxps[exp_id].items() if 'CUFF' in k}\n",
    "\n",
    "cuff_trxps = {}\n",
    "rep_trxp_accs = {}\n",
    "for mock_zika in ['mock', 'zika']:\n",
    "    cuff_trxps[mock_zika] = {}\n",
    "    rep_trxp_accs[mock_zika] = {}\n",
    "    count_cuff_reps = Counter(cuff_trxp_by_reps[mock_zika]['combined_reps'])\n",
    "    cuff_trxps_in_both_reps = [k for k,v in count_cuff_reps.items() if v>1]\n",
    "    for n, trxp_seq in enumerate(cuff_trxps_in_both_reps):\n",
    "        trxp_accs_fkpm = {\n",
    "            trxp_seq_to_acc[mock_zika][exp_id][trxp_seq]: cuff_trxp_fpkms[exp_id][trxp_seq_to_acc[mock_zika][exp_id][trxp_seq]] \n",
    "            for exp_id in transcripto_files[mock_zika]\n",
    "        }\n",
    "        \n",
    "        trxp_acc = 'CUFF_' + mock_zika + '_tx' + '0'*(4-len(str(n))) + str(n)\n",
    "        rep_trxp_accs[mock_zika][trxp_acc] = tuple(trxp_accs_fkpm.keys())\n",
    "        cuff_trxps[mock_zika][trxp_acc] = {'orfs':altorfs_3frame(trxp_seq), 'fpkm':np.mean(list(trxp_accs_fkpm.values()))}\n",
    "\n",
    "for trxp_comb_acc, high_cuff_trxp in sorted(cuff_trxps['zika'].items(), key=lambda x: -1*x[1]['fpkm'])[:10]:\n",
    "    trxp_acc1, trxp_acc2 = rep_trxp_accs['zika'][trxp_comb_acc]\n",
    "    if trxp_acc1 in zikv_custom_trxps[transcripto_files['zika'][0]]:\n",
    "        coord = tuple(zikv_custom_trxps[transcripto_files['zika'][0]][trxp_acc1]['coord'][x] for x in ['chrom', 'start', 'end'])\n",
    "    else:\n",
    "        coord = tuple(zikv_custom_trxps[transcripto_files['zika'][1]][trxp_acc1]['coord'][x] for x in ['chrom', 'start', 'end'])\n",
    "    print(coord)"
   ]
  },
  {
   "cell_type": "code",
   "execution_count": 205,
   "metadata": {
    "ExecuteTime": {
     "end_time": "2020-09-22T04:41:54.809938Z",
     "start_time": "2020-09-22T04:41:43.060833Z"
    },
    "hidden": true
   },
   "outputs": [],
   "source": [
    "# average transcript abundance (FPKMs) across duplicates\n",
    "transcripto_zika = []\n",
    "for exp_id in transcripto_files['zika']:\n",
    "    transcripto_zika.extend([(x['desc']['transcript_id'], x['desc']['FPKM']) for x in cuff_gtfs[exp_id] if x['feature']=='transcript'])\n",
    "        \n",
    "lone_trxp = []\n",
    "zika_trxps = []\n",
    "for trxp, fpkms in itt.groupby(sorted(transcripto_zika), key=lambda x: x[0]):\n",
    "    if 'CUFF' in trxp: continue\n",
    "    trxp = trxp.split('.')[0]\n",
    "    fpkms = [x[1] for x in fpkms]\n",
    "    if len(fpkms) > 2:\n",
    "        print('error')\n",
    "        break\n",
    "    if len(fpkms)==1:\n",
    "        lone_trxp.append((exp_id, trxp, fpkms[0]))\n",
    "    zika_trxps.append((trxp, np.mean(fpkms)))"
   ]
  },
  {
   "cell_type": "code",
   "execution_count": 211,
   "metadata": {
    "ExecuteTime": {
     "end_time": "2020-09-22T04:58:31.532678Z",
     "start_time": "2020-09-22T04:58:31.378809Z"
    },
    "hidden": true
   },
   "outputs": [],
   "source": [
    "zika_trxp_fpkm = dict(zika_trxps)\n",
    "zikv_ctrl_metrics = []\n",
    "with open('ZIKV_ctrl_metrics.out', 'r') as f:\n",
    "    for n,l in enumerate(f):\n",
    "        ls = l.strip().split('\\t')\n",
    "        if n==0:\n",
    "            keys = ls\n",
    "            continue\n",
    "        line = dict(zip(keys, ls))\n",
    "        line['mist_score'] = 0.\n",
    "        for k in ['Reproducibility', 'Abundance', 'Specificity']:\n",
    "            line[k] = float(line[k])\n",
    "            line['mist_score'] += line[k]*ctrl_weights[k]\n",
    "        zikv_ctrl_metrics.append(line)"
   ]
  },
  {
   "cell_type": "code",
   "execution_count": 212,
   "metadata": {
    "ExecuteTime": {
     "end_time": "2020-09-22T04:58:38.678912Z",
     "start_time": "2020-09-22T04:58:38.665993Z"
    },
    "hidden": true
   },
   "outputs": [
    {
     "name": "stdout",
     "output_type": "stream",
     "text": [
      "2486 ['Q9H871', 'O75027', 'Q5VT06', 'P62277', 'Q9NV31']\n"
     ]
    }
   ],
   "source": [
    "zikv_ctrl_preys = set(x['Prey'] for x in zikv_ctrl_metrics)\n",
    "print(len(zikv_ctrl_preys), list(zikv_ctrl_preys)[:5])"
   ]
  },
  {
   "cell_type": "code",
   "execution_count": 213,
   "metadata": {
    "ExecuteTime": {
     "end_time": "2020-09-22T04:58:39.651925Z",
     "start_time": "2020-09-22T04:58:39.621292Z"
    },
    "hidden": true
   },
   "outputs": [
    {
     "name": "stdout",
     "output_type": "stream",
     "text": [
      "6080 [('Q9H871', 'ENST00000283632', 20.4105881459), ('O75027', 'ENST00000339447', 2.70998288775), ('O75027', 'ENST00000645829', 1.8349249984), ('O75027', 'ENST00000253577', 0.0), ('O75027', 'ENST00000373394', 0.4764343593)]\n",
      "unique trxps: 6079 ['ENST00000307301', 'ENST00000369905', 'ENST00000361915', 'ENST00000392088', 'ENST00000395245']\n"
     ]
    }
   ],
   "source": [
    "# trxps from ctrl run (only trxps associated with prots from uniprot run)\n",
    "crtl_trxps = []\n",
    "for p in zikv_ctrl_preys:\n",
    "    if p in uniprot_enst_trxps:\n",
    "        trxps = uniprot_enst_trxps[p]\n",
    "        for trxp in trxps:\n",
    "            fpkm = 0\n",
    "            if trxp in zika_trxp_fpkm:\n",
    "                fpkm = zika_trxp_fpkm[trxp]\n",
    "            crtl_trxps.append((p, trxp, fpkm))\n",
    "    \n",
    "print(len(crtl_trxps), crtl_trxps[:5])\n",
    "\n",
    "crtl_trxps_set = set(x[1] for x in crtl_trxps)\n",
    "print('unique trxps:', len(crtl_trxps_set), list(crtl_trxps_set)[:5])"
   ]
  },
  {
   "cell_type": "code",
   "execution_count": 214,
   "metadata": {
    "ExecuteTime": {
     "end_time": "2020-09-22T04:58:50.595876Z",
     "start_time": "2020-09-22T04:58:40.580285Z"
    },
    "hidden": true
   },
   "outputs": [],
   "source": [
    "# db size per fpkm thershold\n",
    "n_recovered_prots, n_wt_prots, n_cuff_prots = [], [], []\n",
    "n_ctrl_prot = len(set(x[0] for x in crtl_trxps))\n",
    "fpkm_thresh_range = np.logspace(-5, 5, 200)\n",
    "for fpkm_thresh in fpkm_thresh_range:\n",
    "    passing_trxps = set(x[0] for x in zika_trxps if x[1]>=fpkm_thresh)\n",
    "    n_recovered_prots.append(len(set(x[0] for x in crtl_trxps if x[2]>=fpkm_thresh))/n_ctrl_prot)\n",
    "    n_wt_prots.append(sum([len(all_prots_by_trxp[x]) for x in passing_trxps if x in all_prots_by_trxp]))\n",
    "    n_cuff_prots.append(sum(len(v['orfs']) for v in cuff_trxps['zika'].values() if v['fpkm']>=fpkm_thresh))"
   ]
  },
  {
   "cell_type": "code",
   "execution_count": 215,
   "metadata": {
    "ExecuteTime": {
     "end_time": "2020-09-22T04:58:50.608012Z",
     "start_time": "2020-09-22T04:58:50.599047Z"
    },
    "hidden": true
   },
   "outputs": [],
   "source": [
    "def get_OP_fpkm_filtered(fpkm_thresh):\n",
    "    passing_trxps = set(x[0] for x in zika_trxps if x[1]>=fpkm_thresh)\n",
    "    custom_fasta = []\n",
    "    for seq in SeqIO.parse('human-openprot-r1_5-refprots+altprots+isoforms-+uniprot2019_03_01.fasta', 'fasta'):\n",
    "        if 'ENST' in seq.description:\n",
    "            header = parse_fasta_header(seq.description)\n",
    "            TAs = [t.split('.')[0] for t in header['TA'].split(',')] # removed version\n",
    "            if any(TA in passing_trxps for TA in TAs):\n",
    "                custom_fasta.append({\n",
    "                    'desc':seq.description,\n",
    "                    'seq' :str(seq.seq)\n",
    "                })\n",
    "                \n",
    "    return custom_fasta"
   ]
  },
  {
   "cell_type": "code",
   "execution_count": 218,
   "metadata": {
    "ExecuteTime": {
     "end_time": "2020-09-22T04:59:01.704035Z",
     "start_time": "2020-09-22T04:59:01.693570Z"
    },
    "hidden": true
   },
   "outputs": [
    {
     "data": {
      "text/plain": [
       "1736"
      ]
     },
     "execution_count": 218,
     "metadata": {},
     "output_type": "execute_result"
    }
   ],
   "source": [
    "rescue_prots = set(x[0] for x in crtl_trxps if x[2]<=fpkm_thresh).intersection(shah_all_preys)\n",
    "len(rescue_prots)"
   ]
  },
  {
   "cell_type": "code",
   "execution_count": 219,
   "metadata": {
    "ExecuteTime": {
     "end_time": "2020-09-22T04:59:01.739999Z",
     "start_time": "2020-09-22T04:59:01.706285Z"
    },
    "hidden": true
   },
   "outputs": [],
   "source": [
    "def generate_custom_db(fpkm_thresh, return_counts_only=False, return_counts_prot_len=False):\n",
    "    if return_counts_prot_len:\n",
    "        orf_len_dist = {'ref':[],'IP_':[],'II_':[], 'cuff_prot':[]}\n",
    "        counts = {'alt':0, 'iso':0, 'ref':0, 'cuff':0}\n",
    "    inserted_seqs = set()\n",
    "    db_entries = [] # [(desc,seq), ...]\n",
    "    custom_fasta = get_OP_fpkm_filtered(fpkm_thresh)\n",
    "    \n",
    "    # CUFF\n",
    "    cuff_prots = {}\n",
    "    n_cuff_prots = 0\n",
    "    for trxp, trxp_attr in cuff_trxps['zika'].items():\n",
    "        if trxp_attr['fpkm'] < fpkm_thresh: continue\n",
    "        for prot_seq in trxp_attr['orfs']:\n",
    "            if prot_seq in OP15_all_protseqs and prot_seq not in inserted_seqs:\n",
    "                desc = OP15_all_protseqs[prot_seq]\n",
    "                if return_counts_prot_len:\n",
    "                    if 'IP_' in desc:\n",
    "                        orf_len_dist['IP_'].append(len(prot_seq))\n",
    "                        counts['alt'] += 1\n",
    "                    elif 'II_' in desc:\n",
    "                        orf_len_dist['II_'].append(len(prot_seq))\n",
    "                        counts['iso'] += 1\n",
    "                    else:\n",
    "                        orf_len_dist['ref'].append(len(prot_seq))\n",
    "                        counts['ref'] += 1\n",
    "                    \n",
    "                desc = '>' + desc + '\\n'\n",
    "                db_entries.append((desc, prot_seq))\n",
    "                inserted_seqs.add(prot_seq)\n",
    "                continue\n",
    "            if prot_seq in inserted_seqs: continue\n",
    "            if return_counts_prot_len:\n",
    "                orf_len_dist['cuff_prot'].append(len(prot_seq))\n",
    "                counts['cuff'] += 1\n",
    "            n_cuff_prots += 1\n",
    "            acc = '{}_ORF{}'.format(trxp, n_cuff_prots)\n",
    "            cuff_prots[acc] = prot_seq\n",
    "            desc = '>{}|GN={}\\n'.format(acc, 'CUFF_gene')\n",
    "            db_entries.append((desc, prot_seq))\n",
    "            inserted_seqs.add(prot_seq)\n",
    "    \n",
    "    custom_fasta_seqs = set(x['seq'] for x in custom_fasta)\n",
    "    n_uniprot_prots = 0\n",
    "    uniprot_prots = set()\n",
    "    for n, prot in enumerate(SeqIO.parse('swissprot_UP000005640.fasta', 'fasta')):\n",
    "        if prot.seq in custom_fasta_seqs and prot.seq not in inserted_seqs:\n",
    "            prot_acc = prot.description.split('|')[1]\n",
    "            uniprot_prots.add(prot_acc)\n",
    "            if return_counts_prot_len:\n",
    "                orf_len_dist['ref'].append(len(prot.seq))\n",
    "                counts['ref'] += 1\n",
    "            desc = prot.description.replace('>sp|', '>')\n",
    "            desc = '>'+desc+'\\n'\n",
    "            db_entries.append((desc, prot.seq))\n",
    "            inserted_seqs.add(prot.seq)\n",
    "            n_uniprot_prots += 1\n",
    "\n",
    "\n",
    "    # REF (ENST) & alts & iso\n",
    "    for head_seq in custom_fasta:\n",
    "        desc = head_seq['desc']\n",
    "        prot_seq  = head_seq['seq']\n",
    "        if any(tt_type_prefix in desc for tt_type_prefix in ['IP_', 'II_']):\n",
    "            if prot_seq in inserted_seqs:\n",
    "                continue\n",
    "            if return_counts_prot_len:\n",
    "                if 'IP_' in desc:\n",
    "                    orf_len_dist['IP_'].append(len(prot_seq))\n",
    "                    counts['alt'] += 1\n",
    "                elif 'II_' in desc:\n",
    "                    orf_len_dist['II_'].append(len(prot_seq))\n",
    "                    counts['iso'] += 1\n",
    "                else:\n",
    "                    orf_len_dist['ref'].append(len(prot_seq))\n",
    "                    counts['ref'] += 1\n",
    "\n",
    "            desc = '>'+desc+'\\n'\n",
    "            db_entries.append((desc, prot_seq))\n",
    "            inserted_seqs.add(prot_seq)\n",
    "\n",
    "        elif prot_seq not in inserted_seqs:\n",
    "            if return_counts_prot_len:\n",
    "                orf_len_dist['ref'].append(len(prot_seq))\n",
    "                counts['ref'] += 1\n",
    "            desc = '>'+desc+'\\n'\n",
    "            db_entries.append((desc, prot_seq))        \n",
    "            inserted_seqs.add(prot_seq)\n",
    "\n",
    "    # ZIKV proteins\n",
    "    sup7 = pyexcel.load('NIHMS1515954-supplement-7.xlsx')\n",
    "    keys = sup7.array[1]\n",
    "    n_ZIKV_prots = 0\n",
    "    for l in sup7.array[2:]:\n",
    "        line = dict(zip(keys, l))\n",
    "        if 'ZIKVug' in line['Bait']:\n",
    "            n_ZIKV_prots += 1\n",
    "            strain, prot_acc = line['Bait'].split()\n",
    "            desc = '>zk|{}|{}\\n'.format(prot_acc, strain)\n",
    "            seq = line['Protein Sequence'][:-1] + '\\n'\n",
    "            db_entries.append((desc, seq))               \n",
    "            inserted_seqs.add(line['Protein Sequence'][:-1])\n",
    "            \n",
    "    ret_dict = {}\n",
    "    if return_counts_only:\n",
    "        ret_dict['total_prot_count'] = len(db_entries)\n",
    "        ret_dict['recovered_uniprot'] = len(set.intersection(uniprot_prots, uniprot_run_preys))/ len(uniprot_run_preys)\n",
    "    else:\n",
    "        ret_dict = {'lib':db_entries, }\n",
    "    \n",
    "    if return_counts_prot_len:\n",
    "        ret_dict['counts'] = counts\n",
    "        ret_dict['prot_len_dists'] = orf_len_dist\n",
    "        ret_dict['recovered_uniprot'] = len(set.intersection(uniprot_prots, uniprot_run_preys))/ len(uniprot_run_preys)\n",
    "        \n",
    "    return ret_dict"
   ]
  },
  {
   "cell_type": "code",
   "execution_count": null,
   "metadata": {
    "ExecuteTime": {
     "end_time": "2020-09-22T05:07:55.845307Z",
     "start_time": "2020-09-22T04:59:01.841422Z"
    },
    "hidden": true
   },
   "outputs": [],
   "source": [
    "uniprot_run_preys = set(x[0] for x in crtl_trxps)\n",
    "fpkm_thresh_range = np.logspace(-5, 5, 200)\n",
    "args = zip(fpkm_thresh_range, [True,]*len(fpkm_thresh_range))\n",
    "with Pool(10) as p:\n",
    "    prot_counts = p.starmap(generate_custom_db, args)"
   ]
  },
  {
   "cell_type": "code",
   "execution_count": 221,
   "metadata": {
    "ExecuteTime": {
     "end_time": "2020-09-22T05:07:56.820619Z",
     "start_time": "2020-09-22T05:07:55.848628Z"
    },
    "hidden": true
   },
   "outputs": [
    {
     "data": {
      "image/png": "[encoded data removed]",
      "text/plain": [
       "<Figure size 432x288 with 1 Axes>"
      ]
     },
     "metadata": {},
     "output_type": "display_data"
    }
   ],
   "source": [
    "recovered_uniprot = [x['recovered_uniprot'] for x in prot_counts]\n",
    "total_prot_count = [x['total_prot_count'] for x in prot_counts]\n",
    "\n",
    "plt.plot(recovered_uniprot, total_prot_count, c='k')\n",
    "plt.xlabel('recovered uniprot accessions')\n",
    "plt.ylabel('protein database size')\n",
    "plt.yscale('log')\n",
    "plt.hlines(98503, 0, 0.765356, linewidth=1)\n",
    "plt.vlines(0.765356, 0, 98503, linewidth=1)\n",
    "plt.savefig('/home/xroucou_group/echange_de_fichiers/Zika_Marie_Seb/figure_pannels/fpkm_plot.svg')\n",
    "plt.show()"
   ]
  },
  {
   "cell_type": "code",
   "execution_count": 222,
   "metadata": {
    "ExecuteTime": {
     "end_time": "2020-09-22T05:07:56.855717Z",
     "start_time": "2020-09-22T05:07:56.823025Z"
    },
    "hidden": true
   },
   "outputs": [
    {
     "data": {
      "text/html": [
       "<div>\n",
       "<style scoped>\n",
       "    .dataframe tbody tr th:only-of-type {\n",
       "        vertical-align: middle;\n",
       "    }\n",
       "\n",
       "    .dataframe tbody tr th {\n",
       "        vertical-align: top;\n",
       "    }\n",
       "\n",
       "    .dataframe thead th {\n",
       "        text-align: right;\n",
       "    }\n",
       "</style>\n",
       "<table border=\"1\" class=\"dataframe\">\n",
       "  <thead>\n",
       "    <tr style=\"text-align: right;\">\n",
       "      <th></th>\n",
       "      <th>FPKM_thresh</th>\n",
       "      <th>n_orfs</th>\n",
       "      <th>recovered_uniprot</th>\n",
       "    </tr>\n",
       "  </thead>\n",
       "  <tbody>\n",
       "    <tr>\n",
       "      <th>0</th>\n",
       "      <td>1.499268</td>\n",
       "      <td>98503</td>\n",
       "      <td>0.765356</td>\n",
       "    </tr>\n",
       "    <tr>\n",
       "      <th>1</th>\n",
       "      <td>1.683180</td>\n",
       "      <td>94933</td>\n",
       "      <td>0.755528</td>\n",
       "    </tr>\n",
       "    <tr>\n",
       "      <th>2</th>\n",
       "      <td>1.889652</td>\n",
       "      <td>91471</td>\n",
       "      <td>0.744881</td>\n",
       "    </tr>\n",
       "    <tr>\n",
       "      <th>3</th>\n",
       "      <td>2.121452</td>\n",
       "      <td>87668</td>\n",
       "      <td>0.730139</td>\n",
       "    </tr>\n",
       "    <tr>\n",
       "      <th>4</th>\n",
       "      <td>2.381686</td>\n",
       "      <td>83914</td>\n",
       "      <td>0.718264</td>\n",
       "    </tr>\n",
       "    <tr>\n",
       "      <th>5</th>\n",
       "      <td>2.673842</td>\n",
       "      <td>80251</td>\n",
       "      <td>0.706798</td>\n",
       "    </tr>\n",
       "    <tr>\n",
       "      <th>6</th>\n",
       "      <td>3.001836</td>\n",
       "      <td>75825</td>\n",
       "      <td>0.688780</td>\n",
       "    </tr>\n",
       "    <tr>\n",
       "      <th>7</th>\n",
       "      <td>3.370064</td>\n",
       "      <td>71901</td>\n",
       "      <td>0.674857</td>\n",
       "    </tr>\n",
       "    <tr>\n",
       "      <th>8</th>\n",
       "      <td>3.783463</td>\n",
       "      <td>67934</td>\n",
       "      <td>0.656839</td>\n",
       "    </tr>\n",
       "    <tr>\n",
       "      <th>9</th>\n",
       "      <td>4.247572</td>\n",
       "      <td>63810</td>\n",
       "      <td>0.633088</td>\n",
       "    </tr>\n",
       "    <tr>\n",
       "      <th>10</th>\n",
       "      <td>4.768612</td>\n",
       "      <td>59253</td>\n",
       "      <td>0.611384</td>\n",
       "    </tr>\n",
       "    <tr>\n",
       "      <th>11</th>\n",
       "      <td>5.353567</td>\n",
       "      <td>55285</td>\n",
       "      <td>0.596642</td>\n",
       "    </tr>\n",
       "    <tr>\n",
       "      <th>12</th>\n",
       "      <td>6.010277</td>\n",
       "      <td>51012</td>\n",
       "      <td>0.575758</td>\n",
       "    </tr>\n",
       "    <tr>\n",
       "      <th>13</th>\n",
       "      <td>6.747544</td>\n",
       "      <td>46840</td>\n",
       "      <td>0.550369</td>\n",
       "    </tr>\n",
       "    <tr>\n",
       "      <th>14</th>\n",
       "      <td>7.575250</td>\n",
       "      <td>42548</td>\n",
       "      <td>0.522113</td>\n",
       "    </tr>\n",
       "    <tr>\n",
       "      <th>15</th>\n",
       "      <td>8.504489</td>\n",
       "      <td>38128</td>\n",
       "      <td>0.497133</td>\n",
       "    </tr>\n",
       "    <tr>\n",
       "      <th>16</th>\n",
       "      <td>9.547716</td>\n",
       "      <td>34328</td>\n",
       "      <td>0.471744</td>\n",
       "    </tr>\n",
       "    <tr>\n",
       "      <th>17</th>\n",
       "      <td>10.718913</td>\n",
       "      <td>30481</td>\n",
       "      <td>0.439803</td>\n",
       "    </tr>\n",
       "    <tr>\n",
       "      <th>18</th>\n",
       "      <td>12.033778</td>\n",
       "      <td>27009</td>\n",
       "      <td>0.409091</td>\n",
       "    </tr>\n",
       "    <tr>\n",
       "      <th>19</th>\n",
       "      <td>13.509935</td>\n",
       "      <td>23714</td>\n",
       "      <td>0.382473</td>\n",
       "    </tr>\n",
       "    <tr>\n",
       "      <th>20</th>\n",
       "      <td>15.167169</td>\n",
       "      <td>20592</td>\n",
       "      <td>0.351351</td>\n",
       "    </tr>\n",
       "    <tr>\n",
       "      <th>21</th>\n",
       "      <td>17.027692</td>\n",
       "      <td>17964</td>\n",
       "      <td>0.328010</td>\n",
       "    </tr>\n",
       "    <tr>\n",
       "      <th>22</th>\n",
       "      <td>19.116441</td>\n",
       "      <td>15111</td>\n",
       "      <td>0.302211</td>\n",
       "    </tr>\n",
       "    <tr>\n",
       "      <th>23</th>\n",
       "      <td>21.461412</td>\n",
       "      <td>12935</td>\n",
       "      <td>0.275594</td>\n",
       "    </tr>\n",
       "    <tr>\n",
       "      <th>24</th>\n",
       "      <td>24.094036</td>\n",
       "      <td>10913</td>\n",
       "      <td>0.249386</td>\n",
       "    </tr>\n",
       "    <tr>\n",
       "      <th>25</th>\n",
       "      <td>27.049597</td>\n",
       "      <td>9344</td>\n",
       "      <td>0.225225</td>\n",
       "    </tr>\n",
       "    <tr>\n",
       "      <th>26</th>\n",
       "      <td>30.367711</td>\n",
       "      <td>8114</td>\n",
       "      <td>0.205979</td>\n",
       "    </tr>\n",
       "    <tr>\n",
       "      <th>27</th>\n",
       "      <td>34.092851</td>\n",
       "      <td>6776</td>\n",
       "      <td>0.184275</td>\n",
       "    </tr>\n",
       "    <tr>\n",
       "      <th>28</th>\n",
       "      <td>38.274945</td>\n",
       "      <td>5713</td>\n",
       "      <td>0.162981</td>\n",
       "    </tr>\n",
       "    <tr>\n",
       "      <th>29</th>\n",
       "      <td>42.970047</td>\n",
       "      <td>4655</td>\n",
       "      <td>0.144554</td>\n",
       "    </tr>\n",
       "    <tr>\n",
       "      <th>30</th>\n",
       "      <td>48.241087</td>\n",
       "      <td>3967</td>\n",
       "      <td>0.130631</td>\n",
       "    </tr>\n",
       "    <tr>\n",
       "      <th>31</th>\n",
       "      <td>54.158714</td>\n",
       "      <td>3407</td>\n",
       "      <td>0.118755</td>\n",
       "    </tr>\n",
       "    <tr>\n",
       "      <th>32</th>\n",
       "      <td>60.802243</td>\n",
       "      <td>2929</td>\n",
       "      <td>0.108518</td>\n",
       "    </tr>\n",
       "    <tr>\n",
       "      <th>33</th>\n",
       "      <td>68.260718</td>\n",
       "      <td>2399</td>\n",
       "      <td>0.096233</td>\n",
       "    </tr>\n",
       "    <tr>\n",
       "      <th>34</th>\n",
       "      <td>76.634109</td>\n",
       "      <td>2025</td>\n",
       "      <td>0.081900</td>\n",
       "    </tr>\n",
       "    <tr>\n",
       "      <th>35</th>\n",
       "      <td>86.034644</td>\n",
       "      <td>1678</td>\n",
       "      <td>0.072891</td>\n",
       "    </tr>\n",
       "    <tr>\n",
       "      <th>36</th>\n",
       "      <td>96.588322</td>\n",
       "      <td>1451</td>\n",
       "      <td>0.064292</td>\n",
       "    </tr>\n",
       "    <tr>\n",
       "      <th>37</th>\n",
       "      <td>108.436597</td>\n",
       "      <td>1184</td>\n",
       "      <td>0.056102</td>\n",
       "    </tr>\n",
       "    <tr>\n",
       "      <th>38</th>\n",
       "      <td>121.738273</td>\n",
       "      <td>1052</td>\n",
       "      <td>0.051188</td>\n",
       "    </tr>\n",
       "    <tr>\n",
       "      <th>39</th>\n",
       "      <td>136.671636</td>\n",
       "      <td>879</td>\n",
       "      <td>0.045455</td>\n",
       "    </tr>\n",
       "    <tr>\n",
       "      <th>40</th>\n",
       "      <td>153.436841</td>\n",
       "      <td>751</td>\n",
       "      <td>0.042179</td>\n",
       "    </tr>\n",
       "    <tr>\n",
       "      <th>41</th>\n",
       "      <td>172.258597</td>\n",
       "      <td>664</td>\n",
       "      <td>0.040131</td>\n",
       "    </tr>\n",
       "    <tr>\n",
       "      <th>42</th>\n",
       "      <td>193.389175</td>\n",
       "      <td>543</td>\n",
       "      <td>0.037265</td>\n",
       "    </tr>\n",
       "    <tr>\n",
       "      <th>43</th>\n",
       "      <td>217.111795</td>\n",
       "      <td>499</td>\n",
       "      <td>0.033989</td>\n",
       "    </tr>\n",
       "    <tr>\n",
       "      <th>44</th>\n",
       "      <td>243.744415</td>\n",
       "      <td>447</td>\n",
       "      <td>0.031532</td>\n",
       "    </tr>\n",
       "    <tr>\n",
       "      <th>45</th>\n",
       "      <td>273.644000</td>\n",
       "      <td>360</td>\n",
       "      <td>0.028665</td>\n",
       "    </tr>\n",
       "    <tr>\n",
       "      <th>46</th>\n",
       "      <td>307.211300</td>\n",
       "      <td>315</td>\n",
       "      <td>0.026208</td>\n",
       "    </tr>\n",
       "    <tr>\n",
       "      <th>47</th>\n",
       "      <td>344.896226</td>\n",
       "      <td>284</td>\n",
       "      <td>0.024570</td>\n",
       "    </tr>\n",
       "    <tr>\n",
       "      <th>48</th>\n",
       "      <td>387.203878</td>\n",
       "      <td>246</td>\n",
       "      <td>0.023751</td>\n",
       "    </tr>\n",
       "    <tr>\n",
       "      <th>49</th>\n",
       "      <td>434.701316</td>\n",
       "      <td>221</td>\n",
       "      <td>0.021294</td>\n",
       "    </tr>\n",
       "    <tr>\n",
       "      <th>50</th>\n",
       "      <td>488.025158</td>\n",
       "      <td>195</td>\n",
       "      <td>0.019247</td>\n",
       "    </tr>\n",
       "    <tr>\n",
       "      <th>51</th>\n",
       "      <td>547.890118</td>\n",
       "      <td>176</td>\n",
       "      <td>0.016380</td>\n",
       "    </tr>\n",
       "    <tr>\n",
       "      <th>52</th>\n",
       "      <td>615.098579</td>\n",
       "      <td>160</td>\n",
       "      <td>0.013923</td>\n",
       "    </tr>\n",
       "    <tr>\n",
       "      <th>53</th>\n",
       "      <td>690.551352</td>\n",
       "      <td>147</td>\n",
       "      <td>0.013104</td>\n",
       "    </tr>\n",
       "    <tr>\n",
       "      <th>54</th>\n",
       "      <td>775.259749</td>\n",
       "      <td>110</td>\n",
       "      <td>0.009419</td>\n",
       "    </tr>\n",
       "    <tr>\n",
       "      <th>55</th>\n",
       "      <td>870.359136</td>\n",
       "      <td>80</td>\n",
       "      <td>0.005324</td>\n",
       "    </tr>\n",
       "    <tr>\n",
       "      <th>56</th>\n",
       "      <td>977.124154</td>\n",
       "      <td>66</td>\n",
       "      <td>0.004505</td>\n",
       "    </tr>\n",
       "    <tr>\n",
       "      <th>57</th>\n",
       "      <td>1096.985798</td>\n",
       "      <td>51</td>\n",
       "      <td>0.002457</td>\n",
       "    </tr>\n",
       "    <tr>\n",
       "      <th>58</th>\n",
       "      <td>1231.550603</td>\n",
       "      <td>32</td>\n",
       "      <td>0.001638</td>\n",
       "    </tr>\n",
       "    <tr>\n",
       "      <th>59</th>\n",
       "      <td>1382.622174</td>\n",
       "      <td>31</td>\n",
       "      <td>0.001229</td>\n",
       "    </tr>\n",
       "    <tr>\n",
       "      <th>60</th>\n",
       "      <td>1552.225357</td>\n",
       "      <td>25</td>\n",
       "      <td>0.000819</td>\n",
       "    </tr>\n",
       "    <tr>\n",
       "      <th>61</th>\n",
       "      <td>1742.633386</td>\n",
       "      <td>24</td>\n",
       "      <td>0.000410</td>\n",
       "    </tr>\n",
       "    <tr>\n",
       "      <th>62</th>\n",
       "      <td>1956.398344</td>\n",
       "      <td>20</td>\n",
       "      <td>0.000000</td>\n",
       "    </tr>\n",
       "    <tr>\n",
       "      <th>63</th>\n",
       "      <td>2196.385372</td>\n",
       "      <td>20</td>\n",
       "      <td>0.000000</td>\n",
       "    </tr>\n",
       "    <tr>\n",
       "      <th>64</th>\n",
       "      <td>2465.811076</td>\n",
       "      <td>13</td>\n",
       "      <td>0.000000</td>\n",
       "    </tr>\n",
       "    <tr>\n",
       "      <th>65</th>\n",
       "      <td>2768.286630</td>\n",
       "      <td>13</td>\n",
       "      <td>0.000000</td>\n",
       "    </tr>\n",
       "    <tr>\n",
       "      <th>66</th>\n",
       "      <td>3107.866188</td>\n",
       "      <td>13</td>\n",
       "      <td>0.000000</td>\n",
       "    </tr>\n",
       "    <tr>\n",
       "      <th>67</th>\n",
       "      <td>3489.101213</td>\n",
       "      <td>13</td>\n",
       "      <td>0.000000</td>\n",
       "    </tr>\n",
       "    <tr>\n",
       "      <th>68</th>\n",
       "      <td>3917.101491</td>\n",
       "      <td>13</td>\n",
       "      <td>0.000000</td>\n",
       "    </tr>\n",
       "    <tr>\n",
       "      <th>69</th>\n",
       "      <td>4397.603609</td>\n",
       "      <td>13</td>\n",
       "      <td>0.000000</td>\n",
       "    </tr>\n",
       "    <tr>\n",
       "      <th>70</th>\n",
       "      <td>4937.047853</td>\n",
       "      <td>10</td>\n",
       "      <td>0.000000</td>\n",
       "    </tr>\n",
       "    <tr>\n",
       "      <th>71</th>\n",
       "      <td>5542.664521</td>\n",
       "      <td>7</td>\n",
       "      <td>0.000000</td>\n",
       "    </tr>\n",
       "    <tr>\n",
       "      <th>72</th>\n",
       "      <td>6222.570837</td>\n",
       "      <td>7</td>\n",
       "      <td>0.000000</td>\n",
       "    </tr>\n",
       "    <tr>\n",
       "      <th>73</th>\n",
       "      <td>6985.879747</td>\n",
       "      <td>5</td>\n",
       "      <td>0.000000</td>\n",
       "    </tr>\n",
       "    <tr>\n",
       "      <th>74</th>\n",
       "      <td>7842.822061</td>\n",
       "      <td>5</td>\n",
       "      <td>0.000000</td>\n",
       "    </tr>\n",
       "    <tr>\n",
       "      <th>75</th>\n",
       "      <td>8804.883582</td>\n",
       "      <td>5</td>\n",
       "      <td>0.000000</td>\n",
       "    </tr>\n",
       "    <tr>\n",
       "      <th>76</th>\n",
       "      <td>9884.959047</td>\n",
       "      <td>5</td>\n",
       "      <td>0.000000</td>\n",
       "    </tr>\n",
       "    <tr>\n",
       "      <th>77</th>\n",
       "      <td>11097.524964</td>\n",
       "      <td>5</td>\n",
       "      <td>0.000000</td>\n",
       "    </tr>\n",
       "    <tr>\n",
       "      <th>78</th>\n",
       "      <td>12458.833643</td>\n",
       "      <td>5</td>\n",
       "      <td>0.000000</td>\n",
       "    </tr>\n",
       "    <tr>\n",
       "      <th>79</th>\n",
       "      <td>13987.131026</td>\n",
       "      <td>5</td>\n",
       "      <td>0.000000</td>\n",
       "    </tr>\n",
       "    <tr>\n",
       "      <th>80</th>\n",
       "      <td>15702.901247</td>\n",
       "      <td>5</td>\n",
       "      <td>0.000000</td>\n",
       "    </tr>\n",
       "    <tr>\n",
       "      <th>81</th>\n",
       "      <td>17629.141181</td>\n",
       "      <td>5</td>\n",
       "      <td>0.000000</td>\n",
       "    </tr>\n",
       "    <tr>\n",
       "      <th>82</th>\n",
       "      <td>19791.668679</td>\n",
       "      <td>5</td>\n",
       "      <td>0.000000</td>\n",
       "    </tr>\n",
       "    <tr>\n",
       "      <th>83</th>\n",
       "      <td>22219.468609</td>\n",
       "      <td>5</td>\n",
       "      <td>0.000000</td>\n",
       "    </tr>\n",
       "    <tr>\n",
       "      <th>84</th>\n",
       "      <td>24945.081352</td>\n",
       "      <td>5</td>\n",
       "      <td>0.000000</td>\n",
       "    </tr>\n",
       "    <tr>\n",
       "      <th>85</th>\n",
       "      <td>28005.038942</td>\n",
       "      <td>5</td>\n",
       "      <td>0.000000</td>\n",
       "    </tr>\n",
       "    <tr>\n",
       "      <th>86</th>\n",
       "      <td>31440.354716</td>\n",
       "      <td>5</td>\n",
       "      <td>0.000000</td>\n",
       "    </tr>\n",
       "    <tr>\n",
       "      <th>87</th>\n",
       "      <td>35297.073027</td>\n",
       "      <td>5</td>\n",
       "      <td>0.000000</td>\n",
       "    </tr>\n",
       "    <tr>\n",
       "      <th>88</th>\n",
       "      <td>39626.886387</td>\n",
       "      <td>5</td>\n",
       "      <td>0.000000</td>\n",
       "    </tr>\n",
       "    <tr>\n",
       "      <th>89</th>\n",
       "      <td>44487.828311</td>\n",
       "      <td>5</td>\n",
       "      <td>0.000000</td>\n",
       "    </tr>\n",
       "    <tr>\n",
       "      <th>90</th>\n",
       "      <td>49945.051159</td>\n",
       "      <td>5</td>\n",
       "      <td>0.000000</td>\n",
       "    </tr>\n",
       "    <tr>\n",
       "      <th>91</th>\n",
       "      <td>56071.699382</td>\n",
       "      <td>5</td>\n",
       "      <td>0.000000</td>\n",
       "    </tr>\n",
       "    <tr>\n",
       "      <th>92</th>\n",
       "      <td>62949.889902</td>\n",
       "      <td>5</td>\n",
       "      <td>0.000000</td>\n",
       "    </tr>\n",
       "    <tr>\n",
       "      <th>93</th>\n",
       "      <td>70671.812739</td>\n",
       "      <td>5</td>\n",
       "      <td>0.000000</td>\n",
       "    </tr>\n",
       "    <tr>\n",
       "      <th>94</th>\n",
       "      <td>79340.966658</td>\n",
       "      <td>5</td>\n",
       "      <td>0.000000</td>\n",
       "    </tr>\n",
       "    <tr>\n",
       "      <th>95</th>\n",
       "      <td>89073.546386</td>\n",
       "      <td>5</td>\n",
       "      <td>0.000000</td>\n",
       "    </tr>\n",
       "    <tr>\n",
       "      <th>96</th>\n",
       "      <td>100000.000000</td>\n",
       "      <td>5</td>\n",
       "      <td>0.000000</td>\n",
       "    </tr>\n",
       "  </tbody>\n",
       "</table>\n",
       "</div>"
      ],
      "text/plain": [
       "      FPKM_thresh  n_orfs  recovered_uniprot\n",
       "0        1.499268   98503           0.765356\n",
       "1        1.683180   94933           0.755528\n",
       "2        1.889652   91471           0.744881\n",
       "3        2.121452   87668           0.730139\n",
       "4        2.381686   83914           0.718264\n",
       "5        2.673842   80251           0.706798\n",
       "6        3.001836   75825           0.688780\n",
       "7        3.370064   71901           0.674857\n",
       "8        3.783463   67934           0.656839\n",
       "9        4.247572   63810           0.633088\n",
       "10       4.768612   59253           0.611384\n",
       "11       5.353567   55285           0.596642\n",
       "12       6.010277   51012           0.575758\n",
       "13       6.747544   46840           0.550369\n",
       "14       7.575250   42548           0.522113\n",
       "15       8.504489   38128           0.497133\n",
       "16       9.547716   34328           0.471744\n",
       "17      10.718913   30481           0.439803\n",
       "18      12.033778   27009           0.409091\n",
       "19      13.509935   23714           0.382473\n",
       "20      15.167169   20592           0.351351\n",
       "21      17.027692   17964           0.328010\n",
       "22      19.116441   15111           0.302211\n",
       "23      21.461412   12935           0.275594\n",
       "24      24.094036   10913           0.249386\n",
       "25      27.049597    9344           0.225225\n",
       "26      30.367711    8114           0.205979\n",
       "27      34.092851    6776           0.184275\n",
       "28      38.274945    5713           0.162981\n",
       "29      42.970047    4655           0.144554\n",
       "30      48.241087    3967           0.130631\n",
       "31      54.158714    3407           0.118755\n",
       "32      60.802243    2929           0.108518\n",
       "33      68.260718    2399           0.096233\n",
       "34      76.634109    2025           0.081900\n",
       "35      86.034644    1678           0.072891\n",
       "36      96.588322    1451           0.064292\n",
       "37     108.436597    1184           0.056102\n",
       "38     121.738273    1052           0.051188\n",
       "39     136.671636     879           0.045455\n",
       "40     153.436841     751           0.042179\n",
       "41     172.258597     664           0.040131\n",
       "42     193.389175     543           0.037265\n",
       "43     217.111795     499           0.033989\n",
       "44     243.744415     447           0.031532\n",
       "45     273.644000     360           0.028665\n",
       "46     307.211300     315           0.026208\n",
       "47     344.896226     284           0.024570\n",
       "48     387.203878     246           0.023751\n",
       "49     434.701316     221           0.021294\n",
       "50     488.025158     195           0.019247\n",
       "51     547.890118     176           0.016380\n",
       "52     615.098579     160           0.013923\n",
       "53     690.551352     147           0.013104\n",
       "54     775.259749     110           0.009419\n",
       "55     870.359136      80           0.005324\n",
       "56     977.124154      66           0.004505\n",
       "57    1096.985798      51           0.002457\n",
       "58    1231.550603      32           0.001638\n",
       "59    1382.622174      31           0.001229\n",
       "60    1552.225357      25           0.000819\n",
       "61    1742.633386      24           0.000410\n",
       "62    1956.398344      20           0.000000\n",
       "63    2196.385372      20           0.000000\n",
       "64    2465.811076      13           0.000000\n",
       "65    2768.286630      13           0.000000\n",
       "66    3107.866188      13           0.000000\n",
       "67    3489.101213      13           0.000000\n",
       "68    3917.101491      13           0.000000\n",
       "69    4397.603609      13           0.000000\n",
       "70    4937.047853      10           0.000000\n",
       "71    5542.664521       7           0.000000\n",
       "72    6222.570837       7           0.000000\n",
       "73    6985.879747       5           0.000000\n",
       "74    7842.822061       5           0.000000\n",
       "75    8804.883582       5           0.000000\n",
       "76    9884.959047       5           0.000000\n",
       "77   11097.524964       5           0.000000\n",
       "78   12458.833643       5           0.000000\n",
       "79   13987.131026       5           0.000000\n",
       "80   15702.901247       5           0.000000\n",
       "81   17629.141181       5           0.000000\n",
       "82   19791.668679       5           0.000000\n",
       "83   22219.468609       5           0.000000\n",
       "84   24945.081352       5           0.000000\n",
       "85   28005.038942       5           0.000000\n",
       "86   31440.354716       5           0.000000\n",
       "87   35297.073027       5           0.000000\n",
       "88   39626.886387       5           0.000000\n",
       "89   44487.828311       5           0.000000\n",
       "90   49945.051159       5           0.000000\n",
       "91   56071.699382       5           0.000000\n",
       "92   62949.889902       5           0.000000\n",
       "93   70671.812739       5           0.000000\n",
       "94   79340.966658       5           0.000000\n",
       "95   89073.546386       5           0.000000\n",
       "96  100000.000000       5           0.000000"
      ]
     },
     "execution_count": 222,
     "metadata": {},
     "output_type": "execute_result"
    }
   ],
   "source": [
    "pd.DataFrame([x for x in zip(fpkm_thresh_range, total_prot_count, recovered_uniprot) if x[1]<1e5], columns=['FPKM_thresh', 'n_orfs', 'recovered_uniprot'])"
   ]
  },
  {
   "cell_type": "code",
   "execution_count": 105,
   "metadata": {
    "ExecuteTime": {
     "end_time": "2020-09-18T12:19:27.650629Z",
     "start_time": "2020-09-18T12:19:10.620904Z"
    },
    "hidden": true
   },
   "outputs": [
    {
     "name": "stderr",
     "output_type": "stream",
     "text": [
      "/home/sleblanc/anaconda3/lib/python3.7/site-packages/Bio/Seq.py:175: BiopythonWarning: Biopython Seq objects now use string comparison. Older versions of Biopython used object comparison. During this transition, please use hash(id(my_seq)) or my_dict[id(my_seq)] if you want the old behaviour, or use hash(str(my_seq)) or my_dict[str(my_seq)] for the new string hashing behaviour.\n",
      "  \"the new string hashing behaviour.\", BiopythonWarning)\n"
     ]
    }
   ],
   "source": [
    "cust_lib = generate_custom_db(1.499268, return_counts_prot_len=True)"
   ]
  },
  {
   "cell_type": "code",
   "execution_count": 109,
   "metadata": {
    "ExecuteTime": {
     "end_time": "2020-09-18T12:19:27.705280Z",
     "start_time": "2020-09-18T12:19:27.694743Z"
    },
    "hidden": true
   },
   "outputs": [],
   "source": [
    "def write_custom_lib(lib, fpath):\n",
    "    with open(fpath, 'w') as f:\n",
    "        for desc, seq in lib:\n",
    "            f.write(desc)\n",
    "            f.write(truncate(str(seq))+'\\n')"
   ]
  },
  {
   "cell_type": "code",
   "execution_count": 110,
   "metadata": {
    "ExecuteTime": {
     "end_time": "2020-09-18T12:19:28.173617Z",
     "start_time": "2020-09-18T12:19:27.708475Z"
    },
    "hidden": true
   },
   "outputs": [],
   "source": [
    "write_custom_lib(cust_lib['lib'], 'zika_OP15_RNAseq_custom.fasta')"
   ]
  },
  {
   "cell_type": "code",
   "execution_count": 111,
   "metadata": {
    "ExecuteTime": {
     "end_time": "2020-09-18T12:19:28.324118Z",
     "start_time": "2020-09-18T12:19:28.175908Z"
    },
    "hidden": true
   },
   "outputs": [
    {
     "name": "stdout",
     "output_type": "stream",
     "text": [
      "total: 98503\n"
     ]
    }
   ],
   "source": [
    "# Sanity check number of entries in custom fasta\n",
    "n_orfs = 0\n",
    "with open('zika_OP15_RNAseq_custom.fasta', 'r') as f:\n",
    "    for l in f:\n",
    "        if '>' in l:\n",
    "            n_orfs += 1\n",
    "print('total:', n_orfs)"
   ]
  },
  {
   "cell_type": "code",
   "execution_count": 112,
   "metadata": {
    "ExecuteTime": {
     "end_time": "2020-09-18T12:23:23.115516Z",
     "start_time": "2020-09-18T12:23:21.664403Z"
    },
    "hidden": true
   },
   "outputs": [
    {
     "name": "stdout",
     "output_type": "stream",
     "text": [
      "cnt uniprot: 13041\n",
      "cnt ensembl: 83\n",
      "cnt refseq: 318\n",
      "total refs: 13442\n",
      "cnt ip: 80573\n",
      "cnt ii: 4469\n",
      "cnt cuff: 19\n",
      "total alts: 85061\n",
      "total: 98503\n"
     ]
    }
   ],
   "source": [
    "unprot_set = set()\n",
    "n_uniprot, n_refseq, n_ensmbl, n_ip, n_ii, n_cuff = 0, 0, 0, 0, 0, 0\n",
    "for seq in SeqIO.parse('zika_OP15_RNAseq_custom.fasta', 'fasta'):\n",
    "    if 'IP_' in seq.name and 'sp' not in seq.name:\n",
    "        if seq.description[:3] != 'IP_':\n",
    "            print(seq.name, seq.description)\n",
    "        n_ip += 1\n",
    "        continue\n",
    "    if 'II_' in seq.name  and 'sp' not in seq.name:\n",
    "        n_ii += 1\n",
    "        continue\n",
    "    if 'CUFF' in seq.name  and 'sp' not in seq.name:\n",
    "        n_cuff += 1\n",
    "        continue\n",
    "    if 'ENSP' in seq.name:\n",
    "        n_ensmbl += 1\n",
    "        continue\n",
    "    if 'XP_' in seq.name or 'NP_' in seq.name:\n",
    "        n_refseq += 1\n",
    "        continue\n",
    "    n_uniprot += 1\n",
    "    name = seq.name.replace('sp|', ''). split('|')[0]\n",
    "    unprot_set.add(name)\n",
    "    \n",
    "print('cnt uniprot:', n_uniprot)\n",
    "print('cnt ensembl:', n_ensmbl)\n",
    "print('cnt refseq:', n_refseq)\n",
    "total_ref = sum([n_uniprot, n_ensmbl, n_refseq])\n",
    "print('total refs:', total_ref)\n",
    "print('cnt ip:', n_ip)\n",
    "print('cnt ii:', n_ii)\n",
    "print('cnt cuff:', n_cuff)\n",
    "\n",
    "print('total alts:', sum([n_ip, n_ii, n_cuff]))\n",
    "print('total:', sum([n_ip, n_ii, n_cuff, n_uniprot, n_ensmbl, n_refseq]))"
   ]
  },
  {
   "cell_type": "code",
   "execution_count": 129,
   "metadata": {
    "ExecuteTime": {
     "end_time": "2020-09-18T13:45:21.555447Z",
     "start_time": "2020-09-18T13:45:21.424753Z"
    },
    "hidden": true
   },
   "outputs": [
    {
     "data": {
      "image/png": "[encoded data removed]",
      "text/plain": [
       "<Figure size 432x288 with 1 Axes>"
      ]
     },
     "metadata": {},
     "output_type": "display_data"
    }
   ],
   "source": [
    "def label_pie(pct, allvals):\n",
    "    absolute = int(np.round(pct/100.*np.sum(allvals)))\n",
    "    return \"{:.1f}%\\n({:d})\".format(pct, absolute)\n",
    "\n",
    "color_palette=(\"#000000\", \"#E69F00\", \"#56B4E9\", \"#009E73\", \"#F0E442\", \"#0072B2\", \"#D55E00\", \"#CC79A7\")\n",
    "\n",
    "fig, ax = plt.subplots(facecolor='w')\n",
    "data = [n_ip, total_ref, n_ii, n_cuff]\n",
    "ax.pie(sorted(data), autopct=lambda pct: label_pie(pct, data), colors=color_palette)\n",
    "plt.savefig('/home/xroucou_group/echange_de_fichiers/Zika_Marie_Seb/figure_pannels/proteogeno_lib_piechart.svg')\n",
    "plt.show()"
   ]
  },
  {
   "cell_type": "code",
   "execution_count": 151,
   "metadata": {
    "ExecuteTime": {
     "end_time": "2020-09-19T16:20:21.441290Z",
     "start_time": "2020-09-19T16:20:19.863386Z"
    },
    "hidden": true
   },
   "outputs": [],
   "source": [
    "orf_len_dist = {'ref':[],'alt':[],'iso':[],'zika':[]}\n",
    "for seq in SeqIO.parse('zika_OP15_RNAseq_custom.fasta', 'fasta'):\n",
    "    tt_type = get_tt_type(seq.name)\n",
    "    orf_len_dist[tt_type].append(len(seq.seq))"
   ]
  },
  {
   "cell_type": "code",
   "execution_count": 155,
   "metadata": {
    "ExecuteTime": {
     "end_time": "2020-09-19T16:25:13.918798Z",
     "start_time": "2020-09-19T16:25:13.856478Z"
    },
    "hidden": true
   },
   "outputs": [
    {
     "name": "stdout",
     "output_type": "stream",
     "text": [
      "ref mean: 570.742 median: 429.0\n",
      "alt mean: 54.084 median: 44.0\n",
      "iso mean: 181.236 median: 86.0\n",
      "zika mean: 300.684 median: 145.0\n"
     ]
    }
   ],
   "source": [
    "for tt_type, lens in orf_len_dist.items():\n",
    "    print(tt_type, 'mean:', np.round(np.mean(lens), 3), 'median:', np.median(lens))"
   ]
  },
  {
   "cell_type": "code",
   "execution_count": 153,
   "metadata": {
    "ExecuteTime": {
     "end_time": "2020-09-19T16:21:51.997072Z",
     "start_time": "2020-09-19T16:21:45.139522Z"
    },
    "hidden": true
   },
   "outputs": [
    {
     "name": "stderr",
     "output_type": "stream",
     "text": [
      "/home/sleblanc/anaconda3/lib/python3.7/site-packages/numpy/core/_asarray.py:83: VisibleDeprecationWarning: Creating an ndarray from ragged nested sequences (which is a list-or-tuple of lists-or-tuples-or ndarrays with different lengths or shapes) is deprecated. If you meant to do this, you must specify 'dtype=object' when creating the ndarray\n",
      "  return array(a, dtype, copy=False, order=order)\n"
     ]
    },
    {
     "data": {
      "image/png": "[encoded data removed]",
      "text/plain": [
       "<Figure size 432x288 with 1 Axes>"
      ]
     },
     "metadata": {},
     "output_type": "display_data"
    },
    {
     "name": "stderr",
     "output_type": "stream",
     "text": [
      "/home/sleblanc/anaconda3/lib/python3.7/site-packages/numpy/core/_asarray.py:83: VisibleDeprecationWarning: Creating an ndarray from ragged nested sequences (which is a list-or-tuple of lists-or-tuples-or ndarrays with different lengths or shapes) is deprecated. If you meant to do this, you must specify 'dtype=object' when creating the ndarray\n",
      "  return array(a, dtype, copy=False, order=order)\n"
     ]
    },
    {
     "data": {
      "image/png": "[encoded data removed]",
      "text/plain": [
       "<Figure size 432x288 with 1 Axes>"
      ]
     },
     "metadata": {},
     "output_type": "display_data"
    }
   ],
   "source": [
    "fig, ax = plt.subplots(facecolor='w')\n",
    "\n",
    "ax.boxplot([np.log10(x) for x in orf_len_dist.values()], notch=False, whis=0.5)\n",
    "ax.set_xticklabels(orf_len_dist.keys())\n",
    "plt.savefig('/home/xroucou_group/echange_de_fichiers/Zika_Marie_Seb/figure_pannels/proteogeno_protlen_dist.svg')\n",
    "plt.savefig('ZIKV_figures/proteogeno_protlen_dist.svg')\n",
    "plt.show()\n",
    "\n",
    "fig, ax = plt.subplots(facecolor='w')\n",
    "ax.boxplot(list(orf_len_dist.values()), notch=False,whis=0.5, )\n",
    "ax.set_yscale('log')\n",
    "ax.set_xticklabels(orf_len_dist.keys())\n",
    "plt.savefig('/home/xroucou_group/echange_de_fichiers/Zika_Marie_Seb/figure_pannels/proteogeno_protlen_scale.svg')\n",
    "plt.savefig('ZIKV_figures/proteogeno_protlen_scale.svg')\n",
    "plt.show()"
   ]
  },
  {
   "cell_type": "markdown",
   "metadata": {
    "hidden": true
   },
   "source": [
    "Boxes represent the inter quartile range (IQR) notched at the median and the whiskers are set at 0.5*IQR over and under the 25th and 75th percentiles."
   ]
  },
  {
   "cell_type": "code",
   "execution_count": 116,
   "metadata": {
    "ExecuteTime": {
     "end_time": "2020-09-18T12:23:55.429853Z",
     "start_time": "2020-09-18T12:23:55.413341Z"
    },
    "hidden": true
   },
   "outputs": [
    {
     "name": "stdout",
     "output_type": "stream",
     "text": [
      "ref 229432 0.77886296435858\n",
      "IP_ 60775 0.20631558221561377\n",
      "II_ 3866 0.013124081297335465\n",
      "zika 500 0.0016973721284707017\n"
     ]
    }
   ],
   "source": [
    "tot_cnt_prot = sum(len(x)for x in orf_len_dist.values())\n",
    "db_prop = []\n",
    "for k,v in orf_len_dist.items():\n",
    "    db_prop.append((k, len(v)))\n",
    "    print(k, len(v), len(v)/tot_cnt_prot)\n",
    "db_prop = sorted(db_prop, key=lambda x: x[1])"
   ]
  },
  {
   "cell_type": "markdown",
   "metadata": {
    "heading_collapsed": true
   },
   "source": [
    "## Run MS analysis with SearchGUI PeptideShaker"
   ]
  },
  {
   "cell_type": "code",
   "execution_count": 143,
   "metadata": {
    "ExecuteTime": {
     "end_time": "2020-08-17T23:16:25.478390Z",
     "start_time": "2020-08-17T23:16:24.142911Z"
    },
    "code_folding": [
     0
    ],
    "collapsed": true,
    "hidden": true
   },
   "outputs": [
    {
     "name": "stdout",
     "output_type": "stream",
     "text": [
      "#!/bin/bash\r\n",
      "\r\n",
      "#SBATCH --account=def-xroucou\r\n",
      "#SBATCH --time=12:00:00\r\n",
      "#SBATCH --ntasks=1\r\n",
      "#SBATCH --mem-per-cpu=8G\r\n",
      "#SBATCH --array=1-21\r\n",
      "\r\n",
      "cd $SLURM_TMPDIR\r\n",
      "module load java\r\n",
      "FILE=$(sed -n \"${SLURM_ARRAY_TASK_ID}p\" /nfs3_ib/ip32-ib/home/sleblanc/zika_mgf/files_list.txt)\r\n",
      "EXP=${FILE%.mgf}\r\n",
      "echo \"file: \"$FILE\r\n",
      "mkdir tools\r\n",
      "cp -r /nfs3_ib/ip32-ib/home/xroucou_group/tools/compomics ./tools/\r\n",
      "cp -r /nfs3_ib/ip32-ib/home/sleblanc/pycompomics .\r\n",
      "mkdir data\r\n",
      "cp /nfs3_ib/ip32-ib/home/sleblanc/ZIKV_swissprot.fasta ./data/ZIKV_swissprot.fasta\r\n",
      "cp /nfs3_ib/ip32-ib/home/sleblanc/ZIKV_swissprot_concatenated_target_decoy.fasta ./data/ZIKV_swissprot_concatenated_target_decoy.fasta\r\n",
      "cp /nfs3_ib/ip32-ib/home/sleblanc/zika_mgf/$FILE ./data/$FILE\r\n",
      "mkdir $EXP\r\n",
      "python3 pycompomics/pycompomics/ms_analyze_slurm.py analyze     --mgf_file data/$FILE     --output_dir $EXP     --protein_fdr 1.0     --fasta_db data/ZIKV_swissprot.fasta\r\n",
      "rsync -av $EXP /nfs3_ib/ip32-ib/home/sleblanc/zika_sg_ps/control/\r\n"
     ]
    }
   ],
   "source": [
    "# Swissprot run\n",
    "S = Slurm('ZIKV_ctrl', '/home/sleblanc/slurm_scripts/', '/home/sleblanc/zika_sg_ps/control/', slurm_kwargs={'mem-per-cpu':'8G', 'time':'12:00:00'})\n",
    "S.get_file_list('/home/sleblanc/zika_mgf/', 'mgf')\n",
    "\n",
    "commands = [\n",
    "    'cd $SLURM_TMPDIR',\n",
    "    'module load java',\n",
    "    'FILE=$(sed -n \"${SLURM_ARRAY_TASK_ID}p\" input_file)',\n",
    "    'EXP=${FILE%.mgf}',\n",
    "    'echo \"file: \"$FILE',\n",
    "    'mkdir tools',\n",
    "    'cp -r /home/xroucou_group/tools/compomics ./tools/',\n",
    "    'cp -r /home/sleblanc/pycompomics .',\n",
    "    'mkdir data',\n",
    "    'cp /home/sleblanc/ZIKV_swissprot.fasta ./data/ZIKV_swissprot.fasta',\n",
    "    'cp /home/sleblanc/ZIKV_swissprot_concatenated_target_decoy.fasta ./data/ZIKV_swissprot_concatenated_target_decoy.fasta',\n",
    "    'cp /home/sleblanc/zika_mgf/$FILE ./data/$FILE',\n",
    "    'mkdir $EXP',\n",
    "    'python3 pycompomics/pycompomics/ms_analyze_slurm.py analyze \\\n",
    "    --mgf_file data/$FILE \\\n",
    "    --output_dir $EXP \\\n",
    "    --protein_fdr 1.0 \\\n",
    "    --fasta_db data/ZIKV_swissprot.fasta',\n",
    "    'rsync -av $EXP /home/sleblanc/zika_sg_ps/control/',\n",
    "]\n",
    "\n",
    "S.write_sh_script(commands)\n",
    "%cat /nfs3_ib/ip32-ib/home/sleblanc/slurm_scripts/ZIKV_ctrl.sh"
   ]
  },
  {
   "cell_type": "code",
   "execution_count": 145,
   "metadata": {
    "ExecuteTime": {
     "end_time": "2020-08-17T23:16:51.135146Z",
     "start_time": "2020-08-17T23:16:49.035627Z"
    },
    "hidden": true,
    "scrolled": true
   },
   "outputs": [
    {
     "name": "stderr",
     "output_type": "stream",
     "text": [
      "b'Submitted batch job 5835094'\n"
     ]
    }
   ],
   "source": [
    "S.run(commands)"
   ]
  },
  {
   "cell_type": "code",
   "execution_count": 212,
   "metadata": {
    "ExecuteTime": {
     "end_time": "2020-09-10T00:29:46.446993Z",
     "start_time": "2020-09-10T00:29:20.384683Z"
    },
    "hidden": true
   },
   "outputs": [
    {
     "name": "stdout",
     "output_type": "stream",
     "text": [
      "An error occurred when setting path configuration. Default paths will be used.\n",
      "Reindexing: zika_OP15_RNAseq_custom.fasta.\n",
      "10% 20% 30% 40% 50% 60% 70% 80% 90%Input: /home/sleblanc/zika_OP15_RNAseq_custom.fasta\n",
      "\n",
      "Name: zika_OP15_RNAseq_custom\n",
      "Version: 9.9.2020\n",
      "Decoy Tag: null\n",
      "Type: Generic_Header\n",
      "Last modified: Wed Sep 09 20:28:22 EDT 2020\n",
      "Size: 98503 sequences\n",
      "\n",
      "\n",
      "Wed Sep 09 20:29:28 EDT 2020 Appending Decoy Sequences. Please Wait...\n",
      "10% 20% 30% 40% 50% 60% 70% 80% 90% 100%Reindexing: zika_OP15_RNAseq_custom_concatenated_target_decoy.fasta.\n",
      "\n",
      "10% 20% 30% 40% 50% 60% 70% 80% 90%Decoy file successfully created: \n",
      "\n",
      "Output: /home/sleblanc/zika_OP15_RNAseq_custom_concatenated_target_decoy.fasta\n",
      "\n",
      "Name: zika_OP15_RNAseq_custom_concatenated_target_decoy\n",
      "Version: 9.9.2020\n",
      "Decoy Tag: REVERSED\n",
      "Type: Generic_Header\n",
      "Last modified: Wed Sep 09 20:29:37 EDT 2020\n",
      "Size: 197006 sequences (98503 target)\n",
      "\n"
     ]
    }
   ],
   "source": [
    "!java -cp /home/xroucou_group/tools/compomics/SearchGUI-3.3.17/SearchGUI-3.3.17.jar eu.isas.searchgui.cmd.FastaCLI -in /home/sleblanc/zika_OP15_RNAseq_custom.fasta -decoy "
   ]
  },
  {
   "cell_type": "code",
   "execution_count": 572,
   "metadata": {
    "ExecuteTime": {
     "end_time": "2020-09-10T15:38:29.931692Z",
     "start_time": "2020-09-10T15:38:27.958721Z"
    },
    "hidden": true
   },
   "outputs": [
    {
     "name": "stdout",
     "output_type": "stream",
     "text": [
      "#!/bin/bash\r\n",
      "\r\n",
      "#SBATCH --account=def-xroucou\r\n",
      "#SBATCH --time=12:00:00\r\n",
      "#SBATCH --ntasks=1\r\n",
      "#SBATCH --mem-per-cpu=8G\r\n",
      "#SBATCH --array=1-21\r\n",
      "\r\n",
      "cd $SLURM_TMPDIR\r\n",
      "module load java\r\n",
      "FILE=$(sed -n \"${SLURM_ARRAY_TASK_ID}p\" /nfs3_ib/ip32-ib/home/sleblanc/zika_mgf/files_list.txt)\r\n",
      "EXP=${FILE%.mgf}\r\n",
      "echo \"file: \"$FILE\r\n",
      "mkdir tools\r\n",
      "cp -r /nfs3_ib/ip32-ib/home/xroucou_group/tools/compomics ./tools/\r\n",
      "cp -r /nfs3_ib/ip32-ib/home/sleblanc/pycompomics .\r\n",
      "mkdir data\r\n",
      "cp /nfs3_ib/ip32-ib/home/sleblanc/zika_OP15_RNAseq_custom.fasta ./data/zika_OP15_RNAseq_custom.fasta\r\n",
      "cp /nfs3_ib/ip32-ib/home/sleblanc/zika_OP15_RNAseq_custom_concatenated_target_decoy.fasta ./data/zika_OP15_RNAseq_custom_concatenated_target_decoy.fasta\r\n",
      "cp /nfs3_ib/ip32-ib/home/sleblanc/zika_mgf/$FILE ./data/$FILE\r\n",
      "mkdir $EXP\r\n",
      "python3 pycompomics/pycompomics/ms_analyze_slurm.py analyze     --mgf_file data/$FILE     --output_dir $EXP     --protein_fdr 1.0     --fasta_db data/zika_OP15_RNAseq_custom.fasta\r\n",
      "rsync -av $EXP /nfs3_ib/ip32-ib/home/sleblanc/zika_sg_ps/customlib/\r\n"
     ]
    }
   ],
   "source": [
    "S = Slurm('ZIKV_custom', '/home/sleblanc/slurm_scripts/', '/home/sleblanc/zika_sg_ps/customlib/', slurm_kwargs={'mem-per-cpu':'8G', 'time':'12:00:00'})\n",
    "S.get_file_list('/home/sleblanc/zika_mgf/', 'mgf')\n",
    "\n",
    "commands = [\n",
    "    'cd $SLURM_TMPDIR',\n",
    "    'module load java',\n",
    "    'FILE=$(sed -n \"${SLURM_ARRAY_TASK_ID}p\" input_file)',\n",
    "    'EXP=${FILE%.mgf}',\n",
    "    'echo \"file: \"$FILE',\n",
    "    'mkdir tools',\n",
    "    'cp -r /home/xroucou_group/tools/compomics ./tools/',\n",
    "    'cp -r /home/sleblanc/pycompomics .',\n",
    "    'mkdir data',\n",
    "    'cp /home/sleblanc/zika_OP15_RNAseq_custom.fasta ./data/zika_OP15_RNAseq_custom.fasta',\n",
    "    'cp /home/sleblanc/zika_OP15_RNAseq_custom_concatenated_target_decoy.fasta ./data/zika_OP15_RNAseq_custom_concatenated_target_decoy.fasta',\n",
    "    'cp /home/sleblanc/zika_mgf/$FILE ./data/$FILE',\n",
    "    'mkdir $EXP',\n",
    "    'python3 pycompomics/pycompomics/ms_analyze_slurm.py analyze \\\n",
    "    --mgf_file data/$FILE \\\n",
    "    --output_dir $EXP \\\n",
    "    --protein_fdr 1.0 \\\n",
    "    --fasta_db data/zika_OP15_RNAseq_custom.fasta',\n",
    "    'rsync -av $EXP /home/sleblanc/zika_sg_ps/customlib/',\n",
    "]\n",
    "\n",
    "S.write_sh_script(commands)\n",
    "%cat /home/sleblanc/slurm_scripts/ZIKV_custom.sh"
   ]
  },
  {
   "cell_type": "code",
   "execution_count": 573,
   "metadata": {
    "ExecuteTime": {
     "end_time": "2020-09-10T15:38:33.022178Z",
     "start_time": "2020-09-10T15:38:31.198620Z"
    },
    "hidden": true
   },
   "outputs": [
    {
     "name": "stderr",
     "output_type": "stream",
     "text": [
      "b'Submitted batch job 5897760'\n"
     ]
    }
   ],
   "source": [
    "S.run(commands)"
   ]
  },
  {
   "cell_type": "code",
   "execution_count": 592,
   "metadata": {
    "ExecuteTime": {
     "end_time": "2020-09-10T18:13:05.131832Z",
     "start_time": "2020-09-10T18:13:03.124785Z"
    },
    "hidden": true
   },
   "outputs": [
    {
     "name": "stdout",
     "output_type": "stream",
     "text": [
      "\r\n",
      "The following have been reloaded with a version change:\r\n",
      "  1) java/1.8.0_192 => java/13.0.1\r\n",
      "\r\n",
      "file: qx004064.mgf\r\n",
      "Processing data/qx004064.mgf\r\n",
      "Setting search params...\r\n",
      "data/zika_OP15_RNAseq_custom_concatenated_target_decoy.fasta\r\n",
      "True\r\n",
      "b'Path configuration completed.\\nReindexing: zika_OP15_RNAseq_custom_concatenated_target_decoy.fasta.\\n\\nIdentification parameters file created: /localscratch/sleblanc.5897761.0/qx004064/id_params.par\\n\\n'\r\n",
      "b'WARNING: An illegal reflective access operation has occurred\\nWARNING: Illegal reflective access by com.google.gson.internal.bind.ReflectiveTypeAdapterFactory (file:/localscratch/sleblanc.5897761.0/tools/compomics/SearchGUI-3.3.17/lib/gson-2.4.jar) to field java.awt.Color.value\\nWARNING: Please consider reporting this to the maintainers of com.google.gson.internal.bind.ReflectiveTypeAdapterFactory\\nWARNING: Use --illegal-access=warn to enable warnings of further illegal reflective access operations\\nWARNING: All illegal access operations will be denied in a future release\\n'\r\n",
      "Runnning SearchGUI...\r\n",
      "./tools/compomics/SearchGUI-3.3.17/SearchGUI-3.3.17.jar\r\n",
      "b\"Thu Sep 10 11:39:18 EDT 2020 Validating MGF file: /localscratch/sleblanc.5897761.0/data/qx004064.mgf\\n10% 20% 30% 40% 50% 60% 70% 80% 90%\\n\\nThu Sep 10 11:39:31 EDT 2020 Indexing spectrum files.\\nThu Sep 10 11:39:31 EDT 2020 Extracting search settings.\\n\\n\\n\\nProcessing: qx004064.mgf (1/1)\\n\\n\\nxtandem command: \\n/localscratch/sleblanc.5897761.0/tools/compomics/SearchGUI-3.3.17/resources/XTandem/linux/linux_64bit/tandem /localscratch/sleblanc.5897761.0/tools/compomics/SearchGUI-3.3.17/resources/XTandem/linux/linux_64bit/input_searchGUI.xml \\n\\nThu Sep 10 11:39:31 EDT 2020 Processing qx004064.mgf with X!Tandem.\\n\\n\\nX! TANDEM Vengeance (2015.12.15.2)\\n\\nLoading spectra (mgf)............. loaded.\\nSpectra matching criteria = 24886\\nStarting threads . started.\\nComputing models:\\n\\tSpectrum-to-sequence matching process in progress | 50 ks \\n\\tSpectrum-to-sequence matching process in progress | 100 ks \\n\\tSpectrum-to-sequence matching process in progress | 150 ks \\n\\tSpectrum-to-sequence matching process in progres\\tsequences modelled = 197 ks\\nModel refinement:\\n\\tpartial cleavage ..... done.\\n\\tunanticipated cleavage ..... done.\\n\\tfinishing refinement ... done.\\nCreating report:\\n\\tinitial calculations  ..... done.\\n\\tsorting  ..... done.\\n\\tfinding repeats ..... done.\\n\\tevaluating results ..... done.\\n\\tcalculating expectations ..... done.\\n\\twriting results ..... done.\\n\\nValid models = 6197\\n\\n\\n\\n\\nThu Sep 10 11:50:11 EDT 2020 X!Tandem finished for /localscratch/sleblanc.5897761.0/data/qx004064.mgf (10 minutes 40.0 seconds).\\n\\n\\n\\nms-gf+ command: \\n/cvmfs/soft.computecanada.ca/easybuild/software/2017/Core/java/13.0.1/bin/java -Xmx27G -jar /localscratch/sleblanc.5897761.0/tools/compomics/SearchGUI-3.3.17/resources/MS-GF+/MSGFPlus.jar -s /localscratch/sleblanc.5897761.0/data/qx004064.mgf -d /localscratch/sleblanc.5897761.0/data/zika_OP15_RNAseq_custom_concatenated_target_decoy.fasta -o /localscratch/sleblanc.5897761.0/qx004064/.SearchGUI_temp/qx004064.msgf.mzid -t 70.0ppm -tda 0 -mod /localscratch/sleblanc.5897761.0/tools/compomics/SearchGUI-3.3.17/resources/MS-GF+/params/Mods.txt -minCharge 2 -maxCharge 5 -inst 3 -thread 1 -m 3 -e 1 -ntt 2 -protocol 0 -minLength 8 -maxLength 30 -n 10 -addFeatures 0 -ti 0,1 \\n\\nThu Sep 10 11:50:11 EDT 2020 Processing qx004064.mgf with MS-GF+.\\n\\nMS-GF+ Release (v2018.04.09) (9 April 2018)\\nLoading database files...\\nWarning: Sequence database contains 22 counts of letter 'U', which does not correspond to an amino acid.\\nWarning: Sequence database contains 1194 counts of letter 'X', which does not correspond to an amino acid.\\nCreating the suffix array indexed file... Size: 20530973\\nAlphabetSize: 28\\nSuffix creation: 0.00% complete.\\nSuffix creation: 48.71% complete.\\nSuffix creation: 97.41% complete.\\nSorting 0.00% complete.\\nSorting 5.81% complete.\\nSorting 11.62% complete.\\nSorting 17.43% complete.\\nSorting 23.24% complete.\\nSorting 29.05% complete.\\nSorting 34.86% complete.\\nSorting 40.67% complete.\\nSorting 46.48% complete.\\nSorting 52.29% complete.\\nSorting 58.10% complete.\\nSorting 63.91% complete.\\nSorting 69.73% complete.\\nSorting 75.54% complete.\\nSorting 81.35% complete.\\nSorting 87.16% complete.\\nSorting 92.97% complete.\\nSorting 98.78% complete.\\nLoading database finished (elapsed time: 34.00 sec)\\nReading spectra...\\nSpectrum index=0 activationMethod is unknown; Using HCD as specified in parameters.\\nSpectrum index=1 activationMethod is unknown; Using HCD as specified in parameters.\\nSpectrum index=2 activationMethod is unknown; Using HCD as specified in parameters.\\nSpectrum index=3 activationMethod is unknown; Using HCD as specified in parameters.\\nSpectrum index=4 activationMethod is unknown; Using HCD as specified in parameters.\\nSpectrum index=5 activationMethod is unknown; Using HCD as specified in parameters.\\nSpectrum index=6 activationMethod is unknown; Using HCD as specified in parameters.\\nSpectrum index=7 activationMethod is unknown; Using HCD as specified in parameters.\\nSpectrum index=8 activationMethod is unknown; Using HCD as specified in parameters.\\nSpectrum index=9 activationMethod is unknown; Using HCD as specified in parameters.\\n ...\\nIgnoring 0 profile spectra.\\nIgnoring 179 spectra having less than 10 peaks.\\nReading spectra finished (elapsed time: 46.48 sec)\\nUsing 1 thread.\\nSearch Parameters:\\n\\tPrecursorMassTolerance: 70.0ppm\\n\\tIsotopeError: 0,1\\n\\tTargetDecoyAnalysis: false\\n\\tFragmentationMethod: HCD\\n\\tInstrument: QExactive\\n\\tEnzyme: Tryp\\n\\tProtocol: Standard\\n\\tNumTolerableTermini: 2\\n\\tMinPeptideLength: 8\\n\\tMaxPeptideLength: 30\\n\\tNumMatchesPerSpec: 10\\n\\tChargeCarrierMass: 1.00727649 (proton)\\nSpectrum 0-25368 (total: 25369)\\nSearching using a single task.\\nSearch progress: 0 / 1 tasks, 0.00%\\t\\t0.01 seconds elapsed\\nLoading built-in param file: HCD_QExactive_Tryp.param\\nSearch progress: 0 / 1 tasks, 2.54%\\t\\t1.00 minutes elapsed\\nSearch progress: 0 / 1 tasks, 4.70%\\t\\t2.00 minutes elapsed\\nSearch progress: 0 / 1 tasks, 5.34%\\t\\t3.00 minutes elapsed\\nSearch progress: 0 / 1 tasks, 8.70%\\t\\t4.00 minutes elapsed\\nSearch progress: 0 / 1 tasks, 33.35%\\t\\t5.00 minutes elapsed\\nSearch progress: 0 / 1 tasks, 34.33%\\t\\t6.00 minutes elapsed\\nSearch progress: 0 / 1 tasks, 35.16%\\t\\t7.00 minutes elapsed\\nSearch progress: 0 / 1 tasks, 36.14%\\t\\t8.00 minutes elapsed\\nSearch progress: 0 / 1 tasks, 57.94%\\t\\t9.00 minutes elapsed\\nSearch progress: 0 / 1 tasks, 58.98%\\t\\t10.00 minutes elapsed\\nSearch progress: 0 / 1 tasks, 59.92%\\t\\t11.00 minutes elapsed\\nSearch progress: 0 / 1 tasks, 60.91%\\t\\t12.00 minutes elapsed\\nSearch progress: 0 / 1 tasks, 61.92%\\t\\t13.00 minutes elapsed\\nSearch progress: 0 / 1 tasks, 81.67%\\t\\t14.00 minutes elapsed\\nSearch progress: 0 / 1 tasks, 83.15%\\t\\t15.00 minutes elapsed\\nSearch progress: 0 / 1 tasks, 84.46%\\t\\t16.00 minutes elapsed\\nSearch progress: 0 / 1 tasks, 85.59%\\t\\t17.00 minutes elapsed\\nSearch progress: 0 / 1 tasks, 86.61%\\t\\t18.00 minutes elapsed\\nSearch progress: 0 / 1 tasks, 87.50%\\t\\t19.00 minutes elapsed\\nSearch progress: 0 / 1 tasks, 88.30%\\t\\t20.00 minutes elapsed\\nSearch progress: 0 / 1 tasks, 89.12%\\t\\t21.00 minutes elapsed\\nSearch progress: 0 / 1 tasks, 89.84%\\t\\t22.00 minutes elapsed\\nSearch progress: 0 / 1 tasks, 90.51%\\t\\t23.00 minutes elapsed\\nSearch progress: 0 / 1 tasks, 91.16%\\t\\t24.00 minutes elapsed\\nSearch progress: 0 / 1 tasks, 91.82%\\t\\t25.00 minutes elapsed\\nSearch progress: 0 / 1 tasks, 92.49%\\t\\t26.00 minutes elapsed\\nSearch progress: 0 / 1 tasks, 93.13%\\t\\t27.00 minutes elapsed\\nSearch progress: 0 / 1 tasks, 93.77%\\t\\t28.00 minutes elapsed\\nSearch progress: 0 / 1 tasks, 94.42%\\t\\t29.00 minutes elapsed\\nSearch progress: 1 / 1 tasks, 100.00%\\t\\t29.60 minutes elapsed\\nSearch progress: 1 / 1 tasks, 100.00%\\t\\t29.60 minutes elapsed\\nWriting results...\\nWARNING: An illegal reflective access operation has occurred\\nWARNING: Illegal reflective access by com.sun.xml.bind.v2.runtime.reflect.opt.Injector$1 (file:/localscratch/sleblanc.5897761.0/tools/compomics/SearchGUI-3.3.17/resources/MS-GF+/MSGFPlus.jar) to method java.lang.ClassLoader.defineClass(java.lang.String,byte[],int,int)\\nWARNING: Please consider reporting this to the maintainers of com.sun.xml.bind.v2.runtime.reflect.opt.Injector$1\\nWARNING: Use --illegal-access=warn to enable warnings of further illegal reflective access operations\\nWARNING: All illegal access operations will be denied in a future release\\nWriting results finished (elapsed time: 80.86 sec)\\nMS-GF+ complete (total elapsed time: 1903.79 sec)\\n\\n\\nThu Sep 10 12:21:56 EDT 2020 MS-GF+ finished for /localscratch/sleblanc.5897761.0/data/qx004064.mgf (31 minutes 44.0 seconds).\\n\\nThu Sep 10 12:21:56 EDT 2020 Zipping output files.\\n\\n10% 20% 30% 40% 50% 60% 70% 80% 90%\\nThu Sep 10 12:22:08 EDT 2020 Search Completed (42 minutes 37.0 seconds).\\n\\n\\n\\nSearch Completed.\\n\\n\"\r\n",
      "b'WARNING: An illegal reflective access operation has occurred\\nWARNING: Illegal reflective access by com.google.gson.internal.bind.ReflectiveTypeAdapterFactory (file:/localscratch/sleblanc.5897761.0/tools/compomics/SearchGUI-3.3.17/lib/gson-2.4.jar) to field java.awt.Color.value\\nWARNING: Please consider reporting this to the maintainers of com.google.gson.internal.bind.ReflectiveTypeAdapterFactory\\nWARNING: Use --illegal-access=warn to enable warnings of further illegal reflective access operations\\nWARNING: All illegal access operations will be denied in a future release\\n'\r\n",
      "b'Path configuration completed.\\n'\r\n",
      "b''\r\n",
      "Runnning PeptideShaker...\r\n",
      "b\"Path configuration completed.\\nThu Sep 10 12:22:12 EDT 2020 Unzipping searchgui_out.zip.\\n10% 20% 30% 40% 50% 60% 70% 80% 90% 100%\\n\\nThu Sep 10 12:22:16 EDT 2020 Import process for qx004064 (Sample: test, Replicate: 1)\\n\\nThu Sep 10 12:22:16 EDT 2020 Importing sequences from zika_OP15_RNAseq_custom_concatenated_target_decoy.fasta.\\n 0%\\n10% 20% 30% 40% 50% 60% 70% 80% 90% 100%\\nThu Sep 10 12:23:04 EDT 2020 FASTA file import completed.\\nThu Sep 10 12:23:04 EDT 2020 Importing gene mappings.\\nThu Sep 10 12:23:14 EDT 2020 Establishing local database connection.\\nThu Sep 10 12:23:21 EDT 2020 Reading identification files.\\nThu Sep 10 12:23:21 EDT 2020 Parsing qx004064.msgf.mzid.\\n10% 20% 30% 40% 50% 60% 70% 80% 90% 100%\\nThu Sep 10 12:23:42 EDT 2020 Loading spectra for qx004064.msgf.mzid.\\nThu Sep 10 12:23:42 EDT 2020 Importing qx004064.mgf\\nThu Sep 10 12:23:43 EDT 2020 qx004064.mgf imported.\\n10% 20% 30% 40% 50% 60% 70% 80% 90%\\nThu Sep 10 12:23:43 EDT 2020 Collecting peptides to map.\\n10% 20% 30% 40% 50% 60% 70% 80% 90% 100%\\nThu Sep 10 12:23:44 EDT 2020 Mapping peptides to proteins.\\n10% 20% 30% 40% 50% 60% 70% 80% 90% 100%\\nThu Sep 10 12:23:52 EDT 2020 Importing PSMs from qx004064.msgf.mzid\\n10% 20% 30% 40% 50% 60% 70% 80% 90% 100%\\nThu Sep 10 12:24:06 EDT 2020 3 identified spectra (0.0%) did not present a valid peptide.\\nThu Sep 10 12:24:06 EDT 2020 85 of the best scoring peptides were excluded by the import filters:\\nThu Sep 10 12:24:06 EDT 2020     - 100.0% peptide mapping to both target and decoy.\\nThu Sep 10 12:24:06 EDT 2020 Parsing qx004064.t.xml.\\nThu Sep 10 12:24:57 EDT 2020 Loading spectra for qx004064.t.xml.\\n10% 20% 30% 40% 50% 60% 70% 80% 90% 100%\\nThu Sep 10 12:24:57 EDT 2020 Collecting peptides to map.\\n10% 20% 30% 40% 50% 60% 70% 80% 90% 100%\\nThu Sep 10 12:24:58 EDT 2020 Mapping peptides to proteins.\\n10% 20% 30% 40% 50% 60% 70% 80% 90% 100%\\nThu Sep 10 12:24:59 EDT 2020 Importing PSMs from qx004064.t.xml\\n10% 20% 30% 40% 50% 60% 70% 80% 90% 100%\\nThu Sep 10 12:25:02 EDT 2020 282 identified spectra (1.3%) did not present a valid peptide.\\nThu Sep 10 12:25:02 EDT 2020 3187 of the best scoring peptides were excluded by the import filters:\\nThu Sep 10 12:25:02 EDT 2020     - 91.0% peptide length less than 8 or greater than 30.\\nThu Sep 10 12:25:02 EDT 2020     - 8.7% unrecognized modifications.\\nThu Sep 10 12:25:02 EDT 2020 File import completed. 45087 first hits imported (241130 secondary) from 25548 spectra.\\nThu Sep 10 12:25:02 EDT 2020 [42142 first hits passed the initial filtering]\\nThu Sep 10 12:25:02 EDT 2020 Computing assumptions probabilities.\\n10% 20% 30% 40% 50% 60% 70% 80% 90% 100% 110% 120% 130% 140% 150% 160% 170% 180% 190% 200%\\nThu Sep 10 12:25:03 EDT 2020 Saving assumptions probabilities.\\n10% 20% 30% 40% 50% 60% 70% 80% 90%\\nThu Sep 10 12:25:07 EDT 2020 Selecting best peptide per spectrum.\\n10% 20% 30% 40% 50% 60% 70% 80% 90%\\nThu Sep 10 12:25:16 EDT 2020 Computing PSM probabilities.\\n10% 20% 30% 40% 50% 60% 70%\\nThu Sep 10 12:25:16 EDT 2020 Scoring PTMs in PSMs (D-score and PhosphoRS)\\nThu Sep 10 12:25:16 EDT 2020 Scoring PSM PTMs. Please Wait...\\n10% 20% 30% 40% 50% 60% 70% 80% 90%\\nThu Sep 10 12:26:37 EDT 2020 Resolving peptide inference issues.\\nThu Sep 10 12:26:37 EDT 2020 Peptide Inference. Please Wait...\\n10% 20% 30% 40% 50% 60% 70% 80% 90%\\nThu Sep 10 12:26:40 EDT 2020 Saving probabilities, building peptides and proteins.\\nThu Sep 10 12:26:40 EDT 2020 Attaching Spectrum Probabilities - Building Peptides and Proteins. Please Wait...\\n10% 20% 30% 40% 50% 60% 70% 80% 90%\\nThu Sep 10 12:26:42 EDT 2020 Simplifying protein groups.\\nThu Sep 10 12:26:42 EDT 2020 Symplifying Protein Groups. Please Wait...\\n10%\\nThu Sep 10 12:26:42 EDT 2020 Removing Mapping Artifacts. Please Wait...\\nThu Sep 10 12:26:42 EDT 2020 301 unlikely protein mappings found:\\nThu Sep 10 12:26:42 EDT 2020     - 418 protein groups supported by non-enzymatic shared peptides.\\nThu Sep 10 12:26:42 EDT 2020     - 15 protein groups explained by peptides shared to less confident mappings.\\nThu Sep 10 12:26:42 EDT 2020     - 254 groups explained by a simpler group.\\nThu Sep 10 12:26:42 EDT 2020     Note: a group can present combinations of these criteria.\\nThu Sep 10 12:26:42 EDT 2020 Generating peptide map.\\nThu Sep 10 12:26:42 EDT 2020 Filling Peptide Maps. Please Wait...\\n10% 20% 30% 40%\\nThu Sep 10 12:26:43 EDT 2020 Computing peptide probabilities.\\nThu Sep 10 12:26:43 EDT 2020 Estimating Probabilities. Please Wait...\\n10% 20% 30% 40% 50%\\nThu Sep 10 12:26:43 EDT 2020 Saving peptide probabilities.\\nThu Sep 10 12:26:43 EDT 2020 Attaching Peptide Probabilities. Please Wait...\\n10% 20% 30% 40% 50% 60% 70% 80% 90%\\nThu Sep 10 12:26:44 EDT 2020 Generating protein map.\\nThu Sep 10 12:26:44 EDT 2020 Filling Protein Map. Please Wait...\\n10% 20% 30% 40% 50% 60% 70% 80% 90%\\nThu Sep 10 12:26:44 EDT 2020 Resolving protein inference issues, inferring peptide and protein PI status.\\nThu Sep 10 12:26:44 EDT 2020 Simplifying Redundant Protein Groups. Please Wait...\\nThu Sep 10 12:26:53 EDT 2020 Inferring PI status, sorting proteins. Please Wait...\\n10% 20% 30% 40% 50%\\nThu Sep 10 12:26:57 EDT 2020 1420 conflicts resolved. 1003 protein groups remaining (3 suspicious).\\nThu Sep 10 12:26:57 EDT 2020 Correcting protein probabilities.\\nThu Sep 10 12:26:57 EDT 2020 Estimating Probabilities. Please Wait...\\n10% 20% 30% 40% 50% 60% 70% 80% 90% 100%\\nThu Sep 10 12:26:57 EDT 2020 Saving protein probabilities.\\nThu Sep 10 12:26:57 EDT 2020 Attaching Protein Probabilities. Please Wait...\\n10% 20% 30% 40% 50% 60% 70% 80% 90%\\nThu Sep 10 12:26:58 EDT 2020 Validating identifications at 1% FDR, quality control of matches.\\nThu Sep 10 12:26:58 EDT 2020 Finding FDR Thresholds. Please Wait...\\n10% 20% 40% 50% 70% 80% 100% 110% 120%\\nThu Sep 10 12:26:59 EDT 2020 Match Validation and Quality Control. Please Wait...\\n10% 20% 30% 40% 50% 60% 70% 80% 90% 100%\\nThu Sep 10 12:27:27 EDT 2020 Scoring PTMs in peptides.\\nThu Sep 10 12:27:27 EDT 2020 Scoring Peptide PTMs. Please Wait...\\n10% 20% 30% 40% 50% 60% 70% 80% 90%\\nThu Sep 10 12:27:31 EDT 2020 Scoring PTMs in proteins.\\nThu Sep 10 12:27:31 EDT 2020 Scoring Protein PTMs. Please Wait...\\n10% 20% 30% 40% 50% 60% 70% 80% 90%\\nThu Sep 10 12:27:32 EDT 2020 Identification processing completed (5 minutes 17.0 seconds).\\n\\n\\nThu Sep 10 12:27:32 EDT 2020 Project successfully created.\\nThu Sep 10 12:27:32 EDT 2020 Saving results.\\n10% 20% 30% 40% 50% 60% 70% 80% 90%\\nThu Sep 10 12:33:16 EDT 2020 Results saved to /localscratch/sleblanc.5897761.0/qx004064/qx004064.cpsx.\\n\\n\\nThu Sep 10 12:33:16 EDT 2020 Zipping project.\\nThu Sep 10 12:33:16 EDT 2020 Getting FASTA File. Please Wait...\\nThu Sep 10 12:33:16 EDT 2020 Getting Spectrum Files. Please Wait...\\n10%\\nThu Sep 10 12:33:16 EDT 2020 Zipping Project. Please Wait...\\n 0%\\n10% 20% 30% 40% 50% 60% 70% 80% 90% 100%\\nThu Sep 10 12:33:44 EDT 2020 Project zipped to '/localscratch/sleblanc.5897761.0/qx004064/qx004064.cpsx.zip' (91.22 MB)\\n\\nThu Sep 10 12:33:49 EDT 2020 PeptideShaker process completed.\\nThu Sep 10 12:33:49 EDT 2020 Processing Completed.\\n\"\r\n",
      "b'WARNING: An illegal reflective access operation has occurred\\nWARNING: Illegal reflective access by com.google.gson.internal.bind.ReflectiveTypeAdapterFactory (file:/localscratch/sleblanc.5897761.0/tools/compomics/PeptideShaker-1.16.42/lib/gson-2.4.jar) to field java.awt.Color.value\\nWARNING: Please consider reporting this to the maintainers of com.google.gson.internal.bind.ReflectiveTypeAdapterFactory\\nWARNING: Use --illegal-access=warn to enable warnings of further illegal reflective access operations\\nWARNING: All illegal access operations will be denied in a future release\\n'\r\n",
      "Generating PeptideShaker reports...\r\n",
      "b'Thu Sep 10 12:33:51 EDT 2020 Unzipping qx004064.cpsx.zip. Please Wait...\\n10% 20% 30% 40% 50% 60% 70% 80% 90% 100%\\n10% 20% 30% 40% 50% 90%\\nThu Sep 10 12:34:11 EDT 2020 Exporting. Please Wait...\\n10% 20% 30% 40% 50% 60% 70% 80% 90% 100% 110% 120% 130% 140% 150% 160%\\nThu Sep 10 13:13:55 EDT 2020 Exporting. Please Wait...\\n10% 20% 30% 40% 50% 60% 70% 80% 90% 100%\\nThu Sep 10 13:14:39 EDT 2020 Exporting. Please Wait...\\n10% 20% 30% 40% 50% 60% 70% 80% 90% 100%\\nThu Sep 10 13:14:43 EDT 2020 Exporting. Please Wait...\\n10% 20% 30% 40% 50% 60% 70% 80% 90% 100%\\nThu Sep 10 13:14:53 EDT 2020 Exporting. Please Wait...\\n10% 20% 30% 40% 50% 60% 70% 80% 90% 100%\\nThu Sep 10 13:14:55 EDT 2020 Exporting. Please Wait...\\n10% 20% 30% 40% 50% 60% 70% 80% 90% 100%\\nThu Sep 10 13:14:58 EDT 2020 Exporting. Please Wait...\\n10% 20% 30% 40% 50% 60% 70% 80% 90% 100%\\nThu Sep 10 13:15:02 EDT 2020 Exporting. Please Wait...\\n10% 20% 30% 40% 50% 60% 70% 80% 90% 100%\\nThu Sep 10 13:15:06 EDT 2020 Report export completed.\\n'\r\n",
      "b''\r\n",
      "sending incremental file list\r\n",
      "qx004064/\r\n",
      "qx004064/PeptideShaker Report qx004064.cpsx 2020-09-10 12.33.49.html\r\n",
      "qx004064/SearchGUI Report 2020-09-10 12.22.08.html\r\n",
      "qx004064/id_params.par\r\n",
      "qx004064/qx004064.cpsx.zip\r\n",
      "qx004064/searchgui_out.zip\r\n",
      "qx004064/peptideshaker_reports/\r\n",
      "qx004064/peptideshaker_reports/qx004064_test_1_Certificate_of_Analysis.txt\r\n",
      "qx004064/peptideshaker_reports/qx004064_test_1_Default_Hierarchical_Report.txt\r\n",
      "qx004064/peptideshaker_reports/qx004064_test_1_Default_PSM_Phosphorylation_Report.txt\r\n",
      "qx004064/peptideshaker_reports/qx004064_test_1_Default_PSM_Report.txt\r\n",
      "qx004064/peptideshaker_reports/qx004064_test_1_Default_PSM_Report_with_non-validated_matches.txt\r\n",
      "qx004064/peptideshaker_reports/qx004064_test_1_Default_Peptide_Phosphorylation_Report.txt\r\n",
      "qx004064/peptideshaker_reports/qx004064_test_1_Default_Peptide_Report.txt\r\n",
      "qx004064/peptideshaker_reports/qx004064_test_1_Default_Peptide_Report_with_non-validated_matches.txt\r\n",
      "qx004064/peptideshaker_reports/qx004064_test_1_Default_Protein_Phosphorylation_Report.txt\r\n",
      "qx004064/reports/\r\n",
      "\r\n",
      "sent 158,997,190 bytes  received 302 bytes  63,598,996.80 bytes/sec\r\n",
      "total size is 158,956,974  speedup is 1.00\r\n"
     ]
    }
   ],
   "source": [
    "%cat zika_sg_ps/customlib/slurm-5897760_1.out"
   ]
  },
  {
   "cell_type": "markdown",
   "metadata": {
    "heading_collapsed": true
   },
   "source": [
    "## Parse reports of peptides-spectra matches "
   ]
  },
  {
   "cell_type": "code",
   "execution_count": 151,
   "metadata": {
    "ExecuteTime": {
     "end_time": "2020-09-22T04:10:54.950231Z",
     "start_time": "2020-09-22T04:10:54.918910Z"
    },
    "hidden": true
   },
   "outputs": [],
   "source": [
    "exp_report_paths = {'control':{}, 'customlib':{}} # \"control\" here is SwissProt library\n",
    "search_path = '/home/sleblanc/zika_sg_ps/'\n",
    "for lib in exp_report_paths:\n",
    "    for dirpath, subdirs, files in os.walk(os.path.join(search_path, lib)):\n",
    "        for f in files:\n",
    "            if 'Default_Hierarchical_Report' in f:\n",
    "                exp_id = f.split('_')[0]\n",
    "                exp_report_paths[lib][exp_id] = os.path.join(dirpath, f)"
   ]
  },
  {
   "cell_type": "code",
   "execution_count": 152,
   "metadata": {
    "ExecuteTime": {
     "end_time": "2020-09-22T04:10:54.964630Z",
     "start_time": "2020-09-22T04:10:54.952898Z"
    },
    "hidden": true
   },
   "outputs": [],
   "source": [
    "# Parse key file from raw data\n",
    "zikv_baits = ['Capsid', 'NS4A', 'NS5', 'NS3', 'NS2B3']\n",
    "uganda_files = []\n",
    "zikv_bait_files, bait_rep_dict = {}, {}\n",
    "with open('zika_raw/experiment.csv', 'r') as f:\n",
    "    for n,l in enumerate(f):\n",
    "        if n<13:continue\n",
    "        ls = l.strip().split('\", \"')\n",
    "        try:\n",
    "            fname, treatment = ls\n",
    "            if 'Uganda' in treatment:\n",
    "                uganda_files.append(fname[1:])\n",
    "                t = treatment.split(', ')\n",
    "                bait_name = t[2].replace('\"', '')\n",
    "                if 'S135A' in bait_name:\n",
    "                    continue\n",
    "                zikv_bait_files[fname[1:].replace('.raw', '')] = t[2]\n",
    "                if t[2] not in bait_rep_dict:\n",
    "                    bait_rep_dict[t[2]] = [fname[1:].replace('.raw', '')]\n",
    "                else:\n",
    "                    bait_rep_dict[t[2]].append(fname[1:].replace('.raw', ''))\n",
    "        except:\n",
    "            continue\n",
    "\n",
    "rep_bait_dict = {}\n",
    "for bait, exps in bait_rep_dict.items():\n",
    "    for exp in exps:\n",
    "        rep_bait_dict[exp] = bait"
   ]
  },
  {
   "cell_type": "code",
   "execution_count": 153,
   "metadata": {
    "ExecuteTime": {
     "end_time": "2020-09-22T04:11:09.816256Z",
     "start_time": "2020-09-22T04:10:54.966766Z"
    },
    "code_folding": [
     1
    ],
    "hidden": true
   },
   "outputs": [
    {
     "name": "stdout",
     "output_type": "stream",
     "text": [
      "UG all unique preys before filter: 2039 \n",
      "shah net: 352\n",
      "Count proteins identified by Shah that are not present in Swissport library: 4\n"
     ]
    }
   ],
   "source": [
    "# Load interactions from Shah et al supplementary data\n",
    "sup10 = pyexcel.load('NIHMS1515954-supplement-10.xlsx')\n",
    "shah_net = set()\n",
    "shah_all_preys = set()\n",
    "shah_unfiltered = set()\n",
    "for n,x in enumerate(sup10):\n",
    "    if n==0:continue\n",
    "    if n==1:\n",
    "        keys = x\n",
    "        continue\n",
    "    line = dict(zip(keys, x))\n",
    "    bait = line['Bait'].replace('ZIKVug ', '')\n",
    "    if 'ZIKVug' in line['Bait']:\n",
    "        shah_all_preys.add(line['Prey'])\n",
    "        shah_unfiltered.add((bait, line['Prey']))\n",
    "    if line['ZIKV-Human M>0.72(fp) or 0.69 (ug)'] == True and 'ZIKVug' in line['Bait']:\n",
    "        shah_net.add((bait, line['Prey']))\n",
    "print('UG all unique preys before filter:', len(shah_all_preys), '\\nshah net:', len(shah_net))\n",
    "print('Count proteins identified by Shah that are not present in Swissport library:', sum(p not in uniprot_all_protaccs for p in list(shah_all_preys)))\n",
    "pickle.dump(shah_net, open('shah_net.pkl', 'wb'))"
   ]
  },
  {
   "cell_type": "code",
   "execution_count": 156,
   "metadata": {
    "ExecuteTime": {
     "end_time": "2020-09-22T04:12:01.471920Z",
     "start_time": "2020-09-22T04:11:59.429266Z"
    },
    "hidden": true
   },
   "outputs": [],
   "source": [
    "prot_lengths = {}\n",
    "for prot in SeqIO.parse('zika_OP15_RNAseq_custom.fasta', 'fasta'):\n",
    "    acc = prot.name.split('|')[0]\n",
    "    prot_lengths[acc] = len(prot.seq)\n",
    "\n",
    "for prot in SeqIO.parse('ZIKVug_swissprot.fasta', 'fasta'):\n",
    "    acc = prot.name.split('|')[1]\n",
    "    prot_lengths[acc] = len(prot.seq)\n",
    "\n",
    "sup7 = pyexcel.load('NIHMS1515954-supplement-7.xlsx')\n",
    "keys = sup7.array[1]\n",
    "for l in sup7.array[2:]:\n",
    "    line = dict(zip(keys, l))\n",
    "    if 'ZIKVug' in line['Bait']:\n",
    "        strain, prot_acc = line['Bait'].split()\n",
    "        prot_lengths[prot_acc] = len(line['Protein Sequence'][:-1])"
   ]
  },
  {
   "cell_type": "code",
   "execution_count": 157,
   "metadata": {
    "ExecuteTime": {
     "end_time": "2020-09-22T04:12:13.860869Z",
     "start_time": "2020-09-22T04:12:01.877231Z"
    },
    "hidden": true
   },
   "outputs": [],
   "source": [
    "# Parse PeptideShaker report from control run (Swissprot library)\n",
    "args = zip(zikv_baits, ['control']*len(zikv_baits)) \n",
    "with Pool(5) as p:\n",
    "    all_psms = p.starmap(get_all_psms, args)\n",
    "\n",
    "apms_psms_uniprotlib = {}\n",
    "for bait_psms in all_psms:\n",
    "    apms_psms_uniprotlib.update(bait_psms)"
   ]
  },
  {
   "cell_type": "code",
   "execution_count": 158,
   "metadata": {
    "ExecuteTime": {
     "end_time": "2020-09-22T04:12:37.226010Z",
     "start_time": "2020-09-22T04:12:13.864556Z"
    },
    "hidden": true
   },
   "outputs": [],
   "source": [
    "# Parse PeptideShaker report from proteogenomic run (custom library)\n",
    "args = zip(zikv_baits, ['customlib']*len(zikv_baits))\n",
    "with Pool(5) as p:\n",
    "    all_psms = p.starmap(get_all_psms, args)\n",
    "\n",
    "apms_psms_customlib = {}\n",
    "for bait_psms in all_psms:\n",
    "    apms_psms_customlib.update(bait_psms)"
   ]
  },
  {
   "cell_type": "code",
   "execution_count": 159,
   "metadata": {
    "ExecuteTime": {
     "end_time": "2020-09-22T04:12:37.427277Z",
     "start_time": "2020-09-22T04:12:37.230947Z"
    },
    "hidden": true
   },
   "outputs": [
    {
     "name": "stdout",
     "output_type": "stream",
     "text": [
      "count unique prey identified: 2490\n",
      "count protein groups with proteins from more than one gene: 3367\n",
      "count protein selected in protein group that differs from the one called by Shah: 196\n",
      "count prot groups with preys from Shah that were not selected but considered: 298\n"
     ]
    }
   ],
   "source": [
    "# Count PSMs from parsed reports of control run\n",
    "apms_psms_cnt_uniprot, multi_prot_grp = count_psms(apms_psms_uniprotlib, crap, return_multi_prot_grp=True)\n",
    "uniprot_all_preys = set([x for y in [exp_psms.keys() for exp_id, exp_psms in apms_psms_cnt_uniprot.items()] for x in y])\n",
    "\n",
    "print('count unique prey identified:', len(set(uniprot_all_preys)))\n",
    "print('count protein groups with proteins from more than one gene:', len(multi_prot_grp))\n",
    "\n",
    "cnt = len([x for x in multi_prot_grp if 'prot_accs_shared_shah' in x and x['selected_prot_acc_gene'] not in x['prot_accs_shared_shah']])\n",
    "print('count protein selected in protein group that differs from the one called by Shah:', cnt)\n",
    "\n",
    "shah_prey_not_select = shah_all_preys.difference(set(uniprot_all_preys))\n",
    "cnt = len([x for x in multi_prot_grp if 'prot_accs_shared_shah' in x and set.intersection(shah_prey_not_select, set(pag[0] for pag in x['prot_accs_genes']))])\n",
    "print('count prot groups with preys from Shah that were not selected but considered:', cnt)"
   ]
  },
  {
   "cell_type": "code",
   "execution_count": 162,
   "metadata": {
    "ExecuteTime": {
     "end_time": "2020-09-22T04:12:57.468160Z",
     "start_time": "2020-09-22T04:12:57.306600Z"
    },
    "hidden": true
   },
   "outputs": [
    {
     "name": "stdout",
     "output_type": "stream",
     "text": [
      "Unique preys\n",
      "Uniprot: 2490 \n",
      "Shah: 2039\n"
     ]
    },
    {
     "data": {
      "image/png": "[encoded data removed]",
      "text/plain": [
       "<Figure size 216x216 with 1 Axes>"
      ]
     },
     "metadata": {},
     "output_type": "display_data"
    }
   ],
   "source": [
    "print('Unique preys')\n",
    "print('Uniprot:', len(set(uniprot_all_preys)), '\\nShah:', len(shah_all_preys))\n",
    "venn([{\n",
    "    'Shah et al\\nunique preys':shah_all_preys,\n",
    "    'Control (Swissprot)\\nunique preys':uniprot_all_preys\n",
    "}], file_path='ZIKV_figures/uniprot_shah_prey_overlap.svg')"
   ]
  },
  {
   "cell_type": "code",
   "execution_count": 163,
   "metadata": {
    "ExecuteTime": {
     "end_time": "2020-09-22T04:13:01.901351Z",
     "start_time": "2020-09-22T04:13:01.773039Z"
    },
    "code_folding": [],
    "hidden": true
   },
   "outputs": [
    {
     "name": "stdout",
     "output_type": "stream",
     "text": [
      "interactions: 12723 \n",
      "unique preys: 1958\n"
     ]
    }
   ],
   "source": [
    "# Count PSMs from parsed reports of proteogenomic run\n",
    "apms_psms_cnt_customlib = count_psms(apms_psms_customlib, crap)\n",
    "customlib_all_preys = [x for y in [exp_psms.keys() for exp_id, exp_psms in apms_psms_cnt_customlib.items()] for x in y]\n",
    "print('interactions:', len(customlib_all_preys), '\\nunique preys:', len(set(customlib_all_preys)))\n",
    "customlib_all_preys = set(customlib_all_preys)"
   ]
  },
  {
   "cell_type": "code",
   "execution_count": 164,
   "metadata": {
    "ExecuteTime": {
     "end_time": "2020-09-22T04:13:02.712210Z",
     "start_time": "2020-09-22T04:13:02.682948Z"
    },
    "hidden": true
   },
   "outputs": [
    {
     "name": "stdout",
     "output_type": "stream",
     "text": [
      "bait custom uniprot\n",
      "Capsid 11.224975704567541 11.014274691358025 False\n",
      "NS2B3 8.6610268378063 8.68780487804878 True\n",
      "NS3 9.12237420615535 8.780792504391957 False\n",
      "NS4A 8.271153846153846 7.907315561066336 False\n",
      "NS5 11.943730615861764 11.649079320113314 False\n"
     ]
    }
   ],
   "source": [
    "# compare total PSM counts of control and custom runs\n",
    "all_psms = []\n",
    "for bait, exp_ids in bait_rep_dict.items():\n",
    "    for exp_id in exp_ids:\n",
    "        cust_psms = sum(apms_psms_cnt_customlib[exp_id].values())\n",
    "        cust_prey_cnt = len(apms_psms_cnt_customlib[exp_id])\n",
    "        \n",
    "        ctrl_psms = sum(apms_psms_cnt_uniprot[exp_id].values())\n",
    "        ctrl_prey_cnt = len(apms_psms_cnt_uniprot[exp_id])\n",
    "        all_psms.append({\n",
    "            'bait':bait,\n",
    "            'cust_psms':cust_psms, \n",
    "            'cust_prey_cnt':cust_prey_cnt, \n",
    "            'ctrl_psms':ctrl_psms, \n",
    "            'ctrl_prey_cnt':ctrl_prey_cnt\n",
    "        })\n",
    "\n",
    "print('bait', 'custom', 'uniprot')\n",
    "for bait, psms in itt.groupby(all_psms, key=lambda x: x['bait']):\n",
    "    psms = list(psms)\n",
    "    total_cust_psms = sum([x['cust_psms'] for x in psms])\n",
    "    total_cust_prey = sum([x['cust_prey_cnt'] for x in psms])\n",
    "    psms_per_prey_cust = total_cust_psms/total_cust_prey\n",
    "    \n",
    "    total_ctrl_psms = sum([x['ctrl_psms'] for x in psms])\n",
    "    total_ctrl_prey = sum([x['ctrl_prey_cnt'] for x in psms])\n",
    "    psms_per_prey_ctrl = total_ctrl_psms/total_ctrl_prey\n",
    "    \n",
    "    print(bait, psms_per_prey_cust, psms_per_prey_ctrl, psms_per_prey_ctrl>psms_per_prey_cust)"
   ]
  },
  {
   "cell_type": "code",
   "execution_count": 165,
   "metadata": {
    "ExecuteTime": {
     "end_time": "2020-09-22T04:13:07.486658Z",
     "start_time": "2020-09-22T04:13:07.474305Z"
    },
    "hidden": true
   },
   "outputs": [],
   "source": [
    "all_preys = set(uniprot_all_preys).union(set(customlib_all_preys)).union(shah_all_preys)"
   ]
  },
  {
   "cell_type": "code",
   "execution_count": 167,
   "metadata": {
    "ExecuteTime": {
     "end_time": "2020-09-22T04:13:29.665842Z",
     "start_time": "2020-09-22T04:13:08.542335Z"
    },
    "hidden": true
   },
   "outputs": [],
   "source": [
    "# Build dictionary mapping any protein accession to corresponding uniprot from OP1.6 TSV\n",
    "prot_acc_to_uniprot = {}\n",
    "with open('human-openprot-r0_0-refprots+altprots+isoforms-+uniprot2019_03_01.tsv', 'r') as f:\n",
    "    for n,l in enumerate(f):\n",
    "        if l[0]=='#': continue\n",
    "        ls = l.strip().split('\\t')    \n",
    "        if n==1:\n",
    "            keys = ls\n",
    "            continue\n",
    "        line=dict(zip(keys, ls))    \n",
    "        acc     = line['protein accession numbers'].split('.')[0]\n",
    "        if is_alt(acc): continue\n",
    "        acc_syn = line['protein accession (others)'].split(';')\n",
    "        for p_acc in acc_syn:\n",
    "            if p_acc in all_preys:\n",
    "                prot_acc_to_uniprot.update({x:p_acc for x in [acc]+acc_syn})\n",
    "pickle.dump(prot_acc_to_uniprot, open('prot_acc_to_uniprot.pkl', 'wb'))"
   ]
  },
  {
   "cell_type": "code",
   "execution_count": 168,
   "metadata": {
    "ExecuteTime": {
     "end_time": "2020-09-22T04:13:29.739202Z",
     "start_time": "2020-09-22T04:13:29.670765Z"
    },
    "hidden": true
   },
   "outputs": [
    {
     "data": {
      "text/plain": [
       "{'ref': 18258, 'alt': 16, 'iso': 0, 'zika': 0}"
      ]
     },
     "execution_count": 168,
     "metadata": {},
     "output_type": "execute_result"
    }
   ],
   "source": [
    "detection_cnt = {'ref':0, 'alt':0, 'iso':0, 'zika':0}\n",
    "for bait, exps in apms_psms_customlib.items():\n",
    "    for exp_id, psms in exps['exps'].items():\n",
    "        for protgrp_psms in psms['protgrp_psms_valid_clean'].values():\n",
    "            for prot_acc, gene in protgrp_psms['prot_accs_genes']:\n",
    "                detection_cnt[get_tt_type(prot_acc)] += 1\n",
    "detection_cnt"
   ]
  },
  {
   "cell_type": "markdown",
   "metadata": {
    "heading_collapsed": true
   },
   "source": [
    "## Generate \"data\" and \"key\" files for MiST"
   ]
  },
  {
   "cell_type": "markdown",
   "metadata": {
    "ExecuteTime": {
     "start_time": "2020-08-17T22:08:22.547Z"
    },
    "hidden": true
   },
   "source": [
    "These files are built according to the MiST article (files are combined into one for the python implementation):  [Verschueren *et al.*](https://www.ncbi.nlm.nih.gov/pmc/articles/PMC4378866/pdf/nihms-672081.pdf)\n",
    "([Python implementation](https://github.com/salilab/mist/blob/master/MiST.py))"
   ]
  },
  {
   "cell_type": "code",
   "execution_count": 169,
   "metadata": {
    "ExecuteTime": {
     "end_time": "2020-09-22T04:13:55.080170Z",
     "start_time": "2020-09-22T04:13:55.061208Z"
    },
    "hidden": true
   },
   "outputs": [],
   "source": [
    "def write_mist_data(fpath, AP_MS, preys):\n",
    "    baits = [zikv_bait_files[x] for x in AP_MS.keys()]\n",
    "    missing_len = []\n",
    "    n_lines = 0\n",
    "    with open(fpath, 'w') as f:\n",
    "        exp_ids = '#\\t#\\t#\\tExps\\t'+'\\t'.join(list(AP_MS.keys()))+'\\n'\n",
    "        f.write(exp_ids)\n",
    "        bait_accs = '#\\t#\\t#\\tBaits\\t'+'\\t'.join(baits)+'\\n'\n",
    "        f.write(bait_accs)\n",
    "        bait_comp = 'Preys\\t#\\tLength\\t#\\t'+'\\t'.join(baits)+'\\n'\n",
    "        f.write(bait_comp)\n",
    "        for prot in preys:\n",
    "            if 'ZIKV' in prot: continue\n",
    "            if prot in baits or prot in ('Capsid_Anchor',): continue\n",
    "            if prot not in prot_lengths:\n",
    "                missing_len.append(prot)\n",
    "                continue\n",
    "            line = '\\t'.join([prot, '#', str(prot_lengths[prot]), '#'])\n",
    "            for exp in AP_MS:\n",
    "                if prot in AP_MS[exp]:\n",
    "                    line += '\\t' + str(AP_MS[exp][prot])\n",
    "                else:\n",
    "                    line += '\\t0'\n",
    "            line += '\\n'\n",
    "            f.write(line)\n",
    "            n_lines += 1\n",
    "    print('{} lines written.'.format(n_lines))\n",
    "    print('missing prot lengths:', missing_len)"
   ]
  },
  {
   "cell_type": "code",
   "execution_count": 171,
   "metadata": {
    "ExecuteTime": {
     "end_time": "2020-09-22T04:13:57.243251Z",
     "start_time": "2020-09-22T04:13:57.180403Z"
    },
    "hidden": true
   },
   "outputs": [
    {
     "name": "stdout",
     "output_type": "stream",
     "text": [
      "2486 lines written.\n",
      "missing prot lengths: []\n"
     ]
    }
   ],
   "source": [
    "write_mist_data('ZIKV_ctrl_mist_data.txt', apms_psms_cnt_uniprot, uniprot_all_preys)"
   ]
  },
  {
   "cell_type": "code",
   "execution_count": 173,
   "metadata": {
    "ExecuteTime": {
     "end_time": "2020-09-22T04:14:01.204061Z",
     "start_time": "2020-09-22T04:14:01.146392Z"
    },
    "hidden": true
   },
   "outputs": [
    {
     "name": "stdout",
     "output_type": "stream",
     "text": [
      "1954 lines written.\n",
      "missing prot lengths: []\n"
     ]
    }
   ],
   "source": [
    "write_mist_data('ZIKV_custom_mist_data.txt', apms_psms_cnt_customlib, customlib_all_preys)"
   ]
  },
  {
   "cell_type": "code",
   "execution_count": 174,
   "metadata": {
    "ExecuteTime": {
     "end_time": "2020-09-22T04:14:03.023192Z",
     "start_time": "2020-09-22T04:14:02.062588Z"
    },
    "hidden": true
   },
   "outputs": [
    {
     "name": "stdout",
     "output_type": "stream",
     "text": [
      "#\t#\t#\tExps\tqx003992\tqx004064\tqx004086\tqx004220\tqx004240\tqx004265\tqx004297\tqx004313\tqx004327\tqx004012\tqx004046\tqx004080\tqx004218\tqx004242\tqx004271\tqx004014\tqx004044\tqx004094\r\n",
      "#\t#\t#\tBaits\tCapsid\tCapsid\tCapsid\tNS4A\tNS4A\tNS4A\tNS5\tNS5\tNS5\tNS3\tNS3\tNS3\tNS3\tNS3\tNS3\tNS2B3\tNS2B3\tNS2B3\r\n",
      "Preys\t#\tLength\t#\tCapsid\tCapsid\tCapsid\tNS4A\tNS4A\tNS4A\tNS5\tNS5\tNS5\tNS3\tNS3\tNS3\tNS3\tNS3\tNS3\tNS2B3\tNS2B3\tNS2B3\r\n",
      "Q9H871\t#\t391\t#\t0\t0\t0\t0\t0\t0\t3\t2\t3\t0\t0\t0\t0\t0\t0\t0\t0\t0\r\n",
      "P62277\t#\t151\t#\t30\t32\t27\t3\t7\t9\t30\t29\t29\t2\t3\t0\t8\t8\t10\t3\t3\t3\r\n",
      "Q9NV31\t#\t184\t#\t2\t2\t0\t0\t0\t0\t0\t0\t0\t0\t0\t0\t0\t0\t0\t0\t0\t0\r\n",
      "O43505\t#\t415\t#\t0\t0\t0\t3\t4\t3\t0\t0\t0\t1\t1\t0\t0\t0\t0\t1\t2\t0\r\n",
      "O14732\t#\t288\t#\t0\t0\t0\t1\t2\t1\t0\t0\t0\t0\t0\t0\t0\t1\t1\t0\t0\t0\r\n",
      "Q96K37\t#\t410\t#\t0\t0\t0\t1\t1\t1\t0\t0\t0\t0\t2\t0\t1\t0\t1\t0\t2\t1\r\n",
      "A5YKK6\t#\t2376\t#\t0\t0\t0\t0\t1\t3\t0\t0\t0\t1\t5\t0\t9\t8\t11\t1\t4\t1\r\n",
      "P23381\t#\t471\t#\t0\t0\t0\t0\t1\t1\t0\t0\t0\t0\t0\t0\t0\t1\t2\t0\t0\t0\r\n",
      "P26373\t#\t211\t#\t37\t31\t44\t14\t10\t14\t31\t36\t34\t10\t17\t15\t15\t17\t16\t10\t14\t8\r\n",
      "P09661\t#\t255\t#\t6\t12\t2\t0\t0\t0\t6\t7\t7\t0\t0\t0\t0\t0\t0\t0\t0\t0\r\n",
      "O60508\t#\t579\t#\t2\t1\t1\t0\t0\t0\t6\t3\t5\t0\t0\t0\t0\t0\t0\t0\t0\t0\r\n",
      "P53597\t#\t346\t#\t0\t0\t0\t0\t0\t0\t0\t0\t0\t1\t2\t0\t0\t1\t1\t0\t0\t0\r\n",
      "Q8IUX1\t#\t230\t#\t0\t0\t0\t2\t0\t1\t0\t0\t0\t0\t0\t0\t0\t0\t0\t0\t0\t0\r\n",
      "O95757\t#\t839\t#\t0\t0\t0\t0\t2\t1\t5\t10\t1\t12\t12\t9\t47\t15\t15\t4\t32\t6\r\n",
      "Q9BQ39\t#\t737\t#\t22\t25\t21\t0\t0\t0\t11\t13\t17\t1\t0\t0\t0\t0\t0\t0\t0\t0\r\n",
      "O95232\t#\t432\t#\t0\t0\t0\t0\t0\t0\t7\t6\t2\t0\t0\t0\t0\t0\t0\t0\t0\t0\r\n",
      "Q9H0H5\t#\t632\t#\t1\t0\t2\t0\t0\t0\t0\t0\t0\t0\t0\t0\t0\t0\t0\t0\t0\t0\r\n"
     ]
    }
   ],
   "source": [
    "!head -20 ZIKV_custom_mist_data.txt"
   ]
  },
  {
   "cell_type": "markdown",
   "metadata": {
    "heading_collapsed": true
   },
   "source": [
    "## run MiST"
   ]
  },
  {
   "cell_type": "code",
   "execution_count": 1,
   "metadata": {
    "ExecuteTime": {
     "end_time": "2020-09-22T23:54:38.012482Z",
     "start_time": "2020-09-22T23:54:34.749342Z"
    },
    "hidden": true
   },
   "outputs": [
    {
     "name": "stdout",
     "output_type": "stream",
     "text": [
      "###\n",
      "Run MiST on identifications with Swissprot library (control)\n",
      "###\n",
      "(2486, 18)\n",
      "mist/MiST.py:120: RuntimeWarning: invalid value encountered in true_divide\n",
      "  protx = TEMP[:,x] / sumx    # normalize per protein in replicates\n",
      "\n",
      "\t*****************************************************************\n",
      "\t*  Welcome to MiST - Mass spectrometry Interaction STatistics   *\n",
      "\t*       written by Peter Cimermancic (Krogan/Sali Lab)          *\n",
      "\t*                           May 2010                            *\n",
      "\t*****************************************************************\n",
      "\n",
      "Number of Preys: 2486\n",
      "Number of Experiments: 18\n",
      "Number of Baits: 5\n",
      "\n",
      "Thank you for using MiST!\n"
     ]
    }
   ],
   "source": [
    "print('###\\nRun MiST on identifications with Swissprot library (control)\\n###')\n",
    "# flag 1 == remove zeros, flag 0 == don't run PCA (no benchmark, use default weights...)\n",
    "!python3 mist/MiST.py ZIKV_ctrl_mist_data.txt ZIKV_ctrl 1 0\n",
    "%cat ZIKV_ctrl.log"
   ]
  },
  {
   "cell_type": "code",
   "execution_count": 2,
   "metadata": {
    "ExecuteTime": {
     "end_time": "2020-09-22T23:54:40.779329Z",
     "start_time": "2020-09-22T23:54:38.017455Z"
    },
    "hidden": true
   },
   "outputs": [
    {
     "name": "stdout",
     "output_type": "stream",
     "text": [
      "\n",
      "###\n",
      "Run MiST on identifications with custom library (proteogenomics)\n",
      "###\n",
      "(1954, 18)\n",
      "mist/MiST.py:120: RuntimeWarning: invalid value encountered in true_divide\n",
      "  protx = TEMP[:,x] / sumx    # normalize per protein in replicates\n",
      "\n",
      "\t*****************************************************************\n",
      "\t*  Welcome to MiST - Mass spectrometry Interaction STatistics   *\n",
      "\t*       written by Peter Cimermancic (Krogan/Sali Lab)          *\n",
      "\t*                           May 2010                            *\n",
      "\t*****************************************************************\n",
      "\n",
      "Number of Preys: 1954\n",
      "Number of Experiments: 18\n",
      "Number of Baits: 5\n",
      "\n",
      "Thank you for using MiST!\n"
     ]
    }
   ],
   "source": [
    "print('\\n###\\nRun MiST on identifications with custom library (proteogenomics)\\n###')\n",
    "!python3 mist/MiST.py ZIKV_custom_mist_data.txt ZIKV_custom 1 0\n",
    "%cat ZIKV_custom.log\n",
    "\n",
    "# this creates files \"ZIKV_ctrl_metrics.out\" and \"ZIKV_custom_metrics.out\" that will be parsed after"
   ]
  },
  {
   "cell_type": "code",
   "execution_count": 177,
   "metadata": {
    "ExecuteTime": {
     "end_time": "2020-09-22T04:14:17.832724Z",
     "start_time": "2020-09-22T04:14:17.825837Z"
    },
    "hidden": true
   },
   "outputs": [],
   "source": [
    "mist_weights = {\n",
    "    'Reproducibility' : 0.30853,\n",
    "    'Abundance' : 0.00596,\n",
    "    'Specificity' :0.68551,\n",
    "}"
   ]
  },
  {
   "cell_type": "markdown",
   "metadata": {
    "heading_collapsed": true
   },
   "source": [
    "## CompPASS"
   ]
  },
  {
   "cell_type": "code",
   "execution_count": 39,
   "metadata": {
    "ExecuteTime": {
     "end_time": "2020-09-21T20:17:13.561351Z",
     "start_time": "2020-09-21T20:17:13.555079Z"
    },
    "hidden": true
   },
   "outputs": [],
   "source": [
    "def write_comppass_input(AP_MS, condition):\n",
    "    with open('ZIKA_compass_input_{}.csv'.format(condition), 'w') as f:\n",
    "        writer = csv.writer(f, )\n",
    "        writer.writerow(('Experiment.ID','Replicate','Experiment.Type','Bait','Prey','Spectral.Count'))\n",
    "        n_exp = 0\n",
    "        for exp_id, psms in AP_MS.items():\n",
    "            n_exp += 1\n",
    "            bait = rep_bait_dict[exp_id]\n",
    "            for prey, psm_cnt in psms.items():\n",
    "                line = (str(n_exp), exp_id, 'True', bait, prey, psm_cnt)\n",
    "                writer.writerow(line)"
   ]
  },
  {
   "cell_type": "code",
   "execution_count": 40,
   "metadata": {
    "ExecuteTime": {
     "end_time": "2020-09-21T20:17:13.624421Z",
     "start_time": "2020-09-21T20:17:13.563298Z"
    },
    "hidden": true
   },
   "outputs": [],
   "source": [
    "write_comppass_input(apms_psms_cnt_uniprot, 'uniprot')"
   ]
  },
  {
   "cell_type": "code",
   "execution_count": 41,
   "metadata": {
    "ExecuteTime": {
     "end_time": "2020-09-21T20:17:13.673887Z",
     "start_time": "2020-09-21T20:17:13.626393Z"
    },
    "hidden": true
   },
   "outputs": [],
   "source": [
    "write_comppass_input(apms_psms_cnt_customlib, 'custom')"
   ]
  },
  {
   "cell_type": "code",
   "execution_count": 45,
   "metadata": {
    "ExecuteTime": {
     "end_time": "2020-09-17T16:05:16.819243Z",
     "start_time": "2020-09-17T16:05:16.813591Z"
    },
    "hidden": true
   },
   "outputs": [],
   "source": [
    "# CompPASS runs in R ..."
   ]
  },
  {
   "cell_type": "code",
   "execution_count": 178,
   "metadata": {
    "ExecuteTime": {
     "end_time": "2020-09-22T04:14:20.486323Z",
     "start_time": "2020-09-22T04:14:20.467910Z"
    },
    "hidden": true
   },
   "outputs": [],
   "source": [
    "def sanitize(s):\n",
    "    return s.replace('\"', '')\n",
    "\n",
    "def parse_comppass_output(fpath):\n",
    "    dtypes = {'Experiment.ID':int, 'Bait':sanitize, 'Prey':sanitize, 'AvePSM':float, 'Z':float, 'WD':float, 'Entropy':float}\n",
    "    comppass_out = []\n",
    "    with open(fpath, 'r') as f:\n",
    "        for n,l in enumerate(f):\n",
    "            fix_commas = {txt_field:txt_field.replace(',', '@') for txt_field in re.findall(r'\"([^\"]*)\"', l) if ',' in txt_field}\n",
    "            for txt_field in fix_commas:\n",
    "                l = l.replace(txt_field, fix_commas[txt_field])\n",
    "            ls = l.strip().split(',')\n",
    "            if n==0:\n",
    "                keys = [sanitize(x) for x in ls]\n",
    "                continue\n",
    "            line = dict(zip(keys, ls))\n",
    "            for i in line:\n",
    "                line[i] = dtypes[i](line[i])\n",
    "                if i in {'Bait', 'Prey'}:\n",
    "                    line[i] = line[i].replace('@', ',')\n",
    "            comppass_out.append(line)\n",
    "\n",
    "    return comppass_out"
   ]
  },
  {
   "cell_type": "code",
   "execution_count": 179,
   "metadata": {
    "ExecuteTime": {
     "end_time": "2020-09-22T04:14:20.885768Z",
     "start_time": "2020-09-22T04:14:20.873681Z"
    },
    "hidden": true
   },
   "outputs": [],
   "source": [
    "def get_net_from_comppass(comppass_output, top_x_percent):\n",
    "    cnt_prey_per_bait = Counter(x['Bait'] for x in comppass_output)\n",
    "    compass_hcip = []\n",
    "    for bait in zikv_baits:\n",
    "        cutoff = int(cnt_prey_per_bait[bait]*top_x_percent)\n",
    "        compass_hcip.extend(sorted([x for x in comppass_output if x['Bait']==bait], key=lambda x: -x['WD'])[:cutoff])\n",
    "    compass_hcip_net = set((x['Bait'], x['Prey']) for x in compass_hcip)\n",
    "    return compass_hcip_net"
   ]
  },
  {
   "cell_type": "code",
   "execution_count": 180,
   "metadata": {
    "ExecuteTime": {
     "end_time": "2020-09-22T04:14:21.249642Z",
     "start_time": "2020-09-22T04:14:21.242032Z"
    },
    "hidden": true
   },
   "outputs": [],
   "source": [
    "def get_comppass_score_dict(comppass_output):\n",
    "    return {(x['Bait'], x['Prey']):{'WD':x['WD'], 'Z':x['Z']} for x in comppass_output}"
   ]
  },
  {
   "cell_type": "code",
   "execution_count": 181,
   "metadata": {
    "ExecuteTime": {
     "end_time": "2020-09-22T04:14:22.206460Z",
     "start_time": "2020-09-22T04:14:21.612238Z"
    },
    "hidden": true
   },
   "outputs": [],
   "source": [
    "comppass_uniprot = parse_comppass_output('ZIKA_compass_output_uniprot.csv')\n",
    "comppass_custom = parse_comppass_output('ZIKA_compass_output_custom.csv')"
   ]
  },
  {
   "cell_type": "code",
   "execution_count": 182,
   "metadata": {
    "ExecuteTime": {
     "end_time": "2020-09-22T04:14:22.270585Z",
     "start_time": "2020-09-22T04:14:22.209927Z"
    },
    "hidden": true
   },
   "outputs": [],
   "source": [
    "uniprot_comppass_score_dict = get_comppass_score_dict(comppass_uniprot)\n",
    "custom_comppass_score_dict = get_comppass_score_dict(comppass_custom)"
   ]
  },
  {
   "cell_type": "markdown",
   "metadata": {
    "heading_collapsed": true
   },
   "source": [
    "## Parse detection statistics results and compare protein interaction sets"
   ]
  },
  {
   "cell_type": "markdown",
   "metadata": {
    "ExecuteTime": {
     "end_time": "2020-09-12T20:35:05.237182Z",
     "start_time": "2020-09-12T20:35:05.231856Z"
    },
    "heading_collapsed": true,
    "hidden": true
   },
   "source": [
    "### Interactions from Coyaud"
   ]
  },
  {
   "cell_type": "code",
   "execution_count": 44,
   "metadata": {
    "ExecuteTime": {
     "end_time": "2020-09-16T15:18:49.619310Z",
     "start_time": "2020-09-16T15:18:24.659650Z"
    },
    "collapsed": true,
    "hidden": true
   },
   "outputs": [
    {
     "name": "stdout",
     "output_type": "stream",
     "text": [
      "--2020-09-16 11:18:25--  https://www.mcponline.org/highwire/filestream/48813/field_highwire_adjunct_files/6/137442_1_supp_164802_pbg7ht.xlsx\n",
      "Resolving www.mcponline.org (www.mcponline.org)... 104.18.9.131, 104.18.8.131\n",
      "Connecting to www.mcponline.org (www.mcponline.org)|104.18.9.131|:443... connected.\n",
      "HTTP request sent, awaiting response... 302 Found\n",
      "Location: https://www.mcponline.org/content/mcprot/suppl/2018/07/23/TIR118.000800.DC1/137442_1_supp_164802_pbg7ht.xlsx [following]\n",
      "--2020-09-16 11:18:26--  https://www.mcponline.org/content/mcprot/suppl/2018/07/23/TIR118.000800.DC1/137442_1_supp_164802_pbg7ht.xlsx\n",
      "Reusing existing connection to www.mcponline.org:443.\n",
      "HTTP request sent, awaiting response... 200 OK\n",
      "Length: unspecified [application/vnd.openxmlformats-officedocument.spreadsheetml.sheet]\n",
      "Saving to: ‘137442_1_supp_164802_pbg7ht.xlsx.1’\n",
      "\n",
      "137442_1_supp_16480     [   <=>              ]   9.43M   569KB/s    in 22s     \n",
      "\n",
      "2020-09-16 11:18:49 (442 KB/s) - ‘137442_1_supp_164802_pbg7ht.xlsx.1’ saved [9885081]\n",
      "\n"
     ]
    }
   ],
   "source": [
    "!wget https://www.mcponline.org/highwire/filestream/48813/field_highwire_adjunct_files/6/137442_1_supp_164802_pbg7ht.xlsx"
   ]
  },
  {
   "cell_type": "code",
   "execution_count": 48,
   "metadata": {
    "ExecuteTime": {
     "end_time": "2020-09-21T20:18:54.887471Z",
     "start_time": "2020-09-21T20:18:26.490043Z"
    },
    "hidden": true
   },
   "outputs": [
    {
     "name": "stdout",
     "output_type": "stream",
     "text": [
      "count baits: 10 \n",
      "count unique preys: 696 \n",
      "count interactions: 1052\n",
      "Counter({'Capsid': 346, 'NS5': 194, 'NS4B': 84, 'NS1': 83, 'NS4A': 82, 'NS3': 79, 'NS2A': 57, 'NS2B3': 48, 'PreM': 47, 'Env': 32})\n",
      "\n",
      "keeping only interaction involving baits present in Shah:\n",
      "count baits shared with Shah: 5 \n",
      "count unique preys of those baits: 591 \n",
      "count interactions: 749\n",
      "Coyaud: 749\n",
      "Shah: 352\n",
      "Union of Shah & Coyaud (targets for training): 1062\n"
     ]
    },
    {
     "data": {
      "image/png": "[encoded data removed]",
      "text/plain": [
       "<Figure size 576x1152 with 2 Axes>"
      ]
     },
     "metadata": {},
     "output_type": "display_data"
    }
   ],
   "source": [
    "book = pyexcel.get_book(file_name='137442_1_supp_164802_pbg7ht.xlsx')\n",
    "coyau_s1 = book.to_dict()\n",
    "coyaud = set()\n",
    "coyaud_unfiltered = set()\n",
    "for sheet in ['Summary N-FIP', 'Summary C-FIP']:\n",
    "    for n, row in enumerate(coyau_s1[sheet]):\n",
    "        if n==0:\n",
    "            baits = [x.strip().replace('FlagBirA-', '').replace('-BirAFlag', '').replace('_FIP', '') for x in row if x]\n",
    "            baits = ['Capsid' if x =='C' else x for x in baits]\n",
    "            baits = ['NS2B3' if x =='NS2B' else x for x in baits]\n",
    "            baits_iter1 = (x for x in baits)\n",
    "            baits_iter2 = (x for x in baits)\n",
    "        if 'Gene ID' in row:\n",
    "            keys = [(next(baits_iter1), n) for n, x in enumerate(row) if 'SAINT' in x]\n",
    "            unflt_keys = [(next(baits_iter2), n) for n, x in enumerate(row) if 'Sum' in x]\n",
    "        elif row[0]:\n",
    "            refseq, gene = row[1:3]\n",
    "            saint = [row[x] for x in [x[1] for x in keys]]\n",
    "            unflt = [row[x] for x in [x[1] for x in unflt_keys]]\n",
    "            #r = dict(zip(keys, row))\n",
    "            hit_baits = [keys[n][0] for n, x in enumerate(saint) if x]\n",
    "            hit_baits_unflt = [unflt_keys[n][0] for n, x in enumerate(unflt) if x]\n",
    "            for b in hit_baits:\n",
    "                # if b not in zikv_baits: continue\n",
    "                if refseq in prot_acc_to_uniprot:\n",
    "                    coyaud.add((b, prot_acc_to_uniprot[refseq]))\n",
    "                else:\n",
    "                    coyaud.add((b, refseq))\n",
    "            for b in hit_baits_unflt:\n",
    "                if refseq in prot_acc_to_uniprot:\n",
    "                    coyaud_unfiltered.add((b, prot_acc_to_uniprot[refseq]))\n",
    "                else:\n",
    "                    coyaud_unfiltered.add((b, refseq))\n",
    "coyaud_ls = list(coyaud)\n",
    "print(\n",
    "    'count baits:', len(set(x[0] for x in coyaud_ls)),\n",
    "    '\\ncount unique preys:', len(set(x[1] for x in coyaud_ls)),\n",
    "    '\\ncount interactions:', len(coyaud)\n",
    ")\n",
    "print(Counter([x[0] for x in coyaud_ls]))\n",
    "\n",
    "print('\\nkeeping only interaction involving baits present in Shah:')\n",
    "coyaud_ls = [x for x in coyaud_ls if x[0] in zikv_baits]\n",
    "coyaud = set(coyaud_ls)\n",
    "print(\n",
    "    'count baits shared with Shah:', len(set(x[0] for x in coyaud_ls)),\n",
    "    '\\ncount unique preys of those baits:', len(set(x[1] for x in coyaud_ls)),\n",
    "    '\\ncount interactions:', len(coyaud)\n",
    ")\n",
    "\n",
    "print('Coyaud:', len(coyaud))\n",
    "print('Shah:', len(shah_net))\n",
    "\n",
    "targets = shah_net.union(coyaud)\n",
    "print('Union of Shah & Coyaud (targets for training):', len(targets))\n",
    "\n",
    "venn([{\n",
    "    'Shah et al\\nunfiltered':shah_unfiltered,\n",
    "    'Coyaud et al\\nunfiltered':coyaud_unfiltered\n",
    "},{\n",
    "    'Shah et al':shah_net,\n",
    "    'Coyaud et al':coyaud\n",
    "}])"
   ]
  },
  {
   "cell_type": "markdown",
   "metadata": {
    "heading_collapsed": true,
    "hidden": true
   },
   "source": [
    "### Score functions"
   ]
  },
  {
   "cell_type": "code",
   "execution_count": 184,
   "metadata": {
    "ExecuteTime": {
     "end_time": "2020-09-22T04:14:32.902225Z",
     "start_time": "2020-09-22T04:14:32.884285Z"
    },
    "hidden": true
   },
   "outputs": [],
   "source": [
    "# Score functions\n",
    "def compute_recall(HCIP, ref_edges_set):\n",
    "    TP = HCIP.intersection(ref_edges_set)\n",
    "    FN = ref_edges_set.difference(HCIP)\n",
    "    return len(TP)/(len(TP) + len(FN))\n",
    "\n",
    "def compute_precision(HCIP, ref_edges_set):\n",
    "    TP = HCIP.intersection(ref_edges_set)\n",
    "    FP = HCIP.difference(ref_edges_set)\n",
    "    if len(TP) + len(FP) == 0:\n",
    "        return 0.\n",
    "    return len(TP)/(len(TP) + len(FP))\n",
    "\n",
    "def compute_f1(HCIP, ref_edges_set):\n",
    "    recall    = compute_recall(HCIP, ref_edges_set)\n",
    "    precision = compute_precision(HCIP, ref_edges_set)\n",
    "    if recall + precision == 0 :\n",
    "        return 0.\n",
    "    return (2 * recall * precision) / (recall + precision)\n",
    "\n",
    "def score_computer(args):\n",
    "    thresh, metrics, ref_edges_set, score_thresh = args\n",
    "    HCIP = set((x['Bait'], x['Prey']) for x in metrics if x[score_thresh]>=thresh)\n",
    "    recall = compute_recall(HCIP, ref_edges_set)\n",
    "    precision = compute_precision(HCIP, ref_edges_set)\n",
    "    fscore = compute_f1(HCIP, ref_edges_set)\n",
    "    if fscore == 0 :\n",
    "        return 0.\n",
    "    return fscore, precision, recall"
   ]
  },
  {
   "cell_type": "markdown",
   "metadata": {
    "ExecuteTime": {
     "end_time": "2020-09-11T19:20:05.067030Z",
     "start_time": "2020-09-11T19:20:04.866304Z"
    },
    "hidden": true
   },
   "source": [
    "### Control run"
   ]
  },
  {
   "cell_type": "code",
   "execution_count": 185,
   "metadata": {
    "ExecuteTime": {
     "end_time": "2020-09-22T04:14:40.392297Z",
     "start_time": "2020-09-22T04:14:39.786613Z"
    },
    "hidden": true
   },
   "outputs": [
    {
     "name": "stdout",
     "output_type": "stream",
     "text": [
      "Unfiltered interactions (MiST output)\n",
      "Uniprot: 12430 \n",
      "Shah et al, unfiltered: 3721\n"
     ]
    },
    {
     "data": {
      "image/png": "[encoded data removed]",
      "text/plain": [
       "<Figure size 576x1728 with 3 Axes>"
      ]
     },
     "metadata": {},
     "output_type": "display_data"
    }
   ],
   "source": [
    "mist_metrics_ctrl = parse_mist_metrics('ZIKV_ctrl_metrics.out', mist_weights)\n",
    "ctrl_unfiltered = set((x['Bait'], x['Prey']) for x in mist_metrics_ctrl)\n",
    "\n",
    "print('Unfiltered interactions (MiST output)')\n",
    "print('Uniprot:', len(ctrl_unfiltered), '\\nShah et al, unfiltered:', len(shah_unfiltered))\n",
    "venn([{\n",
    "    'Control\\nunfiltered':ctrl_unfiltered,\n",
    "    'Shah et al\\nunfiltered':shah_unfiltered\n",
    "},{\n",
    "    'Control\\nunfiltered':ctrl_unfiltered,\n",
    "    'Coyaud et al':coyaud_unfiltered\n",
    "},{\n",
    "    'Control\\nunfiltered':ctrl_unfiltered,\n",
    "    'Shah et al\\nunfiltered':shah_unfiltered,\n",
    "    'Coyaud et al\\nunfiltered':coyaud_unfiltered\n",
    "}], file_path='ZIKV_figures/uniprot_shah_unfiltered_overlap.svg')"
   ]
  },
  {
   "cell_type": "code",
   "execution_count": 186,
   "metadata": {
    "ExecuteTime": {
     "end_time": "2020-09-22T04:14:40.913606Z",
     "start_time": "2020-09-22T04:14:40.641003Z"
    },
    "code_folding": [],
    "hidden": true
   },
   "outputs": [
    {
     "data": {
      "image/png": "[encoded data removed]",
      "text/plain": [
       "<Figure size 216x216 with 1 Axes>"
      ]
     },
     "metadata": {},
     "output_type": "display_data"
    }
   ],
   "source": [
    "# MiST score distribution\n",
    "fig, ax = plt.subplots(figsize=(3,3))\n",
    "ax.set_title('cumulative distribution of MiST scores (Uniprot)')\n",
    "ax.hist([x['mist_score'] for x in mist_metrics_ctrl], bins=100, cumulative=True, density=True, histtype='step')\n",
    "ax.set_xlabel('MiST score')\n",
    "ax.set_ylabel('portion of interactions')\n",
    "plt.show()"
   ]
  },
  {
   "cell_type": "code",
   "execution_count": 187,
   "metadata": {
    "ExecuteTime": {
     "end_time": "2020-09-22T04:14:41.718774Z",
     "start_time": "2020-09-22T04:14:41.425414Z"
    },
    "code_folding": [],
    "hidden": true
   },
   "outputs": [
    {
     "name": "stdout",
     "output_type": "stream",
     "text": [
      "After filtering (MiST score > 0.75) 1501 interactions are obtained, 312 of which are also in the published network.\n"
     ]
    },
    {
     "data": {
      "image/png": "[encoded data removed]",
      "text/plain": [
       "<Figure size 576x1728 with 3 Axes>"
      ]
     },
     "metadata": {},
     "output_type": "display_data"
    }
   ],
   "source": [
    "mist_thresh = 0.75\n",
    "mist_HCIP = set((x['Bait'], x['Prey']) for x in mist_metrics_ctrl if x['mist_score']>mist_thresh)\n",
    "\n",
    "print('After filtering (MiST score > {}) {} interactions are obtained, {} of which are also in the published network.'.format(\n",
    "mist_thresh, len(mist_HCIP), len(mist_HCIP.intersection(shah_net))))\n",
    "# Obtain top 5% interactions from CompPASS \n",
    "comppass_HCIP = get_net_from_comppass(comppass_uniprot, 0.05)\n",
    "\n",
    "venn([{\n",
    "    'Control\\nCompPASS HCIP':comppass_HCIP,\n",
    "    'Shah et al':shah_net\n",
    "},{\n",
    "    'Control\\nMiST HCIP':mist_HCIP,\n",
    "    'Shah et al':shah_net\n",
    "},{\n",
    "    'Control\\nCompPASS HCIP':comppass_HCIP,\n",
    "    'Control\\nMiST HCIP':mist_HCIP\n",
    "}])"
   ]
  },
  {
   "cell_type": "code",
   "execution_count": 188,
   "metadata": {
    "ExecuteTime": {
     "end_time": "2020-09-22T04:14:45.024761Z",
     "start_time": "2020-09-22T04:14:44.898315Z"
    },
    "hidden": true
   },
   "outputs": [
    {
     "data": {
      "image/png": "[encoded data removed]",
      "text/plain": [
       "<Figure size 216x216 with 1 Axes>"
      ]
     },
     "metadata": {},
     "output_type": "display_data"
    },
    {
     "name": "stdout",
     "output_type": "stream",
     "text": [
      "F1 score: 0.3367512142471668\n",
      "recall: 0.8863636363636364\n",
      "precision: 0.2078614257161892\n",
      "lenght MiST HCIP: 1501\n"
     ]
    }
   ],
   "source": [
    "venn([{\n",
    "    'Control\\nMiST HCIP':mist_HCIP,\n",
    "    'Shah et al':shah_net\n",
    "}], file_path='ZIKV_figures/uniprot_shah_mist_overlap.svg')\n",
    "print('F1 score:', compute_f1(mist_HCIP, shah_net))\n",
    "print('recall:', compute_recall(mist_HCIP, shah_net))\n",
    "print('precision:', compute_precision(mist_HCIP, shah_net))\n",
    "print('lenght MiST HCIP:', len(mist_HCIP))"
   ]
  },
  {
   "cell_type": "code",
   "execution_count": 189,
   "metadata": {
    "ExecuteTime": {
     "end_time": "2020-09-22T04:14:54.447002Z",
     "start_time": "2020-09-22T04:14:54.320738Z"
    },
    "hidden": true
   },
   "outputs": [
    {
     "data": {
      "image/png": "[encoded data removed]",
      "text/plain": [
       "<Figure size 216x216 with 1 Axes>"
      ]
     },
     "metadata": {},
     "output_type": "display_data"
    },
    {
     "name": "stdout",
     "output_type": "stream",
     "text": [
      "F1 score: 0.24713375796178344\n",
      "recall: 0.2755681818181818\n",
      "precision: 0.22401847575057737\n",
      "lenght MiST HCIP: 433\n"
     ]
    }
   ],
   "source": [
    "venn([{\n",
    "    'Control\\nCompPASS HCIP':comppass_HCIP,\n",
    "    'Shah et al':shah_net\n",
    "}], file_path='ZIKV_figures/uniprot_shah_compass_overlap.svg')\n",
    "\n",
    "print('F1 score:', compute_f1(comppass_HCIP, shah_net))\n",
    "print('recall:', compute_recall(comppass_HCIP, shah_net))\n",
    "print('precision:', compute_precision(comppass_HCIP, shah_net))\n",
    "print('lenght MiST HCIP:', len(comppass_HCIP))"
   ]
  },
  {
   "cell_type": "code",
   "execution_count": 191,
   "metadata": {
    "ExecuteTime": {
     "end_time": "2020-09-22T04:15:11.869079Z",
     "start_time": "2020-09-22T04:15:11.663490Z"
    },
    "hidden": true
   },
   "outputs": [
    {
     "data": {
      "image/png": "[encoded data removed]",
      "text/plain": [
       "<Figure size 216x216 with 1 Axes>"
      ]
     },
     "metadata": {},
     "output_type": "display_data"
    },
    {
     "name": "stdout",
     "output_type": "stream",
     "text": [
      "F1 score: 0.3099041533546326\n",
      "recall: 0.2755681818181818\n",
      "precision: 0.354014598540146\n",
      "Count MiST HCIP ∩ CompPASS HCIP: 274\n"
     ]
    }
   ],
   "source": [
    "venn([{\n",
    "    'Control\\nCompPASS HCIP':comppass_HCIP,\n",
    "    'Control\\nMiST HCIP':mist_HCIP,\n",
    "    'Shah et al':shah_net\n",
    "}], file_path = 'ZIKV_figures/uniprot_shah_mist_compass_overlap.svg')\n",
    "\n",
    "mist_comppass_HCIP = comppass_HCIP.intersection(mist_HCIP)\n",
    "print('F1 score:', compute_f1(mist_comppass_HCIP, shah_net))\n",
    "print('recall:', compute_recall(mist_comppass_HCIP, shah_net))\n",
    "print('precision:', compute_precision(mist_comppass_HCIP, shah_net))\n",
    "print('Count MiST HCIP ∩ CompPASS HCIP:', len(mist_comppass_HCIP))"
   ]
  },
  {
   "cell_type": "code",
   "execution_count": 192,
   "metadata": {
    "ExecuteTime": {
     "end_time": "2020-09-22T04:15:14.750323Z",
     "start_time": "2020-09-22T04:15:14.681921Z"
    },
    "hidden": true
   },
   "outputs": [],
   "source": [
    "zikv_control_metrics = []\n",
    "for ppi in mist_metrics_ctrl:\n",
    "    if not ppi['mist_score'] > 0: continue\n",
    "    bait_prey = (ppi['Bait'], ppi['Prey'])\n",
    "    #if bait_prey in uniprot_comppass_score_dict:\n",
    "    ppi['Z'] = uniprot_comppass_score_dict[bait_prey]['Z']\n",
    "    ppi['prey_gene'] = get_prey_gene(ppi['Prey'])\n",
    "    ppi['shared_shah'] = (ppi['Bait'], ppi['Prey']) in shah_net\n",
    "    zikv_control_metrics.append(ppi)"
   ]
  },
  {
   "cell_type": "markdown",
   "metadata": {
    "ExecuteTime": {
     "end_time": "2020-09-17T15:06:25.498852Z",
     "start_time": "2020-09-17T15:06:25.493734Z"
    }
   },
   "source": [
    "## Combine detection statistics with Naive Bayes"
   ]
  },
  {
   "cell_type": "markdown",
   "metadata": {
    "heading_collapsed": true
   },
   "source": [
    "### Naive Bayes"
   ]
  },
  {
   "cell_type": "code",
   "execution_count": 193,
   "metadata": {
    "ExecuteTime": {
     "end_time": "2020-09-22T04:15:18.642639Z",
     "start_time": "2020-09-22T04:15:18.624187Z"
    },
    "code_folding": [],
    "hidden": true
   },
   "outputs": [],
   "source": [
    "def NB_score_optimizer(metrics, comppass_scores_dict, return_models=False):    \n",
    "    metrics = [x for x in metrics if x['mist_score']>0.]\n",
    "    labels = [1 if (x['Bait'], x['Prey']) in targets else 0 for x in metrics]\n",
    "    scores = [(x['mist_score'], comppass_scores_dict[(x['Bait'], x['Prey'])]['Z']) for x in metrics]\n",
    "    \n",
    "    X = np.array(scores)\n",
    "    Y = np.array(labels)\n",
    "    clf = GaussianNB()\n",
    "    n_splits = 10\n",
    "    if return_models:\n",
    "        cv = cross_validate(clf, X, Y, return_estimator=True, cv=n_splits)\n",
    "        models = cv['estimator']\n",
    "    accuracy_scores = cross_val_score(clf, X, Y, cv=n_splits)\n",
    "    Y_pred = cross_val_predict(clf, X, Y, cv=n_splits, method='predict_proba')\n",
    "    pints = list(Y_pred[:,1])\n",
    "    for n, i in enumerate(metrics):\n",
    "        i['nb_score'] = pints[n]\n",
    "    \n",
    "    ret_array = [metrics, pints, labels, accuracy_scores]\n",
    "    if return_models:\n",
    "        ret_array.append(models)\n",
    "        \n",
    "    return ret_array"
   ]
  },
  {
   "cell_type": "code",
   "execution_count": 194,
   "metadata": {
    "ExecuteTime": {
     "end_time": "2020-09-22T04:15:19.364021Z",
     "start_time": "2020-09-22T04:15:19.205763Z"
    },
    "code_folding": [],
    "hidden": true
   },
   "outputs": [],
   "source": [
    "ZIKV_control_NB, y_pred, t, accuracy_scores = NB_score_optimizer(mist_metrics_ctrl, uniprot_comppass_score_dict)"
   ]
  },
  {
   "cell_type": "code",
   "execution_count": 196,
   "metadata": {
    "ExecuteTime": {
     "end_time": "2020-09-22T04:15:24.098883Z",
     "start_time": "2020-09-22T04:15:20.332955Z"
    },
    "hidden": true,
    "scrolled": false
   },
   "outputs": [
    {
     "data": {
      "image/png": "[encoded data removed]",
      "text/plain": [
       "<Figure size 360x360 with 2 Axes>"
      ]
     },
     "metadata": {},
     "output_type": "display_data"
    },
    {
     "data": {
      "text/html": [
       "<div>\n",
       "<style scoped>\n",
       "    .dataframe tbody tr th:only-of-type {\n",
       "        vertical-align: middle;\n",
       "    }\n",
       "\n",
       "    .dataframe tbody tr th {\n",
       "        vertical-align: top;\n",
       "    }\n",
       "\n",
       "    .dataframe thead th {\n",
       "        text-align: right;\n",
       "    }\n",
       "</style>\n",
       "<table border=\"1\" class=\"dataframe\">\n",
       "  <thead>\n",
       "    <tr style=\"text-align: right;\">\n",
       "      <th></th>\n",
       "      <th>threshold</th>\n",
       "      <th>Fscore</th>\n",
       "      <th>precision</th>\n",
       "      <th>recall</th>\n",
       "    </tr>\n",
       "  </thead>\n",
       "  <tbody>\n",
       "    <tr>\n",
       "      <th>0</th>\n",
       "      <td>0.482412</td>\n",
       "      <td>0.418485</td>\n",
       "      <td>0.381733</td>\n",
       "      <td>0.463068</td>\n",
       "    </tr>\n",
       "    <tr>\n",
       "      <th>1</th>\n",
       "      <td>0.487437</td>\n",
       "      <td>0.418231</td>\n",
       "      <td>0.395939</td>\n",
       "      <td>0.443182</td>\n",
       "    </tr>\n",
       "    <tr>\n",
       "      <th>2</th>\n",
       "      <td>0.472362</td>\n",
       "      <td>0.416565</td>\n",
       "      <td>0.364606</td>\n",
       "      <td>0.485795</td>\n",
       "    </tr>\n",
       "    <tr>\n",
       "      <th>3</th>\n",
       "      <td>0.467337</td>\n",
       "      <td>0.414692</td>\n",
       "      <td>0.355691</td>\n",
       "      <td>0.497159</td>\n",
       "    </tr>\n",
       "    <tr>\n",
       "      <th>4</th>\n",
       "      <td>0.492462</td>\n",
       "      <td>0.414169</td>\n",
       "      <td>0.397906</td>\n",
       "      <td>0.431818</td>\n",
       "    </tr>\n",
       "  </tbody>\n",
       "</table>\n",
       "</div>"
      ],
      "text/plain": [
       "   threshold    Fscore  precision    recall\n",
       "0   0.482412  0.418485   0.381733  0.463068\n",
       "1   0.487437  0.418231   0.395939  0.443182\n",
       "2   0.472362  0.416565   0.364606  0.485795\n",
       "3   0.467337  0.414692   0.355691  0.497159\n",
       "4   0.492462  0.414169   0.397906  0.431818"
      ]
     },
     "execution_count": 196,
     "metadata": {},
     "output_type": "execute_result"
    }
   ],
   "source": [
    "thresholds = np.linspace(0., 1., 200)\n",
    "args = zip(thresholds, [ZIKV_control_NB,]*len(thresholds), [shah_net,]*len(thresholds), ['nb_score']*len(thresholds))\n",
    "with Pool(10) as p:\n",
    "    scores = p.map(score_computer, args)\n",
    "    \n",
    "scores = [x for x in scores if type(x)==tuple]\n",
    "Fscores, precisions, recalls = zip(*scores)\n",
    "thresholds = thresholds[:len(scores)]\n",
    "\n",
    "fig, ax = plt.subplots(figsize=(5,5))\n",
    "ax.plot(thresholds, Fscores, label='Fscore')\n",
    "ax.plot(thresholds, precisions,  label='precision')\n",
    "ax.plot(thresholds, recalls, label='recall')\n",
    "ax.set_xlabel('NB score')\n",
    "ax.set_ylabel('Fscores')\n",
    "plt.legend()\n",
    "counts=[]\n",
    "for thresh in thresholds:\n",
    "    counts.append(len(set((x['Bait'], x['Prey']) for x in ZIKV_control_NB if x['nb_score']>thresh)))\n",
    "ax2 = ax.twinx()\n",
    "ax2.plot(thresholds, counts, 'k')\n",
    "plt.axvline(0.45, c='gray', linestyle='dotted')\n",
    "plt.savefig('ZIKV_figures/uniprot_NB_metrics.svg')\n",
    "plt.show()\n",
    "pd.DataFrame(sorted(list(zip(thresholds, Fscores, precisions, recalls)), key=lambda x: -x[1]), columns=['threshold', 'Fscore', 'precision', 'recall']).head(5)"
   ]
  },
  {
   "cell_type": "code",
   "execution_count": 197,
   "metadata": {
    "ExecuteTime": {
     "end_time": "2020-09-22T04:15:28.171821Z",
     "start_time": "2020-09-22T04:15:27.627813Z"
    },
    "code_folding": [],
    "hidden": true
   },
   "outputs": [
    {
     "data": {
      "image/png": "[encoded data removed]",
      "text/plain": [
       "<Figure size 432x288 with 1 Axes>"
      ]
     },
     "metadata": {},
     "output_type": "display_data"
    },
    {
     "data": {
      "image/png": "[encoded data removed]",
      "text/plain": [
       "<Figure size 432x288 with 1 Axes>"
      ]
     },
     "metadata": {},
     "output_type": "display_data"
    }
   ],
   "source": [
    "# ROC\n",
    "fpr, tpr, _ = roc_curve(t, y_pred)\n",
    "plt.plot(fpr, tpr)\n",
    "plt.show()\n",
    "\n",
    "# iso-F1 scores\n",
    "f_scores = np.linspace(0.2, 0.8, num=5)\n",
    "lines = []\n",
    "labels = []\n",
    "for f_score in f_scores:\n",
    "    x = np.linspace(0.01, 1)\n",
    "    y = f_score * x / (2 * x - f_score)\n",
    "    l, = plt.plot(x[y >= 0], y[y >= 0], color='gray', alpha=0.2)\n",
    "    plt.annotate('f1={0:0.1f}'.format(f_score), xy=(0.9, y[45] + 0.02))\n",
    "\n",
    "precision, recall, _ = precision_recall_curve(t, y_pred)\n",
    "plt.plot(recall, precision)\n",
    "plt.ylim(0,1)\n",
    "plt.show()"
   ]
  },
  {
   "cell_type": "code",
   "execution_count": 223,
   "metadata": {
    "ExecuteTime": {
     "end_time": "2020-09-22T05:13:36.822741Z",
     "start_time": "2020-09-22T05:13:36.314468Z"
    },
    "hidden": true
   },
   "outputs": [
    {
     "name": "stdout",
     "output_type": "stream",
     "text": [
      "unique preys: 665\n",
      "After filtering with 10 fold cross-validation 665 interactions are obtained, 199 of which are also in the published network.\n"
     ]
    },
    {
     "data": {
      "image/png": "[encoded data removed]",
      "text/plain": [
       "<Figure size 216x36 with 1 Axes>"
      ]
     },
     "metadata": {},
     "output_type": "display_data"
    },
    {
     "data": {
      "image/png": "[encoded data removed]",
      "text/plain": [
       "<Figure size 576x1152 with 2 Axes>"
      ]
     },
     "metadata": {},
     "output_type": "display_data"
    },
    {
     "name": "stdout",
     "output_type": "stream",
     "text": [
      "F1 score: 0.3913470993117011\n",
      "recall: 0.5653409090909091\n",
      "precision: 0.2992481203007519\n",
      "Count Naive Bayes HCIP: 665\n"
     ]
    }
   ],
   "source": [
    "nb_score_thresh=0.45\n",
    "ZIKV_ctrl_HCIP = set((x['Bait'], x['Prey']) for x in ZIKV_control_NB if x['nb_score']>nb_score_thresh)\n",
    "\n",
    "HCIP_preys = set(x[1] for x in ZIKV_ctrl_HCIP)\n",
    "print('unique preys:', len(HCIP_preys))\n",
    "\n",
    "HCIP_ctrl_intersection = ZIKV_ctrl_HCIP.intersection(shah_net)\n",
    "print('After filtering with 10 fold cross-validation {} interactions are obtained, {} of which are also in the published network.'.format(\n",
    "len(ZIKV_ctrl_HCIP), len(HCIP_ctrl_intersection)))\n",
    "\n",
    "fig, axs = plt.subplots(figsize=(3,0.5))\n",
    "axs.set_title('10 fold cross validation accuracy scores')\n",
    "axs.boxplot(accuracy_scores, vert=False)\n",
    "plt.box(False)\n",
    "plt.show()\n",
    "\n",
    "ZIKV_ctrl_NB_HCIP = [x for x in ZIKV_control_NB if x['nb_score']>nb_score_thresh]\n",
    "for bp in ZIKV_ctrl_NB_HCIP:\n",
    "    bp['prey_gene'] = get_prey_gene(bp['Prey'])\n",
    "    bp['in Shah'] = (bp['Bait'], bp['Prey']) in shah_net\n",
    "    bp['in Coyaud'] = (bp['Bait'], bp['Prey']) in coyaud\n",
    "pickle.dump(ZIKV_ctrl_NB_HCIP, open('ZIKV_ctrl_NB_HCIP.pkl', 'wb'))\n",
    "\n",
    "venn([{\n",
    "    'Control\\nNaive Bayes':ZIKV_ctrl_HCIP,\n",
    "    'Shah et al':shah_net\n",
    "},{\n",
    "    'Control\\nNaive Bayes':ZIKV_ctrl_HCIP,\n",
    "    'Shah et al':shah_net,\n",
    "    'Coyaud et al':coyaud,\n",
    "}], file_path='/home/xroucou_group/echange_de_fichiers/Zika_Marie_Seb/figure_pannels/1B_ctrl_shah_venn.svg')\n",
    "print('F1 score:', compute_f1(ZIKV_ctrl_HCIP, shah_net))\n",
    "print('recall:', compute_recall(ZIKV_ctrl_HCIP, shah_net))\n",
    "print('precision:', compute_precision(ZIKV_ctrl_HCIP, shah_net))\n",
    "print('Count Naive Bayes HCIP:', len(ZIKV_ctrl_HCIP))"
   ]
  },
  {
   "cell_type": "markdown",
   "metadata": {
    "hidden": true
   },
   "source": [
    "We asses the significance of the overlap between sets of edges using a hypergeometric test (Fisher's exact test)"
   ]
  },
  {
   "cell_type": "code",
   "execution_count": 82,
   "metadata": {
    "ExecuteTime": {
     "end_time": "2020-09-21T20:21:52.234120Z",
     "start_time": "2020-09-21T20:21:52.214472Z"
    },
    "hidden": true
   },
   "outputs": [
    {
     "name": "stdout",
     "output_type": "stream",
     "text": [
      "35.636792055878146 2.745913695131541e-174\n"
     ]
    }
   ],
   "source": [
    "# overlap significance with hypergegometric test\n",
    "ZIKV_ctrl_only   = len(ZIKV_ctrl_HCIP.difference(shah_net))\n",
    "shah_only   = len(shah_net.difference(ZIKV_ctrl_HCIP))\n",
    "intersect = len(ZIKV_ctrl_HCIP.intersection(shah_net))\n",
    "all_APMS = len(ctrl_unfiltered.union(shah_unfiltered))\n",
    "\n",
    "# contingency table:\n",
    "cont_table = [\n",
    "    [intersect, ZIKV_ctrl_only],\n",
    "    [shah_only, all_APMS]\n",
    "]\n",
    "odds_ratio, pval = stats.fisher_exact(cont_table)\n",
    "\n",
    "print(odds_ratio, pval)"
   ]
  },
  {
   "cell_type": "code",
   "execution_count": 83,
   "metadata": {
    "ExecuteTime": {
     "end_time": "2020-09-21T20:21:55.900470Z",
     "start_time": "2020-09-21T20:21:55.830467Z"
    },
    "hidden": true
   },
   "outputs": [],
   "source": [
    "fpath = '/home/xroucou_group/echange_de_fichiers/Zika_Marie_Seb/control_scored_ppi.tsv'\n",
    "with open(fpath, 'w') as f:\n",
    "    f.write('\\t'.join(['Bait', 'Prey', 'Prey Gene', 'MiST', 'CompPASS Z', 'Naive Bayes', 'shared with Shah'])+'\\n')\n",
    "    for ppi in zikv_control_metrics:\n",
    "        f.write('\\t'.join([str(ppi[x]) for x in ['Bait', 'Prey', 'prey_gene', 'mist_score', 'Z', 'nb_score', 'shared_shah']])+'\\n')"
   ]
  },
  {
   "cell_type": "markdown",
   "metadata": {
    "heading_collapsed": true
   },
   "source": [
    "### Custom"
   ]
  },
  {
   "cell_type": "code",
   "execution_count": 270,
   "metadata": {
    "ExecuteTime": {
     "end_time": "2020-09-22T11:50:28.006244Z",
     "start_time": "2020-09-22T11:50:27.719170Z"
    },
    "code_folding": [],
    "hidden": true
   },
   "outputs": [
    {
     "name": "stdout",
     "output_type": "stream",
     "text": [
      "Unfiltered interactions (MiST output)\n",
      "custom: 9770 \n",
      "ctrl: 12430\n"
     ]
    },
    {
     "data": {
      "image/png": "[encoded data removed]",
      "text/plain": [
       "<Figure size 216x216 with 1 Axes>"
      ]
     },
     "metadata": {},
     "output_type": "display_data"
    }
   ],
   "source": [
    "# load MiST ouput\n",
    "mist_metrics_custom = parse_mist_metrics('ZIKV_custom_metrics.out', mist_weights)\n",
    "custom_unfiltered = set((x['Bait'], x['Prey']) for x in mist_metrics_custom)\n",
    "# Split data between altProt and refProt hit (train only using refs)\n",
    "mist_metrics_noalts = [x for x in mist_metrics_custom if not is_alt(x['Prey'])]\n",
    "mist_metrics_alts   = [x for x in mist_metrics_custom if is_alt(x['Prey'])]\n",
    "custom_all_preys = set(x['Prey'] for x in mist_metrics_custom)\n",
    "\n",
    "print('Unfiltered interactions (MiST output)')\n",
    "print('custom:', len(custom_unfiltered), '\\nctrl:', len(ctrl_unfiltered))\n",
    "venn([{\n",
    "    'Proteogeno\\nunfiltered':custom_unfiltered,\n",
    "    'Control\\nunfiltered':ctrl_unfiltered\n",
    "}], file_path='ZIKV_figures/custom_control_unfiltered_overlap.svg')"
   ]
  },
  {
   "cell_type": "code",
   "execution_count": 274,
   "metadata": {
    "ExecuteTime": {
     "end_time": "2020-09-22T11:50:34.720601Z",
     "start_time": "2020-09-22T11:50:34.593096Z"
    },
    "hidden": true
   },
   "outputs": [
    {
     "data": {
      "image/png": "[encoded data removed]",
      "text/plain": [
       "<Figure size 216x216 with 1 Axes>"
      ]
     },
     "metadata": {},
     "output_type": "display_data"
    }
   ],
   "source": [
    "venn([{\n",
    "    'Custom':custom_all_preys,\n",
    "    'Control':uniprot_all_preys\n",
    "}], file_path='ZIKV_figures/custom_control_all_prey.svg')"
   ]
  },
  {
   "cell_type": "code",
   "execution_count": 275,
   "metadata": {
    "ExecuteTime": {
     "end_time": "2020-09-22T11:50:36.104057Z",
     "start_time": "2020-09-22T11:50:35.931354Z"
    },
    "hidden": true
   },
   "outputs": [],
   "source": [
    "ZIKV_custom_NB, y_pred, t, accuracy_scores, models = NB_score_optimizer(mist_metrics_noalts, custom_comppass_score_dict, return_models=True)"
   ]
  },
  {
   "cell_type": "code",
   "execution_count": 276,
   "metadata": {
    "ExecuteTime": {
     "end_time": "2020-09-22T11:50:44.098198Z",
     "start_time": "2020-09-22T11:50:36.674400Z"
    },
    "hidden": true,
    "scrolled": false
   },
   "outputs": [
    {
     "data": {
      "image/png": "[encoded data removed]",
      "text/plain": [
       "<Figure size 432x432 with 2 Axes>"
      ]
     },
     "metadata": {},
     "output_type": "display_data"
    },
    {
     "data": {
      "text/html": [
       "<div>\n",
       "<style scoped>\n",
       "    .dataframe tbody tr th:only-of-type {\n",
       "        vertical-align: middle;\n",
       "    }\n",
       "\n",
       "    .dataframe tbody tr th {\n",
       "        vertical-align: top;\n",
       "    }\n",
       "\n",
       "    .dataframe thead th {\n",
       "        text-align: right;\n",
       "    }\n",
       "</style>\n",
       "<table border=\"1\" class=\"dataframe\">\n",
       "  <thead>\n",
       "    <tr style=\"text-align: right;\">\n",
       "      <th></th>\n",
       "      <th>threshold</th>\n",
       "      <th>Fscores</th>\n",
       "      <th>precision</th>\n",
       "      <th>recall</th>\n",
       "    </tr>\n",
       "  </thead>\n",
       "  <tbody>\n",
       "    <tr>\n",
       "      <th>0</th>\n",
       "      <td>0.430168</td>\n",
       "      <td>0.771285</td>\n",
       "      <td>0.866792</td>\n",
       "      <td>0.694737</td>\n",
       "    </tr>\n",
       "    <tr>\n",
       "      <th>1</th>\n",
       "      <td>0.435754</td>\n",
       "      <td>0.769625</td>\n",
       "      <td>0.889546</td>\n",
       "      <td>0.678195</td>\n",
       "    </tr>\n",
       "    <tr>\n",
       "      <th>2</th>\n",
       "      <td>0.424581</td>\n",
       "      <td>0.768092</td>\n",
       "      <td>0.847550</td>\n",
       "      <td>0.702256</td>\n",
       "    </tr>\n",
       "    <tr>\n",
       "      <th>3</th>\n",
       "      <td>0.418994</td>\n",
       "      <td>0.751987</td>\n",
       "      <td>0.797639</td>\n",
       "      <td>0.711278</td>\n",
       "    </tr>\n",
       "    <tr>\n",
       "      <th>4</th>\n",
       "      <td>0.413408</td>\n",
       "      <td>0.743349</td>\n",
       "      <td>0.774878</td>\n",
       "      <td>0.714286</td>\n",
       "    </tr>\n",
       "  </tbody>\n",
       "</table>\n",
       "</div>"
      ],
      "text/plain": [
       "   threshold   Fscores  precision    recall\n",
       "0   0.430168  0.771285   0.866792  0.694737\n",
       "1   0.435754  0.769625   0.889546  0.678195\n",
       "2   0.424581  0.768092   0.847550  0.702256\n",
       "3   0.418994  0.751987   0.797639  0.711278\n",
       "4   0.413408  0.743349   0.774878  0.714286"
      ]
     },
     "execution_count": 276,
     "metadata": {},
     "output_type": "execute_result"
    }
   ],
   "source": [
    "thresholds = np.linspace(0., 1., 180)\n",
    "n_points = len(thresholds)\n",
    "args = zip(thresholds, [ZIKV_custom_NB,]*n_points, [ZIKV_ctrl_HCIP,]*n_points, ['nb_score',]*n_points)\n",
    "with Pool(10) as p:\n",
    "    scores = p.map(score_computer, args)\n",
    "    \n",
    "scores = [x for x in scores if type(x)==tuple]\n",
    "Fscores, precisions, recalls = zip(*scores)\n",
    "thresholds = thresholds[:len(scores)]\n",
    "\n",
    "fig, ax = plt.subplots(figsize=(6,6))\n",
    "ax.plot(thresholds, Fscores, label='Fscore')\n",
    "ax.plot(thresholds, precisions,  label='precision')\n",
    "ax.plot(thresholds, recalls, label='recall')\n",
    "plt.legend()\n",
    "ax.set_xlabel('NB score')\n",
    "ax.set_ylabel('Fscores')\n",
    "counts=[]\n",
    "for thresh in thresholds:\n",
    "    counts.append(len(set((x['Bait'], x['Prey']) for x in ZIKV_custom_NB if x['nb_score']>thresh)))\n",
    "ax2 = ax.twinx()\n",
    "ax2.plot(thresholds, counts, 'k')\n",
    "\n",
    "plt.axvline(0.42, c='gray', linestyle='dashed')\n",
    "plt.savefig('ZIKV_figures/custom_NB_metrics.svg')\n",
    "\n",
    "plt.show()\n",
    "pd.DataFrame(sorted(list(zip(thresholds, Fscores, precisions, recalls)), key=lambda x: -x[1]), columns=['threshold', 'Fscores', 'precision', 'recall']).head(5)"
   ]
  },
  {
   "cell_type": "code",
   "execution_count": 277,
   "metadata": {
    "ExecuteTime": {
     "end_time": "2020-09-22T11:50:44.262730Z",
     "start_time": "2020-09-22T11:50:44.100610Z"
    },
    "code_folding": [],
    "hidden": true
   },
   "outputs": [
    {
     "name": "stdout",
     "output_type": "stream",
     "text": [
      "590\n",
      "After filtering with 10 fold cross-validation 590 interactions are obtained, 159 of which are also in the published network.\n"
     ]
    },
    {
     "data": {
      "image/png": "[encoded data removed]",
      "text/plain": [
       "<Figure size 360x72 with 1 Axes>"
      ]
     },
     "metadata": {},
     "output_type": "display_data"
    }
   ],
   "source": [
    "# Custom\n",
    "nb_score_thresh=0.42\n",
    "ZIKV_custom_NB_HCIP = set((x['Bait'], x['Prey']) for x in ZIKV_custom_NB if x['nb_score']>nb_score_thresh)\n",
    "\n",
    "HCIP_preys = set(x[1] for x in ZIKV_custom_NB_HCIP)\n",
    "print(len(HCIP_preys))\n",
    "\n",
    "HCIP_custom_intersection = ZIKV_custom_NB_HCIP.intersection(shah_net)\n",
    "print('After filtering with 10 fold cross-validation {} interactions are obtained, {} of which are also in the published network.'.format(\n",
    "len(ZIKV_custom_NB_HCIP), len(HCIP_custom_intersection)))\n",
    "\n",
    "fig, axs = plt.subplots(figsize=(5,1))\n",
    "axs.set_title('10 fold cross validation accuracy scores')\n",
    "axs.boxplot(accuracy_scores, vert=False)\n",
    "axs.get_yaxis().set_visible(False)\n",
    "plt.box(False)\n",
    "plt.show()"
   ]
  },
  {
   "cell_type": "code",
   "execution_count": 278,
   "metadata": {
    "ExecuteTime": {
     "end_time": "2020-09-22T11:51:06.360973Z",
     "start_time": "2020-09-22T11:51:06.354751Z"
    },
    "hidden": true
   },
   "outputs": [],
   "source": [
    "ZIKV_custom_NB.extend(mist_metrics_alts)"
   ]
  },
  {
   "cell_type": "code",
   "execution_count": 279,
   "metadata": {
    "ExecuteTime": {
     "end_time": "2020-09-22T11:51:23.560701Z",
     "start_time": "2020-09-22T11:51:08.107040Z"
    },
    "hidden": true
   },
   "outputs": [
    {
     "name": "stdout",
     "output_type": "stream",
     "text": [
      "nb_score_thresh: 0.42\n"
     ]
    },
    {
     "data": {
      "text/html": [
       "<div>\n",
       "<style scoped>\n",
       "    .dataframe tbody tr th:only-of-type {\n",
       "        vertical-align: middle;\n",
       "    }\n",
       "\n",
       "    .dataframe tbody tr th {\n",
       "        vertical-align: top;\n",
       "    }\n",
       "\n",
       "    .dataframe thead th {\n",
       "        text-align: right;\n",
       "    }\n",
       "</style>\n",
       "<table border=\"1\" class=\"dataframe\">\n",
       "  <thead>\n",
       "    <tr style=\"text-align: right;\">\n",
       "      <th></th>\n",
       "      <th>Bait</th>\n",
       "      <th>Prey</th>\n",
       "      <th>Reproducibility</th>\n",
       "      <th>Abundance</th>\n",
       "      <th>Specificity</th>\n",
       "      <th>mist_score</th>\n",
       "      <th>Z</th>\n",
       "      <th>nb_score</th>\n",
       "      <th>prey_gene</th>\n",
       "      <th>shared_Shah</th>\n",
       "      <th>shared_Coyaud</th>\n",
       "      <th>shared_Uniprot</th>\n",
       "    </tr>\n",
       "  </thead>\n",
       "  <tbody>\n",
       "    <tr>\n",
       "      <th>0</th>\n",
       "      <td>NS4A</td>\n",
       "      <td>IP_058843</td>\n",
       "      <td>0.6302</td>\n",
       "      <td>0.0004</td>\n",
       "      <td>1.0000</td>\n",
       "      <td>0.879948</td>\n",
       "      <td>2.748737</td>\n",
       "      <td>0.439691</td>\n",
       "      <td>UBIAD1</td>\n",
       "      <td>False</td>\n",
       "      <td>False</td>\n",
       "      <td>False</td>\n",
       "    </tr>\n",
       "    <tr>\n",
       "      <th>1</th>\n",
       "      <td>Capsid</td>\n",
       "      <td>IP_209094</td>\n",
       "      <td>0.6301</td>\n",
       "      <td>0.0005</td>\n",
       "      <td>1.0000</td>\n",
       "      <td>0.879918</td>\n",
       "      <td>2.748737</td>\n",
       "      <td>0.439660</td>\n",
       "      <td>COL2A1</td>\n",
       "      <td>False</td>\n",
       "      <td>False</td>\n",
       "      <td>False</td>\n",
       "    </tr>\n",
       "    <tr>\n",
       "      <th>2</th>\n",
       "      <td>Capsid</td>\n",
       "      <td>IP_148668</td>\n",
       "      <td>0.6299</td>\n",
       "      <td>0.0007</td>\n",
       "      <td>1.0000</td>\n",
       "      <td>0.879857</td>\n",
       "      <td>2.748737</td>\n",
       "      <td>0.439597</td>\n",
       "      <td>LOC730101</td>\n",
       "      <td>False</td>\n",
       "      <td>False</td>\n",
       "      <td>False</td>\n",
       "    </tr>\n",
       "    <tr>\n",
       "      <th>3</th>\n",
       "      <td>NS4A</td>\n",
       "      <td>IP_086141</td>\n",
       "      <td>0.6218</td>\n",
       "      <td>0.0004</td>\n",
       "      <td>1.0000</td>\n",
       "      <td>0.877356</td>\n",
       "      <td>2.748737</td>\n",
       "      <td>0.437001</td>\n",
       "      <td>ANTXR1</td>\n",
       "      <td>False</td>\n",
       "      <td>False</td>\n",
       "      <td>False</td>\n",
       "    </tr>\n",
       "    <tr>\n",
       "      <th>4</th>\n",
       "      <td>NS3</td>\n",
       "      <td>IP_164367</td>\n",
       "      <td>0.3694</td>\n",
       "      <td>0.0007</td>\n",
       "      <td>1.0000</td>\n",
       "      <td>0.799485</td>\n",
       "      <td>2.748737</td>\n",
       "      <td>0.355609</td>\n",
       "      <td>UBXN2B</td>\n",
       "      <td>False</td>\n",
       "      <td>False</td>\n",
       "      <td>False</td>\n",
       "    </tr>\n",
       "    <tr>\n",
       "      <th>5</th>\n",
       "      <td>Capsid</td>\n",
       "      <td>IP_789258</td>\n",
       "      <td>0.5906</td>\n",
       "      <td>0.0005</td>\n",
       "      <td>1.0000</td>\n",
       "      <td>0.867731</td>\n",
       "      <td>1.619709</td>\n",
       "      <td>0.329194</td>\n",
       "      <td>RPS3AP38</td>\n",
       "      <td>False</td>\n",
       "      <td>False</td>\n",
       "      <td>False</td>\n",
       "    </tr>\n",
       "    <tr>\n",
       "      <th>6</th>\n",
       "      <td>NS5</td>\n",
       "      <td>IP_231479</td>\n",
       "      <td>0.5767</td>\n",
       "      <td>0.0004</td>\n",
       "      <td>0.5669</td>\n",
       "      <td>0.566547</td>\n",
       "      <td>1.257103</td>\n",
       "      <td>0.083140</td>\n",
       "      <td>LPCAT4</td>\n",
       "      <td>False</td>\n",
       "      <td>False</td>\n",
       "      <td>False</td>\n",
       "    </tr>\n",
       "    <tr>\n",
       "      <th>7</th>\n",
       "      <td>NS4A</td>\n",
       "      <td>IP_231479</td>\n",
       "      <td>0.6159</td>\n",
       "      <td>0.0003</td>\n",
       "      <td>0.4331</td>\n",
       "      <td>0.486920</td>\n",
       "      <td>1.257103</td>\n",
       "      <td>0.054710</td>\n",
       "      <td>LPCAT4</td>\n",
       "      <td>False</td>\n",
       "      <td>False</td>\n",
       "      <td>False</td>\n",
       "    </tr>\n",
       "  </tbody>\n",
       "</table>\n",
       "</div>"
      ],
      "text/plain": [
       "     Bait       Prey  Reproducibility  Abundance  Specificity  mist_score  \\\n",
       "0    NS4A  IP_058843           0.6302     0.0004       1.0000    0.879948   \n",
       "1  Capsid  IP_209094           0.6301     0.0005       1.0000    0.879918   \n",
       "2  Capsid  IP_148668           0.6299     0.0007       1.0000    0.879857   \n",
       "3    NS4A  IP_086141           0.6218     0.0004       1.0000    0.877356   \n",
       "4     NS3  IP_164367           0.3694     0.0007       1.0000    0.799485   \n",
       "5  Capsid  IP_789258           0.5906     0.0005       1.0000    0.867731   \n",
       "6     NS5  IP_231479           0.5767     0.0004       0.5669    0.566547   \n",
       "7    NS4A  IP_231479           0.6159     0.0003       0.4331    0.486920   \n",
       "\n",
       "          Z  nb_score  prey_gene  shared_Shah  shared_Coyaud  shared_Uniprot  \n",
       "0  2.748737  0.439691     UBIAD1        False          False           False  \n",
       "1  2.748737  0.439660     COL2A1        False          False           False  \n",
       "2  2.748737  0.439597  LOC730101        False          False           False  \n",
       "3  2.748737  0.437001     ANTXR1        False          False           False  \n",
       "4  2.748737  0.355609     UBXN2B        False          False           False  \n",
       "5  1.619709  0.329194   RPS3AP38        False          False           False  \n",
       "6  1.257103  0.083140     LPCAT4        False          False           False  \n",
       "7  1.257103  0.054710     LPCAT4        False          False           False  "
      ]
     },
     "execution_count": 279,
     "metadata": {},
     "output_type": "execute_result"
    }
   ],
   "source": [
    "for bp in ZIKV_custom_NB:\n",
    "    if not bp['mist_score']>0:continue\n",
    "    z = custom_comppass_score_dict[(bp['Bait'], bp['Prey'])]['Z']\n",
    "    cv_scores = []\n",
    "    X = np.array(\n",
    "        [bp['mist_score'],  z]\n",
    "    ).reshape(1, -1)\n",
    "    for model in models:\n",
    "        cv_scores.append(model.predict_proba(X)[0][1])\n",
    "    bp['Z'] = z\n",
    "    bp['nb_score'] = np.mean(cv_scores)\n",
    "    bp['prey_gene'] = get_prey_gene(bp['Prey'].replace('-', ''))\n",
    "    bp['shared_Shah'] = (bp['Bait'], bp['Prey']) in shah_net\n",
    "    bp['shared_Coyaud'] = (bp['Bait'], bp['Prey']) in coyaud\n",
    "    bp['shared_Uniprot'] = (bp['Bait'], bp['Prey']) in ZIKV_ctrl_HCIP\n",
    "\n",
    "pickle.dump([x for x in ZIKV_custom_NB if 'nb_score' in x], open('ZIKV_custom_NB.pkl', 'wb'))\n",
    "\n",
    "print('nb_score_thresh:', nb_score_thresh)\n",
    "pd.DataFrame(sorted([x for x in ZIKV_custom_NB if 'nb_score' in x if is_alt(x['Prey'])], key=lambda x: -x['nb_score']))"
   ]
  },
  {
   "cell_type": "code",
   "execution_count": 280,
   "metadata": {
    "ExecuteTime": {
     "end_time": "2020-09-22T11:51:23.570454Z",
     "start_time": "2020-09-22T11:51:23.563334Z"
    },
    "hidden": true
   },
   "outputs": [],
   "source": [
    "ZIKV_custom_NB_HCIP = set([(x['Bait'], x['Prey']) for x in ZIKV_custom_NB if 'nb_score' in x and x['nb_score']>0.42])"
   ]
  },
  {
   "cell_type": "code",
   "execution_count": 281,
   "metadata": {
    "ExecuteTime": {
     "end_time": "2020-09-22T11:51:23.684380Z",
     "start_time": "2020-09-22T11:51:23.573553Z"
    },
    "hidden": true
   },
   "outputs": [
    {
     "data": {
      "image/png": "[encoded data removed]",
      "text/plain": [
       "<Figure size 216x216 with 1 Axes>"
      ]
     },
     "metadata": {},
     "output_type": "display_data"
    }
   ],
   "source": [
    "venn([{\n",
    "    'Custom':ZIKV_custom_NB_HCIP,\n",
    "    'Control':ZIKV_ctrl_HCIP\n",
    "}], file_path='ZIKV_figures/custom_control_venn.svg')"
   ]
  },
  {
   "cell_type": "code",
   "execution_count": 284,
   "metadata": {
    "ExecuteTime": {
     "end_time": "2020-09-22T12:21:52.333342Z",
     "start_time": "2020-09-22T12:21:51.791795Z"
    },
    "code_folding": [],
    "hidden": true
   },
   "outputs": [
    {
     "data": {
      "image/png": "[encoded data removed]",
      "text/plain": [
       "<Figure size 720x2880 with 4 Axes>"
      ]
     },
     "metadata": {},
     "output_type": "display_data"
    }
   ],
   "source": [
    "fig, axs = plt.subplots(1,4,figsize=(10,40))\n",
    "\n",
    "data=[ZIKV_custom_NB_HCIP, shah_net]\n",
    "venn2(data, set_labels = ('proteogeno', 'Shah et al.'), ax=axs[0])\n",
    "venn2_circles(data, ax=axs[0])\n",
    "\n",
    "data=[ZIKV_custom_NB_HCIP, ZIKV_ctrl_HCIP]\n",
    "venn2(data, set_labels = ('proteogeno', 'Uniprot'), ax=axs[1])\n",
    "venn2_circles(data, ax=axs[1])\n",
    "\n",
    "data=[ZIKV_custom_NB_HCIP, ZIKV_ctrl_HCIP, shah_net]\n",
    "venn3(data, set_labels = ('proteogeno', 'Uniprot', 'Shah et al.'), ax=axs[2])\n",
    "venn3_circles(data, ax=axs[2])\n",
    "\n",
    "data=[ZIKV_custom_NB_HCIP, shah_net, coyaud]\n",
    "venn3(data, set_labels = ('proteogeno', 'Shah et al.', 'Coyaud'), ax=axs[3])\n",
    "venn3_circles(data, ax=axs[3])\n",
    "plt.savefig('ZIKV_figures/customlib_venn.svg')\n",
    "plt.show()"
   ]
  }
 ],
 "metadata": {
  "hide_input": false,
  "kernelspec": {
   "display_name": "Python 3",
   "language": "python",
   "name": "python3"
  },
  "language_info": {
   "codemirror_mode": {
    "name": "ipython",
    "version": 3
   },
   "file_extension": ".py",
   "mimetype": "text/x-python",
   "name": "python",
   "nbconvert_exporter": "python",
   "pygments_lexer": "ipython3",
   "version": "3.7.3"
  },
  "toc": {
   "colors": {
    "hover_highlight": "#DAA520",
    "navigate_num": "#000000",
    "navigate_text": "#333333",
    "running_highlight": "#FF0000",
    "selected_highlight": "#FFD700",
    "sidebar_border": "#EEEEEE",
    "wrapper_background": "#FFFFFF"
   },
   "moveMenuLeft": true,
   "nav_menu": {
    "height": "67.2727px",
    "width": "250px"
   },
   "navigate_menu": true,
   "number_sections": true,
   "sideBar": true,
   "threshold": 4,
   "toc_cell": false,
   "toc_section_display": "block",
   "toc_window_display": false,
   "widenNotebook": false
  },
  "varInspector": {
   "cols": {
    "lenName": 16,
    "lenType": 16,
    "lenVar": 40
   },
   "kernels_config": {
    "python": {
     "delete_cmd_postfix": "",
     "delete_cmd_prefix": "del ",
     "library": "var_list.py",
     "varRefreshCmd": "print(var_dic_list())"
    },
    "r": {
     "delete_cmd_postfix": ") ",
     "delete_cmd_prefix": "rm(",
     "library": "var_list.r",
     "varRefreshCmd": "cat(var_dic_list()) "
    }
   },
   "types_to_exclude": [
    "module",
    "function",
    "builtin_function_or_method",
    "instance",
    "_Feature"
   ],
   "window_display": false
  }
 },
 "nbformat": 4,
 "nbformat_minor": 2
}
